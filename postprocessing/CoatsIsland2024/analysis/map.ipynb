{
 "cells": [
  {
   "cell_type": "code",
   "execution_count": 9,
   "metadata": {},
   "outputs": [
    {
     "data": {
      "text/html": [
       "<div>\n",
       "<style scoped>\n",
       "    .dataframe tbody tr th:only-of-type {\n",
       "        vertical-align: middle;\n",
       "    }\n",
       "\n",
       "    .dataframe tbody tr th {\n",
       "        vertical-align: top;\n",
       "    }\n",
       "\n",
       "    .dataframe thead th {\n",
       "        text-align: right;\n",
       "    }\n",
       "</style>\n",
       "<table border=\"1\" class=\"dataframe\">\n",
       "  <thead>\n",
       "    <tr style=\"text-align: right;\">\n",
       "      <th></th>\n",
       "      <th>Datetime</th>\n",
       "      <th>Lat</th>\n",
       "      <th>Long</th>\n",
       "      <th>val</th>\n",
       "    </tr>\n",
       "  </thead>\n",
       "  <tbody>\n",
       "    <tr>\n",
       "      <th>0</th>\n",
       "      <td>2024-06-26 14:20:00</td>\n",
       "      <td>62.946870</td>\n",
       "      <td>-82.029900</td>\n",
       "      <td>0</td>\n",
       "    </tr>\n",
       "    <tr>\n",
       "      <th>1</th>\n",
       "      <td>2024-06-26 14:20:01</td>\n",
       "      <td>62.946870</td>\n",
       "      <td>-82.029900</td>\n",
       "      <td>0</td>\n",
       "    </tr>\n",
       "    <tr>\n",
       "      <th>2</th>\n",
       "      <td>2024-06-26 14:20:02</td>\n",
       "      <td>62.946870</td>\n",
       "      <td>-82.029900</td>\n",
       "      <td>0</td>\n",
       "    </tr>\n",
       "    <tr>\n",
       "      <th>3</th>\n",
       "      <td>2024-06-26 14:20:03</td>\n",
       "      <td>62.946870</td>\n",
       "      <td>-82.029900</td>\n",
       "      <td>0</td>\n",
       "    </tr>\n",
       "    <tr>\n",
       "      <th>4</th>\n",
       "      <td>2024-06-26 14:20:04</td>\n",
       "      <td>62.946870</td>\n",
       "      <td>-82.029900</td>\n",
       "      <td>0</td>\n",
       "    </tr>\n",
       "    <tr>\n",
       "      <th>...</th>\n",
       "      <td>...</td>\n",
       "      <td>...</td>\n",
       "      <td>...</td>\n",
       "      <td>...</td>\n",
       "    </tr>\n",
       "    <tr>\n",
       "      <th>1039796</th>\n",
       "      <td>2024-07-08 15:09:56</td>\n",
       "      <td>63.127382</td>\n",
       "      <td>-82.325561</td>\n",
       "      <td>0</td>\n",
       "    </tr>\n",
       "    <tr>\n",
       "      <th>1039797</th>\n",
       "      <td>2024-07-08 15:09:57</td>\n",
       "      <td>63.127381</td>\n",
       "      <td>-82.325566</td>\n",
       "      <td>0</td>\n",
       "    </tr>\n",
       "    <tr>\n",
       "      <th>1039798</th>\n",
       "      <td>2024-07-08 15:09:58</td>\n",
       "      <td>63.127381</td>\n",
       "      <td>-82.325571</td>\n",
       "      <td>0</td>\n",
       "    </tr>\n",
       "    <tr>\n",
       "      <th>1039799</th>\n",
       "      <td>2024-07-08 15:09:59</td>\n",
       "      <td>63.127381</td>\n",
       "      <td>-82.325575</td>\n",
       "      <td>0</td>\n",
       "    </tr>\n",
       "    <tr>\n",
       "      <th>1039800</th>\n",
       "      <td>2024-07-08 15:10:00</td>\n",
       "      <td>63.127380</td>\n",
       "      <td>-82.325580</td>\n",
       "      <td>0</td>\n",
       "    </tr>\n",
       "  </tbody>\n",
       "</table>\n",
       "<p>1039801 rows × 4 columns</p>\n",
       "</div>"
      ],
      "text/plain": [
       "                    Datetime        Lat       Long  val\n",
       "0        2024-06-26 14:20:00  62.946870 -82.029900    0\n",
       "1        2024-06-26 14:20:01  62.946870 -82.029900    0\n",
       "2        2024-06-26 14:20:02  62.946870 -82.029900    0\n",
       "3        2024-06-26 14:20:03  62.946870 -82.029900    0\n",
       "4        2024-06-26 14:20:04  62.946870 -82.029900    0\n",
       "...                      ...        ...        ...  ...\n",
       "1039796  2024-07-08 15:09:56  63.127382 -82.325561    0\n",
       "1039797  2024-07-08 15:09:57  63.127381 -82.325566    0\n",
       "1039798  2024-07-08 15:09:58  63.127381 -82.325571    0\n",
       "1039799  2024-07-08 15:09:59  63.127381 -82.325575    0\n",
       "1039800  2024-07-08 15:10:00  63.127380 -82.325580    0\n",
       "\n",
       "[1039801 rows x 4 columns]"
      ]
     },
     "execution_count": 9,
     "metadata": {},
     "output_type": "execute_result"
    }
   ],
   "source": [
    "import pandas as pd\n",
    "\n",
    "df = pd.read_csv('../coords_data/interpolated_coords.csv')\n",
    "df['val'] = [0 for i in range(len(df['Datetime']))]\n",
    "df"
   ]
  },
  {
   "cell_type": "code",
   "execution_count": null,
   "metadata": {},
   "outputs": [],
   "source": [
    "# Combined "
   ]
  },
  {
   "cell_type": "code",
   "execution_count": 10,
   "metadata": {},
   "outputs": [],
   "source": [
    "# Create H3 hexagons\n",
    "\n",
    "import h3\n",
    "\n",
    "h3_res = []\n",
    "\n",
    "res = 8 # set hex resolution (size of hexagons) default is 5 for us\n",
    "\n",
    "for longitude, latitude in zip(df['Long'].to_list(), df['Lat'].to_list()):\n",
    "    h3_index = h3.geo_to_h3(\n",
    "        lat=latitude,\n",
    "        lng=longitude,\n",
    "        resolution=res\n",
    "    )\n",
    "    h3_res.append(h3_index)\n",
    "\n",
    "df['h3_res'] = h3_res"
   ]
  },
  {
   "cell_type": "code",
   "execution_count": 11,
   "metadata": {},
   "outputs": [],
   "source": [
    "h3_df = df[['h3_res']] # new df with only h3 cell and id\n",
    "df_points = (h3_df\n",
    "             .groupby(['h3_res'])\n",
    "             .sum('val').reset_index())"
   ]
  },
  {
   "cell_type": "code",
   "execution_count": 12,
   "metadata": {},
   "outputs": [],
   "source": [
    "df_points['val'] = [0 for i in range(len(df_points['h3_res']))]"
   ]
  },
  {
   "cell_type": "code",
   "execution_count": 13,
   "metadata": {},
   "outputs": [],
   "source": [
    "# add geometry\n",
    "\n",
    "from shapely.geometry import Polygon\n",
    "\n",
    "def add_geometry(row):\n",
    "    # print(row)\n",
    "    points = h3.h3_to_geo_boundary(row['h3_res'], True)\n",
    "    # print(Polygon(points))\n",
    "    return Polygon(points)\n",
    "\n",
    "df_points['geometry'] = (df_points.apply(add_geometry,axis=1))"
   ]
  },
  {
   "cell_type": "code",
   "execution_count": 14,
   "metadata": {},
   "outputs": [],
   "source": [
    "# Function to generate geojson objects\n",
    "\n",
    "from geojson import Feature, Point, FeatureCollection, Polygon\n",
    "import json\n",
    "\n",
    "def hexagons_dataframe_to_geojson(df_hex, hex_id_field,geometry_field, value_field,file_output = None):\n",
    "\n",
    "    list_features = []\n",
    "    print(df_hex)\n",
    "\n",
    "    for i, row in df_hex.iterrows():\n",
    "        print(row)\n",
    "        feature = Feature(geometry = row[geometry_field],\n",
    "                          id = row[hex_id_field],\n",
    "                          properties = {\"value\": row[value_field]})\n",
    "        list_features.append(feature)\n",
    "\n",
    "    feat_collection = FeatureCollection(list_features)\n",
    "\n",
    "    if file_output is not None:\n",
    "        with open(file_output, \"w\") as f:\n",
    "            json.dump(feat_collection, f)\n",
    "\n",
    "    else:\n",
    "      return feat_collection"
   ]
  },
  {
   "cell_type": "code",
   "execution_count": 15,
   "metadata": {},
   "outputs": [
    {
     "name": "stdout",
     "output_type": "stream",
     "text": [
      "              h3_res  val                                           geometry\n",
      "0    880e320001fffff    0  POLYGON ((-81.65653214185822 63.29089606345037...\n",
      "1    880e320003fffff    0  POLYGON ((-81.64989268257706 63.28231840770102...\n",
      "2    880e320005fffff    0  POLYGON ((-81.67639900567839 63.29258558048302...\n",
      "3    880e320007fffff    0  POLYGON ((-81.66975348135946 63.28400892872999...\n",
      "4    880e320009fffff    0  POLYGON ((-81.64330453354717 63.2977819469463,...\n",
      "..               ...  ...                                                ...\n",
      "423  880e327ac7fffff    0  POLYGON ((-82.38574476653743 63.08714286295999...\n",
      "424  880e327acdfffff    0  POLYGON ((-82.3795859213579 63.10264015865532,...\n",
      "425  880e327ad1fffff    0  POLYGON ((-82.3394385232962 63.07540903822062,...\n",
      "426  880e327adbfffff    0  POLYGON ((-82.31968845118634 63.07381019718728...\n",
      "427  880e327addfffff    0  POLYGON ((-82.34622720256576 63.08395556584195...\n",
      "\n",
      "[428 rows x 3 columns]\n",
      "h3_res                                        880e320001fffff\n",
      "val                                                         0\n",
      "geometry    POLYGON ((-81.65653214185822 63.29089606345037...\n",
      "Name: 0, dtype: object\n",
      "h3_res                                        880e320003fffff\n",
      "val                                                         0\n",
      "geometry    POLYGON ((-81.64989268257706 63.28231840770102...\n",
      "Name: 1, dtype: object\n",
      "h3_res                                        880e320005fffff\n",
      "val                                                         0\n",
      "geometry    POLYGON ((-81.67639900567839 63.29258558048302...\n",
      "Name: 2, dtype: object\n",
      "h3_res                                        880e320007fffff\n",
      "val                                                         0\n",
      "geometry    POLYGON ((-81.66975348135946 63.28400892872999...\n",
      "Name: 3, dtype: object\n",
      "h3_res                                        880e320009fffff\n",
      "val                                                         0\n",
      "geometry    POLYGON ((-81.64330453354717 63.2977819469463,...\n",
      "Name: 4, dtype: object\n",
      "h3_res                                        880e32000dfffff\n",
      "val                                                         0\n",
      "geometry    POLYGON ((-81.66317542999849 63.29947325095035...\n",
      "Name: 5, dtype: object\n",
      "h3_res                                        880e320021fffff\n",
      "val                                                         0\n",
      "geometry    POLYGON ((-81.70948117010617 63.28738160030221...\n",
      "Name: 6, dtype: object\n",
      "h3_res                                        880e320027fffff\n",
      "val                                                         0\n",
      "geometry    POLYGON ((-81.72268817242389 63.28048964618752...\n",
      "Name: 7, dtype: object\n",
      "h3_res                                        880e320029fffff\n",
      "val                                                         0\n",
      "geometry    POLYGON ((-81.69626790098839 63.29427230641478...\n",
      "Name: 8, dtype: object\n",
      "h3_res                                        880e32002bfffff\n",
      "val                                                         0\n",
      "geometry    POLYGON ((-81.68961631202357 63.28569665975955...\n",
      "Name: 9, dtype: object\n",
      "h3_res                                        880e320031fffff\n",
      "val                                                         0\n",
      "geometry    POLYGON ((-81.67632462708356 63.26854396005693...\n",
      "Name: 10, dtype: object\n",
      "h3_res                                        880e320035fffff\n",
      "val                                                         0\n",
      "geometry    POLYGON ((-81.69617736612545 63.2702309107571,...\n",
      "Name: 11, dtype: object\n",
      "h3_res                                        880e320039fffff\n",
      "val                                                         0\n",
      "geometry    POLYGON ((-81.66311178592575 63.27543180868985...\n",
      "Name: 12, dtype: object\n",
      "h3_res                                        880e32003dfffff\n",
      "val                                                         0\n",
      "geometry    POLYGON ((-81.68296855509921 63.2771205440706,...\n",
      "Name: 13, dtype: object\n",
      "h3_res                                        880e320041fffff\n",
      "val                                                         0\n",
      "geometry    POLYGON ((-81.63670945842686 63.31324483597279...\n",
      "Name: 14, dtype: object\n",
      "h3_res                                        880e320045fffff\n",
      "val                                                         0\n",
      "geometry    POLYGON ((-81.65659046228288 63.31493692388526...\n",
      "Name: 15, dtype: object\n",
      "h3_res                                        880e320047fffff\n",
      "val                                                         0\n",
      "geometry    POLYGON ((-81.64994558193203 63.30635966987575...\n",
      "Name: 16, dtype: object\n",
      "h3_res                                        880e32004dfffff\n",
      "val                                                         0\n",
      "geometry    POLYGON ((-81.64335209541194 63.32182262513216...\n",
      "Name: 17, dtype: object\n",
      "h3_res                                        880e320063fffff\n",
      "val                                                         0\n",
      "geometry    POLYGON ((-81.68304836201548 63.30116176324007...\n",
      "Name: 18, dtype: object\n",
      "h3_res                                        880e32006bfffff\n",
      "val                                                         0\n",
      "geometry    POLYGON ((-81.66982255013214 63.3080499694923,...\n",
      "Name: 19, dtype: object\n",
      "h3_res                                        880e320181fffff\n",
      "val                                                         0\n",
      "geometry    POLYGON ((-81.74895004404895 63.24265991664161...\n",
      "Name: 20, dtype: object\n",
      "h3_res                                        880e320187fffff\n",
      "val                                                         0\n",
      "geometry    POLYGON ((-81.76212758722066 63.23576405931251...\n",
      "Name: 21, dtype: object\n",
      "h3_res                                        880e320189fffff\n",
      "val                                                         0\n",
      "geometry    POLYGON ((-81.73576625340058 63.24955453173312...\n",
      "Name: 22, dtype: object\n",
      "h3_res                                        880e3201a1fffff\n",
      "val                                                         0\n",
      "geometry    POLYGON ((-81.8017987545819 63.239111785357935...\n",
      "Name: 23, dtype: object\n",
      "h3_res                                        880e3201a7fffff\n",
      "val                                                         0\n",
      "geometry    POLYGON ((-81.81496197482065 63.23221113116867...\n",
      "Name: 24, dtype: object\n",
      "h3_res                                        880e3201a9fffff\n",
      "val                                                         0\n",
      "geometry    POLYGON ((-81.78862928892177 63.24601120052642...\n",
      "Name: 25, dtype: object\n",
      "h3_res                                        880e3201b5fffff\n",
      "val                                                         0\n",
      "geometry    POLYGON ((-81.78846394332048 63.22196862306783...\n",
      "Name: 26, dtype: object\n",
      "h3_res                                        880e3201bdfffff\n",
      "val                                                         0\n",
      "geometry    POLYGON ((-81.77529888596237 63.22886696102754...\n",
      "Name: 27, dtype: object\n",
      "h3_res                                        880e3201c3fffff\n",
      "val                                                         0\n",
      "geometry    POLYGON ((-81.72257621222867 63.25644790330479...\n",
      "Name: 28, dtype: object\n",
      "h3_res                                        880e3201c5fffff\n",
      "val                                                         0\n",
      "geometry    POLYGON ((-81.74908338887813 63.26670199908989...\n",
      "Name: 29, dtype: object\n",
      "h3_res                                        880e3201cbfffff\n",
      "val                                                         0\n",
      "geometry    POLYGON ((-81.70937991748609 63.2633400300739,...\n",
      "Name: 30, dtype: object\n",
      "h3_res                                        880e3201cdfffff\n",
      "val                                                         0\n",
      "geometry    POLYGON ((-81.73588891099634 63.27359644535536...\n",
      "Name: 31, dtype: object\n",
      "h3_res                                        880e3201e3fffff\n",
      "val                                                         0\n",
      "geometry    POLYGON ((-81.77545357478687 63.25290937539263...\n",
      "Name: 32, dtype: object\n",
      "h3_res                                        880e3201ebfffff\n",
      "val                                                         0\n",
      "geometry    POLYGON ((-81.7622716091236 63.259806308674605...\n",
      "Name: 33, dtype: object\n",
      "h3_res                                        880e320813fffff\n",
      "val                                                         0\n",
      "geometry    POLYGON ((-81.98681809461058 63.23856024941730...\n",
      "Name: 34, dtype: object\n",
      "h3_res                                        880e320819fffff\n",
      "val                                                         0\n",
      "geometry    POLYGON ((-81.98041722456121 63.25403855831553...\n",
      "Name: 35, dtype: object\n",
      "h3_res                                        880e32081bfffff\n",
      "val                                                         0\n",
      "geometry    POLYGON ((-81.97369359573248 63.24547633237127...\n",
      "Name: 36, dtype: object\n",
      "h3_res                                        880e320857fffff\n",
      "val                                                         0\n",
      "geometry    POLYGON ((-81.98714471669886 63.26260030748345...\n",
      "Name: 37, dtype: object\n",
      "h3_res                                        880e320881fffff\n",
      "val                                                         0\n",
      "geometry    POLYGON ((-81.97977561086718 63.2059566592249,...\n",
      "Name: 38, dtype: object\n",
      "h3_res                                        880e320883fffff\n",
      "val                                                         0\n",
      "geometry    POLYGON ((-81.97306306991165 63.19739361744398...\n",
      "Name: 39, dtype: object\n",
      "h3_res                                        880e320889fffff\n",
      "val                                                         0\n",
      "geometry    POLYGON ((-81.96666385052073 63.21287234401179...\n",
      "Name: 40, dtype: object\n",
      "h3_res                                        880e32088dfffff\n",
      "val                                                         0\n",
      "geometry    POLYGON ((-81.98649200251987 63.21451922701367...\n",
      "Name: 41, dtype: object\n",
      "h3_res                                        880e3208b3fffff\n",
      "val                                                         0\n",
      "geometry    POLYGON ((-81.99255057216835 63.17499722523763...\n",
      "Name: 42, dtype: object\n",
      "h3_res                                        880e3208b9fffff\n",
      "val                                                         0\n",
      "geometry    POLYGON ((-81.98616643913775 63.19047724868270...\n",
      "Name: 43, dtype: object\n",
      "h3_res                                        880e3208bbfffff\n",
      "val                                                         0\n",
      "geometry    POLYGON ((-81.97945558400636 63.1819142761158,...\n",
      "Name: 44, dtype: object\n",
      "h3_res                                        880e3208c5fffff\n",
      "val                                                         0\n",
      "geometry    POLYGON ((-81.9800961572967 63.229998089428435...\n",
      "Name: 45, dtype: object\n",
      "h3_res                                        880e3208c7fffff\n",
      "val                                                         0\n",
      "geometry    POLYGON ((-81.97337807697812 63.22143545405537...\n",
      "Name: 46, dtype: object\n",
      "h3_res                                        880e3208cdfffff\n",
      "val                                                         0\n",
      "geometry    POLYGON ((-81.96697382707094 63.23691363036465...\n",
      "Name: 47, dtype: object\n",
      "h3_res                                        880e320d03fffff\n",
      "val                                                         0\n",
      "geometry    POLYGON ((-81.92618284051369 63.1374391130909,...\n",
      "Name: 48, dtype: object\n",
      "h3_res                                        880e320d09fffff\n",
      "val                                                         0\n",
      "geometry    POLYGON ((-81.91977191082799 63.15291734283365...\n",
      "Name: 49, dtype: object\n",
      "h3_res                                        880e320d0bfffff\n",
      "val                                                         0\n",
      "geometry    POLYGON ((-81.91308840281023 63.14435046109088...\n",
      "Name: 50, dtype: object\n",
      "h3_res                                        880e320d11fffff\n",
      "val                                                         0\n",
      "geometry    POLYGON ((-81.8997328610603 63.12721529354329,...\n",
      "Name: 51, dtype: object\n",
      "h3_res                                        880e320d13fffff\n",
      "val                                                         0\n",
      "geometry    POLYGON ((-81.89306082112604 63.11864700916097...\n",
      "Name: 52, dtype: object\n",
      "h3_res                                        880e320d15fffff\n",
      "val                                                         0\n",
      "geometry    POLYGON ((-81.91950099284593 63.12887230503457...\n",
      "Name: 53, dtype: object\n",
      "h3_res                                        880e320d17fffff\n",
      "val                                                         0\n",
      "geometry    POLYGON ((-81.91282296785016 63.12030502939806...\n",
      "Name: 54, dtype: object\n",
      "h3_res                                        880e320d19fffff\n",
      "val                                                         0\n",
      "geometry    POLYGON ((-81.88663655687982 63.13412433300074...\n",
      "Name: 55, dtype: object\n",
      "h3_res                                        880e320d21fffff\n",
      "val                                                         0\n",
      "geometry    POLYGON ((-81.98551689336446 63.14239045788933...\n",
      "Name: 56, dtype: object\n",
      "h3_res                                        880e320d23fffff\n",
      "val                                                         0\n",
      "geometry    POLYGON ((-81.9788170839461 63.133826684834276...\n",
      "Name: 57, dtype: object\n",
      "h3_res                                        880e320d27fffff\n",
      "val                                                         0\n",
      "geometry    POLYGON ((-81.99859299815415 63.13547259165872...\n",
      "Name: 58, dtype: object\n",
      "h3_res                                        880e320d29fffff\n",
      "val                                                         0\n",
      "geometry    POLYGON ((-81.97243458587155 63.14930710298289...\n",
      "Name: 59, dtype: object\n",
      "h3_res                                        880e320d2dfffff\n",
      "val                                                         0\n",
      "geometry    POLYGON ((-81.99222053778458 63.15095376041486...\n",
      "Name: 60, dtype: object\n",
      "h3_res                                        880e320d41fffff\n",
      "val                                                         0\n",
      "geometry    POLYGON ((-81.91335426782598 63.16839496167058...\n",
      "Name: 61, dtype: object\n",
      "h3_res                                        880e320d43fffff\n",
      "val                                                         0\n",
      "geometry    POLYGON ((-81.90666909981068 63.15982800719448...\n",
      "Name: 62, dtype: object\n",
      "h3_res                                        880e320d49fffff\n",
      "val                                                         0\n",
      "geometry    POLYGON ((-81.90024307346205 63.17530494053175...\n",
      "Name: 63, dtype: object\n",
      "h3_res                                        880e320d4bfffff\n",
      "val                                                         0\n",
      "geometry    POLYGON ((-81.89356007785945 63.16673744466276...\n",
      "Name: 64, dtype: object\n",
      "h3_res                                        880e320d51fffff\n",
      "val                                                         0\n",
      "geometry    POLYGON ((-81.88020557037315 63.14960104693388...\n",
      "Name: 65, dtype: object\n",
      "h3_res                                        880e320d57fffff\n",
      "val                                                         0\n",
      "geometry    POLYGON ((-81.89331024744307 63.14269269214825...\n",
      "Name: 66, dtype: object\n",
      "h3_res                                        880e320d59fffff\n",
      "val                                                         0\n",
      "geometry    POLYGON ((-81.86709468634221 63.15650817417224...\n",
      "Name: 67, dtype: object\n",
      "h3_res                                        880e320d5dfffff\n",
      "val                                                         0\n",
      "geometry    POLYGON ((-81.88688091119924 63.15816947989306...\n",
      "Name: 68, dtype: object\n",
      "h3_res                                        880e320d65fffff\n",
      "val                                                         0\n",
      "geometry    POLYGON ((-81.98584140317948 63.16643432283656...\n",
      "Name: 69, dtype: object\n",
      "h3_res                                        880e320d67fffff\n",
      "val                                                         0\n",
      "geometry    POLYGON ((-81.97913607545205 63.15787094851397...\n",
      "Name: 70, dtype: object\n",
      "h3_res                                        880e320d6dfffff\n",
      "val                                                         0\n",
      "geometry    POLYGON ((-81.97274857328935 63.17335083094861...\n",
      "Name: 71, dtype: object\n",
      "h3_res                                        880e320d85fffff\n",
      "val                                                         0\n",
      "geometry    POLYGON ((-81.90588922430925 63.0876905430201,...\n",
      "Name: 72, dtype: object\n",
      "h3_res                                        880e320d87fffff\n",
      "val                                                         0\n",
      "geometry    POLYGON ((-81.89922429699456 63.07912194626075...\n",
      "Name: 73, dtype: object\n",
      "h3_res                                        880e320d8dfffff\n",
      "val                                                         0\n",
      "geometry    POLYGON ((-81.89281179792872 63.09460040411906...\n",
      "Name: 74, dtype: object\n",
      "h3_res                                        880e320da1fffff\n",
      "val                                                         0\n",
      "geometry    POLYGON ((-81.93869858870671 63.08243420527638...\n",
      "Name: 75, dtype: object\n",
      "h3_res                                        880e320da3fffff\n",
      "val                                                         0\n",
      "geometry    POLYGON ((-81.93202553748336 63.07386715845613...\n",
      "Name: 76, dtype: object\n",
      "h3_res                                        880e320da5fffff\n",
      "val                                                         0\n",
      "geometry    POLYGON ((-81.95843864925583 63.08408617949836...\n",
      "Name: 77, dtype: object\n",
      "h3_res                                        880e320da7fffff\n",
      "val                                                         0\n",
      "geometry    POLYGON ((-81.95175963314152 63.07552014130488...\n",
      "Name: 78, dtype: object\n",
      "h3_res                                        880e320dadfffff\n",
      "val                                                         0\n",
      "geometry    POLYGON ((-81.94537545324941 63.0910007865509,...\n",
      "Name: 79, dtype: object\n",
      "h3_res                                        880e320db1fffff\n",
      "val                                                         0\n",
      "geometry    POLYGON ((-81.90563010521437 63.06364288789328...\n",
      "Name: 80, dtype: object\n",
      "h3_res                                        880e320db7fffff\n",
      "val                                                         0\n",
      "geometry    POLYGON ((-81.9186908626577 63.05673167102218,...\n",
      "Name: 81, dtype: object\n",
      "h3_res                                        880e320dbbfffff\n",
      "val                                                         0\n",
      "geometry    POLYGON ((-81.88590586086819 63.06198336127566...\n",
      "Name: 82, dtype: object\n",
      "h3_res                                        880e320dbdfffff\n",
      "val                                                         0\n",
      "geometry    POLYGON ((-81.91229338392996 63.07221140634672...\n",
      "Name: 83, dtype: object\n",
      "h3_res                                        880e320de1fffff\n",
      "val                                                         0\n",
      "geometry    POLYGON ((-81.9192305128638 63.10482634151986,...\n",
      "Name: 84, dtype: object\n",
      "h3_res                                        880e320de3fffff\n",
      "val                                                         0\n",
      "geometry    POLYGON ((-81.91255796190316 63.09625867501004...\n",
      "Name: 85, dtype: object\n",
      "h3_res                                        880e320de7fffff\n",
      "val                                                         0\n",
      "geometry    POLYGON ((-81.93230607546143 63.09791417431523...\n",
      "Name: 86, dtype: object\n",
      "h3_res                                        880e320de9fffff\n",
      "val                                                         0\n",
      "geometry    POLYGON ((-81.90614876242823 63.11173728689263...\n",
      "Name: 87, dtype: object\n",
      "h3_res                                        880e320debfffff\n",
      "val                                                         0\n",
      "geometry    POLYGON ((-81.89947837348505 63.10316907822936...\n",
      "Name: 88, dtype: object\n",
      "h3_res                                        880e320f01fffff\n",
      "val                                                         0\n",
      "geometry    POLYGON ((-81.84106181983604 63.19436290008623...\n",
      "Name: 89, dtype: object\n",
      "h3_res                                        880e320f03fffff\n",
      "val                                                         0\n",
      "geometry    POLYGON ((-81.8343913780343 63.18579277299102,...\n",
      "Name: 90, dtype: object\n",
      "h3_res                                        880e320f05fffff\n",
      "val                                                         0\n",
      "geometry    POLYGON ((-81.86087217324126 63.1960275011361,...\n",
      "Name: 91, dtype: object\n",
      "h3_res                                        880e320f09fffff\n",
      "val                                                         0\n",
      "geometry    POLYGON ((-81.82792169755339 63.20126618394393...\n",
      "Name: 92, dtype: object\n",
      "h3_res                                        880e320f0bfffff\n",
      "val                                                         0\n",
      "geometry    POLYGON ((-81.82125344576701 63.19269551704642...\n",
      "Name: 93, dtype: object\n",
      "h3_res                                        880e320f0dfffff\n",
      "val                                                         0\n",
      "geometry    POLYGON ((-81.84773609063174 63.20293255842026...\n",
      "Name: 94, dtype: object\n",
      "h3_res                                        880e320f23fffff\n",
      "val                                                         0\n",
      "geometry    POLYGON ((-81.8871256616084 63.182213690914296...\n",
      "Name: 95, dtype: object\n",
      "h3_res                                        880e320f2bfffff\n",
      "val                                                         0\n",
      "geometry    POLYGON ((-81.87400202921742 63.18912121154151...\n",
      "Name: 96, dtype: object\n",
      "h3_res                                        880e320f31fffff\n",
      "val                                                         0\n",
      "geometry    POLYGON ((-81.8606485777155 63.17198358726301,...\n",
      "Name: 97, dtype: object\n",
      "h3_res                                        880e320f37fffff\n",
      "val                                                         0\n",
      "geometry    POLYGON ((-81.87376785121165 63.16507714814496...\n",
      "Name: 98, dtype: object\n",
      "h3_res                                        880e320f39fffff\n",
      "val                                                         0\n",
      "geometry    POLYGON ((-81.84752308767004 63.1788887959707,...\n",
      "Name: 99, dtype: object\n",
      "h3_res                                        880e320f43fffff\n",
      "val                                                         0\n",
      "geometry    POLYGON ((-81.81477534607022 63.2081682332462,...\n",
      "Name: 100, dtype: object\n",
      "h3_res                                        880e320f45fffff\n",
      "val                                                         0\n",
      "geometry    POLYGON ((-81.84126969124598 63.21840611085071...\n",
      "Name: 101, dtype: object\n",
      "h3_res                                        880e320f47fffff\n",
      "val                                                         0\n",
      "geometry    POLYGON ((-81.83459377834045 63.20983638211560...\n",
      "Name: 102, dtype: object\n",
      "h3_res                                        880e320f4bfffff\n",
      "val                                                         0\n",
      "geometry    POLYGON ((-81.80162276234113 63.21506904671402...\n",
      "Name: 103, dtype: object\n",
      "h3_res                                        880e320f4dfffff\n",
      "val                                                         0\n",
      "geometry    POLYGON ((-81.82811895269104 63.22530923923946...\n",
      "Name: 104, dtype: object\n",
      "h3_res                                        880e320f63fffff\n",
      "val                                                         0\n",
      "geometry    POLYGON ((-81.86755246261934 63.20459614981321...\n",
      "Name: 105, dtype: object\n",
      "h3_res                                        880e320f6bfffff\n",
      "val                                                         0\n",
      "geometry    POLYGON ((-81.85441419353796 63.21150174728218...\n",
      "Name: 106, dtype: object\n",
      "h3_res                                        880e322b41fffff\n",
      "val                                                         0\n",
      "geometry    POLYGON ((-81.72760678177525 62.92834530477973...\n",
      "Name: 107, dtype: object\n",
      "h3_res                                        880e322b45fffff\n",
      "val                                                         0\n",
      "geometry    POLYGON ((-81.74723606594259 62.93002807980902...\n",
      "Name: 108, dtype: object\n",
      "h3_res                                        880e322b49fffff\n",
      "val                                                         0\n",
      "geometry    POLYGON ((-81.71455641804626 62.93524013714816...\n",
      "Name: 109, dtype: object\n",
      "h3_res                                        880e322b69fffff\n",
      "val                                                         0\n",
      "geometry    POLYGON ((-81.76686731631001 62.93170810477967...\n",
      "Name: 110, dtype: object\n",
      "h3_res                                        880e322b6dfffff\n",
      "val                                                         0\n",
      "geometry    POLYGON ((-81.78650052856307 62.93338537921787...\n",
      "Name: 111, dtype: object\n",
      "h3_res                                        880e323925fffff\n",
      "val                                                         0\n",
      "geometry    POLYGON ((-81.77391790636469 63.01244302532981...\n",
      "Name: 112, dtype: object\n",
      "h3_res                                        880e323927fffff\n",
      "val                                                         0\n",
      "geometry    POLYGON ((-81.767307132181 63.003866741751885,...\n",
      "Name: 113, dtype: object\n",
      "h3_res                                        880e3239a1fffff\n",
      "val                                                         0\n",
      "geometry    POLYGON ((-81.70807845434152 62.95071419720088...\n",
      "Name: 114, dtype: object\n",
      "h3_res                                        880e3239a7fffff\n",
      "val                                                         0\n",
      "geometry    POLYGON ((-81.7211371140841 62.943820044352485...\n",
      "Name: 115, dtype: object\n",
      "h3_res                                        880e3239a9fffff\n",
      "val                                                         0\n",
      "geometry    POLYGON ((-81.69501366811997 62.95760712874587...\n",
      "Name: 116, dtype: object\n",
      "h3_res                                        880e3239adfffff\n",
      "val                                                         0\n",
      "geometry    POLYGON ((-81.71466072356957 62.95929419415571...\n",
      "Name: 117, dtype: object\n",
      "h3_res                                        880e3239e1fffff\n",
      "val                                                         0\n",
      "geometry    POLYGON ((-81.68852065943788 62.97307991419477...\n",
      "Name: 118, dtype: object\n",
      "h3_res                                        880e3239e7fffff\n",
      "val                                                         0\n",
      "geometry    POLYGON ((-81.70159375794726 62.96618766561811...\n",
      "Name: 119, dtype: object\n",
      "h3_res                                        880e3244dbfffff\n",
      "val                                                         0\n",
      "geometry    POLYGON ((-82.27621667214702 63.1822634745817,...\n",
      "Name: 120, dtype: object\n",
      "h3_res                                        880e324603fffff\n",
      "val                                                         0\n",
      "geometry    POLYGON ((-82.298349947445 63.280016650078146,...\n",
      "Name: 121, dtype: object\n",
      "h3_res                                        880e324605fffff\n",
      "val                                                         0\n",
      "geometry    POLYGON ((-82.32506695503088 63.29016078246864...\n",
      "Name: 122, dtype: object\n",
      "h3_res                                        880e324607fffff\n",
      "val                                                         0\n",
      "geometry    POLYGON ((-82.31823693435717 63.28161651536466...\n",
      "Name: 123, dtype: object\n",
      "h3_res                                        880e32460bfffff\n",
      "val                                                         0\n",
      "geometry    POLYGON ((-82.28528280901968 63.28696032679419...\n",
      "Name: 124, dtype: object\n",
      "h3_res                                        880e324611fffff\n",
      "val                                                         0\n",
      "geometry    POLYGON ((-82.27165078645747 63.26986715835336...\n",
      "Name: 125, dtype: object\n",
      "h3_res                                        880e324613fffff\n",
      "val                                                         0\n",
      "geometry    POLYGON ((-82.26484063659056 63.26131984275047...\n",
      "Name: 126, dtype: object\n",
      "h3_res                                        880e324615fffff\n",
      "val                                                         0\n",
      "geometry    POLYGON ((-82.29152986657064 63.27147085706431...\n",
      "Name: 127, dtype: object\n",
      "h3_res                                        880e324617fffff\n",
      "val                                                         0\n",
      "geometry    POLYGON ((-82.28471369532586 63.26292457594693...\n",
      "Name: 128, dtype: object\n",
      "h3_res                                        880e32461dfffff\n",
      "val                                                         0\n",
      "geometry    POLYGON ((-82.27846484287736 63.27841398660789...\n",
      "Name: 129, dtype: object\n",
      "h3_res                                        880e324629fffff\n",
      "val                                                         0\n",
      "geometry    POLYGON ((-82.34496184622193 63.29175681095231...\n",
      "Name: 130, dtype: object\n",
      "h3_res                                        880e324639fffff\n",
      "val                                                         0\n",
      "geometry    POLYGON ((-82.31141082956073 63.27307175868094...\n",
      "Name: 131, dtype: object\n",
      "h3_res                                        880e324641fffff\n",
      "val                                                         0\n",
      "geometry    POLYGON ((-82.28585284907149 63.31099509469295...\n",
      "Name: 132, dtype: object\n",
      "h3_res                                        880e324643fffff\n",
      "val                                                         0\n",
      "geometry    POLYGON ((-82.279029172028 63.30244918585857, ...\n",
      "Name: 133, dtype: object\n",
      "h3_res                                        880e324645fffff\n",
      "val                                                         0\n",
      "geometry    POLYGON ((-82.30576019752377 63.31259641174156...\n",
      "Name: 134, dtype: object\n",
      "h3_res                                        880e32464dfffff\n",
      "val                                                         0\n",
      "geometry    POLYGON ((-82.29268044545952 63.31954051333401...\n",
      "Name: 135, dtype: object\n",
      "h3_res                                        880e324655fffff\n",
      "val                                                         0\n",
      "geometry    POLYGON ((-82.27220941114868 63.29390278755136...\n",
      "Name: 136, dtype: object\n",
      "h3_res                                        880e324657fffff\n",
      "val                                                         0\n",
      "geometry    POLYGON ((-82.26539356325624 63.28535590049147...\n",
      "Name: 137, dtype: object\n",
      "h3_res                                        880e324667fffff\n",
      "val                                                         0\n",
      "geometry    POLYGON ((-82.35180181548485 63.30029954882356...\n",
      "Name: 138, dtype: object\n",
      "h3_res                                        880e324681fffff\n",
      "val                                                         0\n",
      "geometry    POLYGON ((-82.2574880433288 63.228734584838946...\n",
      "Name: 139, dtype: object\n",
      "h3_res                                        880e324683fffff\n",
      "val                                                         0\n",
      "geometry    POLYGON ((-82.25069137277448 63.2201858739994,...\n",
      "Name: 140, dtype: object\n",
      "h3_res                                        880e324689fffff\n",
      "val                                                         0\n",
      "geometry    POLYGON ((-82.24443359466098 63.23567497904682...\n",
      "Name: 141, dtype: object\n",
      "h3_res                                        880e32468bfffff\n",
      "val                                                         0\n",
      "geometry    POLYGON ((-82.23763903937517 63.22712572124445...\n",
      "Name: 142, dtype: object\n",
      "h3_res                                        880e32468dfffff\n",
      "val                                                         0\n",
      "geometry    POLYGON ((-82.26428860770416 63.23728281117266...\n",
      "Name: 143, dtype: object\n",
      "h3_res                                        880e324691fffff\n",
      "val                                                         0\n",
      "geometry    POLYGON ((-82.22406159791362 63.21002575510035...\n",
      "Name: 144, dtype: object\n",
      "h3_res                                        880e32469bfffff\n",
      "val                                                         0\n",
      "geometry    POLYGON ((-82.20422649397209 63.2084120417969,...\n",
      "Name: 145, dtype: object\n",
      "h3_res                                        880e32469dfffff\n",
      "val                                                         0\n",
      "geometry    POLYGON ((-82.23084837484284 63.21857597968947...\n",
      "Name: 146, dtype: object\n",
      "h3_res                                        880e3246b9fffff\n",
      "val                                                         0\n",
      "geometry    POLYGON ((-82.26373747441232 63.21324481416714...\n",
      "Name: 147, dtype: object\n",
      "h3_res                                        880e3246bbfffff\n",
      "val                                                         0\n",
      "geometry    POLYGON ((-82.25694258267094 63.20469616676894...\n",
      "Name: 148, dtype: object\n",
      "h3_res                                        880e3246c5fffff\n",
      "val                                                         0\n",
      "geometry    POLYGON ((-82.25803439011038 63.25277204051887...\n",
      "Name: 149, dtype: object\n",
      "h3_res                                        880e3246c7fffff\n",
      "val                                                         0\n",
      "geometry    POLYGON ((-82.25123204385382 63.24422375237793...\n",
      "Name: 150, dtype: object\n",
      "h3_res                                        880e3246e9fffff\n",
      "val                                                         0\n",
      "geometry    POLYGON ((-82.27790143054258 63.25437780744608...\n",
      "Name: 151, dtype: object\n",
      "h3_res                                        880e3246ebfffff\n",
      "val                                                         0\n",
      "geometry    POLYGON ((-82.27109306905592 63.24583055228146...\n",
      "Name: 152, dtype: object\n",
      "h3_res                                        880e324751fffff\n",
      "val                                                         0\n",
      "geometry    POLYGON ((-82.39160926900593 63.30348112374138...\n",
      "Name: 153, dtype: object\n",
      "h3_res                                        880e324753fffff\n",
      "val                                                         0\n",
      "geometry    POLYGON ((-82.3847572423131 63.29494046700265,...\n",
      "Name: 154, dtype: object\n",
      "h3_res                                        880e324755fffff\n",
      "val                                                         0\n",
      "geometry    POLYGON ((-82.41151579271835 63.30506770822836...\n",
      "Name: 155, dtype: object\n",
      "h3_res                                        880e324757fffff\n",
      "val                                                         0\n",
      "geometry    POLYGON ((-82.40465773814049 63.29652809368942...\n",
      "Name: 156, dtype: object\n",
      "h3_res                                        880e32475bfffff\n",
      "val                                                         0\n",
      "geometry    POLYGON ((-82.371704608414 63.301891737126795,...\n",
      "Name: 157, dtype: object\n",
      "h3_res                                        880e32475dfffff\n",
      "val                                                         0\n",
      "geometry    POLYGON ((-82.39846522715968 63.31202128718615...\n",
      "Name: 158, dtype: object\n",
      "h3_res                                        880e3254a5fffff\n",
      "val                                                         0\n",
      "geometry    POLYGON ((-82.28642381774483 63.33502887123814...\n",
      "Name: 159, dtype: object\n",
      "h3_res                                        880e3254a9fffff\n",
      "val                                                         0\n",
      "geometry    POLYGON ((-82.253403537708 63.340365504186245,...\n",
      "Name: 160, dtype: object\n",
      "h3_res                                        880e3254adfffff\n",
      "val                                                         0\n",
      "geometry    POLYGON ((-82.27332939126988 63.34197108170211...\n",
      "Name: 161, dtype: object\n",
      "h3_res                                        880e3254e7fffff\n",
      "val                                                         0\n",
      "geometry    POLYGON ((-82.26022868179903 63.34891207117199...\n",
      "Name: 162, dtype: object\n",
      "h3_res                                        880e32558bfffff\n",
      "val                                                         0\n",
      "geometry    POLYGON ((-82.33311831115056 63.34677098166887...\n",
      "Name: 163, dtype: object\n",
      "h3_res                                        880e325591fffff\n",
      "val                                                         0\n",
      "geometry    POLYGON ((-82.3194313967227 63.329684681490306...\n",
      "Name: 164, dtype: object\n",
      "h3_res                                        880e325593fffff\n",
      "val                                                         0\n",
      "geometry    POLYGON ((-82.31259383431437 63.32114079245151...\n",
      "Name: 165, dtype: object\n",
      "h3_res                                        880e325595fffff\n",
      "val                                                         0\n",
      "geometry    POLYGON ((-82.33935271272745 63.33128111763536...\n",
      "Name: 166, dtype: object\n",
      "h3_res                                        880e325597fffff\n",
      "val                                                         0\n",
      "geometry    POLYGON ((-82.33250910736695 63.32273826837667...\n",
      "Name: 167, dtype: object\n",
      "h3_res                                        880e32559bfffff\n",
      "val                                                         0\n",
      "geometry    POLYGON ((-82.29951196437581 63.32808544106112...\n",
      "Name: 168, dtype: object\n",
      "h3_res                                        880e32559dfffff\n",
      "val                                                         0\n",
      "geometry    POLYGON ((-82.32627288793746 63.3382280781366,...\n",
      "Name: 169, dtype: object\n",
      "h3_res                                        880e3255b1fffff\n",
      "val                                                         0\n",
      "geometry    POLYGON ((-82.37234528788083 63.32592480887711...\n",
      "Name: 170, dtype: object\n",
      "h3_res                                        880e3255b7fffff\n",
      "val                                                         0\n",
      "geometry    POLYGON ((-82.38540839326723 63.31897365449517...\n",
      "Name: 171, dtype: object\n",
      "h3_res                                        880e3255bbfffff\n",
      "val                                                         0\n",
      "geometry    POLYGON ((-82.3524262600718 63.324332940665926...\n",
      "Name: 172, dtype: object\n",
      "h3_res                                        880e3255d1fffff\n",
      "val                                                         0\n",
      "geometry    POLYGON ((-82.30009439338777 63.35211834461331...\n",
      "Name: 173, dtype: object\n",
      "h3_res                                        880e3255d3fffff\n",
      "val                                                         0\n",
      "geometry    POLYGON ((-82.29325714106555 63.34357385408544...\n",
      "Name: 174, dtype: object\n",
      "h3_res                                        880e3255d7fffff\n",
      "val                                                         0\n",
      "geometry    POLYGON ((-82.31318678254377 63.3451738208895,...\n",
      "Name: 175, dtype: object\n",
      "h3_res                                        880e3255d9fffff\n",
      "val                                                         0\n",
      "geometry    POLYGON ((-82.28699571731059 63.35906164802681...\n",
      "Name: 176, dtype: object\n",
      "h3_res                                        880e3255dbfffff\n",
      "val                                                         0\n",
      "geometry    POLYGON ((-82.28016058974255 63.35051661100576...\n",
      "Name: 177, dtype: object\n",
      "h3_res                                        880e327009fffff\n",
      "val                                                         0\n",
      "geometry    POLYGON ((-82.14966273565932 63.11594160959859...\n",
      "Name: 178, dtype: object\n",
      "h3_res                                        880e32700bfffff\n",
      "val                                                         0\n",
      "geometry    POLYGON ((-82.14292236538923 63.10738564455069...\n",
      "Name: 179, dtype: object\n",
      "h3_res                                        880e327011fffff\n",
      "val                                                         0\n",
      "geometry    POLYGON ((-82.12945316254924 63.09027229402154...\n",
      "Name: 180, dtype: object\n",
      "h3_res                                        880e327013fffff\n",
      "val                                                         0\n",
      "geometry    POLYGON ((-82.12272432376982 63.0817149099703,...\n",
      "Name: 181, dtype: object\n",
      "h3_res                                        880e32701dfffff\n",
      "val                                                         0\n",
      "geometry    POLYGON ((-82.13618584205463 63.09882920578664...\n",
      "Name: 182, dtype: object\n",
      "h3_res                                        880e327041fffff\n",
      "val                                                         0\n",
      "geometry    POLYGON ((-82.14337381898775 63.13142917630149...\n",
      "Name: 183, dtype: object\n",
      "h3_res                                        880e327043fffff\n",
      "val                                                         0\n",
      "geometry    POLYGON ((-82.1366317184076 63.12287313946057,...\n",
      "Name: 184, dtype: object\n",
      "h3_res                                        880e327045fffff\n",
      "val                                                         0\n",
      "geometry    POLYGON ((-82.16315502944693 63.13305211568433...\n",
      "Name: 185, dtype: object\n",
      "h3_res                                        880e327047fffff\n",
      "val                                                         0\n",
      "geometry    POLYGON ((-82.15640695597436 63.124497100215, ...\n",
      "Name: 186, dtype: object\n",
      "h3_res                                        880e327049fffff\n",
      "val                                                         0\n",
      "geometry    POLYGON ((-82.13033448591199 63.13836004087125...\n",
      "Name: 187, dtype: object\n",
      "h3_res                                        880e32704dfffff\n",
      "val                                                         0\n",
      "geometry    POLYGON ((-82.15011977279148 63.13998473802817...\n",
      "Name: 188, dtype: object\n",
      "h3_res                                        880e327051fffff\n",
      "val                                                         0\n",
      "geometry    POLYGON ((-82.11012610120632 63.11268887020081...\n",
      "Name: 189, dtype: object\n",
      "h3_res                                        880e327053fffff\n",
      "val                                                         0\n",
      "geometry    POLYGON ((-82.10339766501929 63.10413086648522...\n",
      "Name: 190, dtype: object\n",
      "h3_res                                        880e327055fffff\n",
      "val                                                         0\n",
      "geometry    POLYGON ((-82.1298934679371 63.114316628220756...\n",
      "Name: 191, dtype: object\n",
      "h3_res                                        880e327057fffff\n",
      "val                                                         0\n",
      "geometry    POLYGON ((-82.12315906446551 63.10575964329730...\n",
      "Name: 192, dtype: object\n",
      "h3_res                                        880e32706dfffff\n",
      "val                                                         0\n",
      "geometry    POLYGON ((-82.202723132633 63.1362896562169, -...\n",
      "Name: 193, dtype: object\n",
      "h3_res                                        880e327083fffff\n",
      "val                                                         0\n",
      "geometry    POLYGON ((-82.10885520924921 63.04055229644913...\n",
      "Name: 194, dtype: object\n",
      "h3_res                                        880e327089fffff\n",
      "val                                                         0\n",
      "geometry    POLYGON ((-82.10256082080225 63.05603993124488...\n",
      "Name: 195, dtype: object\n",
      "h3_res                                        880e32708bfffff\n",
      "val                                                         0\n",
      "geometry    POLYGON ((-82.09584731395708 63.04748066519310...\n",
      "Name: 196, dtype: object\n",
      "h3_res                                        880e32708dfffff\n",
      "val                                                         0\n",
      "geometry    POLYGON ((-82.12229028475221 63.05766926654898...\n",
      "Name: 197, dtype: object\n",
      "h3_res                                        880e327091fffff\n",
      "val                                                         0\n",
      "geometry    POLYGON ((-82.08243177295218 63.03036072765723...\n",
      "Name: 198, dtype: object\n",
      "h3_res                                        880e327093fffff\n",
      "val                                                         0\n",
      "geometry    POLYGON ((-82.07572973262643 63.02180005759983...\n",
      "Name: 199, dtype: object\n",
      "h3_res                                        880e327095fffff\n",
      "val                                                         0\n",
      "geometry    POLYGON ((-82.10214341084097 63.03199310792244...\n",
      "Name: 200, dtype: object\n",
      "h3_res                                        880e327097fffff\n",
      "val                                                         0\n",
      "geometry    POLYGON ((-82.0954354345495 63.023433451362834...\n",
      "Name: 201, dtype: object\n",
      "h3_res                                        880e327099fffff\n",
      "val                                                         0\n",
      "geometry    POLYGON ((-82.06942195639176 63.037286797045, ...\n",
      "Name: 202, dtype: object\n",
      "h3_res                                        880e32709bfffff\n",
      "val                                                         0\n",
      "geometry    POLYGON ((-82.06272203644058 63.028725581114, ...\n",
      "Name: 203, dtype: object\n",
      "h3_res                                        880e32709dfffff\n",
      "val                                                         0\n",
      "geometry    POLYGON ((-82.08913763236858 63.03892093042607...\n",
      "Name: 204, dtype: object\n",
      "h3_res                                        880e3270a1fffff\n",
      "val                                                         0\n",
      "geometry    POLYGON ((-82.1680193013404 63.04542978584814,...\n",
      "Name: 205, dtype: object\n",
      "h3_res                                        880e3270a3fffff\n",
      "val                                                         0\n",
      "geometry    POLYGON ((-82.1612896888412 63.03687364652541,...\n",
      "Name: 206, dtype: object\n",
      "h3_res                                        880e3270a5fffff\n",
      "val                                                         0\n",
      "geometry    POLYGON ((-82.18774443784943 63.04705007792378...\n",
      "Name: 207, dtype: object\n",
      "h3_res                                        880e3270a7fffff\n",
      "val                                                         0\n",
      "geometry    POLYGON ((-82.18100888829628 63.0384949571606,...\n",
      "Name: 208, dtype: object\n",
      "h3_res                                        880e3270b1fffff\n",
      "val                                                         0\n",
      "geometry    POLYGON ((-82.13485252639036 63.02669194148164...\n",
      "Name: 209, dtype: object\n",
      "h3_res                                        880e3270b3fffff\n",
      "val                                                         0\n",
      "geometry    POLYGON ((-82.12813650467933 63.0181338463471,...\n",
      "Name: 210, dtype: object\n",
      "h3_res                                        880e3270b5fffff\n",
      "val                                                         0\n",
      "geometry    POLYGON ((-82.15456390752587 63.02831703693461...\n",
      "Name: 211, dtype: object\n",
      "h3_res                                        880e3270bbfffff\n",
      "val                                                         0\n",
      "geometry    POLYGON ((-82.1151430339341 63.025064079474134...\n",
      "Name: 212, dtype: object\n",
      "h3_res                                        880e3270bdfffff\n",
      "val                                                         0\n",
      "geometry    POLYGON ((-82.14157237318106 63.03524956780767...\n",
      "Name: 213, dtype: object\n",
      "h3_res                                        880e3270c5fffff\n",
      "val                                                         0\n",
      "geometry    POLYGON ((-82.1159993226163 63.07315705434753,...\n",
      "Name: 214, dtype: object\n",
      "h3_res                                        880e3270c7fffff\n",
      "val                                                         0\n",
      "geometry    POLYGON ((-82.10927815599175 63.06459872786767...\n",
      "Name: 215, dtype: object\n",
      "h3_res                                        880e3270d1fffff\n",
      "val                                                         0\n",
      "geometry    POLYGON ((-82.06310759715883 63.05277295253289...\n",
      "Name: 216, dtype: object\n",
      "h3_res                                        880e3270d3fffff\n",
      "val                                                         0\n",
      "geometry    POLYGON ((-82.05640598183975 63.04421165825948...\n",
      "Name: 217, dtype: object\n",
      "h3_res                                        880e3270d7fffff\n",
      "val                                                         0\n",
      "geometry    POLYGON ((-82.0761256954852 63.045847545718566...\n",
      "Name: 218, dtype: object\n",
      "h3_res                                        880e3270d9fffff\n",
      "val                                                         0\n",
      "geometry    POLYGON ((-82.0500833343571 63.059697149601554...\n",
      "Name: 219, dtype: object\n",
      "h3_res                                        880e3270dbfffff\n",
      "val                                                         0\n",
      "geometry    POLYGON ((-82.04338384626732 63.05113531003358...\n",
      "Name: 220, dtype: object\n",
      "h3_res                                        880e3270e9fffff\n",
      "val                                                         0\n",
      "geometry    POLYGON ((-82.13574068576172 63.07478435595065...\n",
      "Name: 221, dtype: object\n",
      "h3_res                                        880e3270ebfffff\n",
      "val                                                         0\n",
      "geometry    POLYGON ((-82.12901356802276 63.06622704669423...\n",
      "Name: 222, dtype: object\n",
      "h3_res                                        880e327121fffff\n",
      "val                                                         0\n",
      "geometry    POLYGON ((-82.35364081305575 63.11654318619772...\n",
      "Name: 223, dtype: object\n",
      "h3_res                                        880e327127fffff\n",
      "val                                                         0\n",
      "geometry    POLYGON ((-82.3666164590852 63.10959227113345,...\n",
      "Name: 224, dtype: object\n",
      "h3_res                                        880e327129fffff\n",
      "val                                                         0\n",
      "geometry    POLYGON ((-82.3406589801779 63.12349290258059,...\n",
      "Name: 225, dtype: object\n",
      "h3_res                                        880e32712dfffff\n",
      "val                                                         0\n",
      "geometry    POLYGON ((-82.36044290445233 63.12508834315083...\n",
      "Name: 226, dtype: object\n",
      "h3_res                                        880e327149fffff\n",
      "val                                                         0\n",
      "geometry    POLYGON ((-82.26887122828427 63.1496745274542,...\n",
      "Name: 227, dtype: object\n",
      "h3_res                                        880e327163fffff\n",
      "val                                                         0\n",
      "geometry    POLYGON ((-82.32767095735957 63.13044141901402...\n",
      "Name: 228, dtype: object\n",
      "h3_res                                        880e32716bfffff\n",
      "val                                                         0\n",
      "geometry    POLYGON ((-82.31467674150824 63.13738873422944...\n",
      "Name: 229, dtype: object\n",
      "h3_res                                        880e327181fffff\n",
      "val                                                         0\n",
      "geometry    POLYGON ((-82.25368830718631 63.06044591935709...\n",
      "Name: 230, dtype: object\n",
      "h3_res                                        880e327185fffff\n",
      "val                                                         0\n",
      "geometry    POLYGON ((-82.27342687087602 63.06205410670443...\n",
      "Name: 231, dtype: object\n",
      "h3_res                                        880e32718bfffff\n",
      "val                                                         0\n",
      "geometry    POLYGON ((-82.23395160864747 63.05883495998781...\n",
      "Name: 232, dtype: object\n",
      "h3_res                                        880e327199fffff\n",
      "val                                                         0\n",
      "geometry    POLYGON ((-82.20747145325566 63.04866760039034...\n",
      "Name: 233, dtype: object\n",
      "h3_res                                        880e32719dfffff\n",
      "val                                                         0\n",
      "geometry    POLYGON ((-82.22720034314989 63.05028235280164...\n",
      "Name: 234, dtype: object\n",
      "h3_res                                        880e3271a9fffff\n",
      "val                                                         0\n",
      "geometry    POLYGON ((-82.29316729529509 63.06365952158782...\n",
      "Name: 235, dtype: object\n",
      "h3_res                                        880e3271d7fffff\n",
      "val                                                         0\n",
      "geometry    POLYGON ((-82.21421677967841 63.05722122903991...\n",
      "Name: 236, dtype: object\n",
      "h3_res                                        880e3271e7fffff\n",
      "val                                                         0\n",
      "geometry    POLYGON ((-82.2999402304289 63.072208581732404...\n",
      "Name: 237, dtype: object\n",
      "h3_res                                        880e327281fffff\n",
      "val                                                         0\n",
      "geometry    POLYGON ((-82.0243711704979 63.09758801273597,...\n",
      "Name: 238, dtype: object\n",
      "h3_res                                        880e327287fffff\n",
      "val                                                         0\n",
      "geometry    POLYGON ((-82.03741822002993 63.09066636366539...\n",
      "Name: 239, dtype: object\n",
      "h3_res                                        880e327289fffff\n",
      "val                                                         0\n",
      "geometry    POLYGON ((-82.01131793741236 63.10450844637221...\n",
      "Name: 240, dtype: object\n",
      "h3_res                                        880e327293fffff\n",
      "val                                                         0\n",
      "geometry    POLYGON ((-81.98454650803478 63.07025331261227...\n",
      "Name: 241, dtype: object\n",
      "h3_res                                        880e327299fffff\n",
      "val                                                         0\n",
      "geometry    POLYGON ((-81.97818064706722 63.08573538291043...\n",
      "Name: 242, dtype: object\n",
      "h3_res                                        880e32729bfffff\n",
      "val                                                         0\n",
      "geometry    POLYGON ((-81.97149566650846 63.07717035442866...\n",
      "Name: 243, dtype: object\n",
      "h3_res                                        880e3272a1fffff\n",
      "val                                                         0\n",
      "geometry    POLYGON ((-82.07691954085315 63.09393982166891...\n",
      "Name: 244, dtype: object\n",
      "h3_res                                        880e3272a3fffff\n",
      "val                                                         0\n",
      "geometry    POLYGON ((-82.07020474492548 63.08537985800926...\n",
      "Name: 245, dtype: object\n",
      "h3_res                                        880e3272a5fffff\n",
      "val                                                         0\n",
      "geometry    POLYGON ((-82.09667306967738 63.09557239054807...\n",
      "Name: 246, dtype: object\n",
      "h3_res                                        880e3272b3fffff\n",
      "val                                                         0\n",
      "geometry    POLYGON ((-82.03705290404727 63.06662013565642...\n",
      "Name: 247, dtype: object\n",
      "h3_res                                        880e3272b5fffff\n",
      "val                                                         0\n",
      "geometry    POLYGON ((-82.06349378059616 63.07681942430253...\n",
      "Name: 248, dtype: object\n",
      "h3_res                                        880e3272b7fffff\n",
      "val                                                         0\n",
      "geometry    POLYGON ((-82.05678664477055 63.06825852126221...\n",
      "Name: 249, dtype: object\n",
      "h3_res                                        880e3272b9fffff\n",
      "val                                                         0\n",
      "geometry    POLYGON ((-82.03071534886128 63.08210437082521...\n",
      "Name: 250, dtype: object\n",
      "h3_res                                        880e3272bbfffff\n",
      "val                                                         0\n",
      "geometry    POLYGON ((-82.02401630319638 63.07354190942894...\n",
      "Name: 251, dtype: object\n",
      "h3_res                                        880e3272c1fffff\n",
      "val                                                         0\n",
      "geometry    POLYGON ((-82.00495879459986 63.11999081937558...\n",
      "Name: 252, dtype: object\n",
      "h3_res                                        880e3272c7fffff\n",
      "val                                                         0\n",
      "geometry    POLYGON ((-82.01802035872502 63.1130710585841,...\n",
      "Name: 253, dtype: object\n",
      "h3_res                                        880e3272c9fffff\n",
      "val                                                         0\n",
      "geometry    POLYGON ((-81.9918910373553 63.126909361883136...\n",
      "Name: 254, dtype: object\n",
      "h3_res                                        880e3272cbfffff\n",
      "val                                                         0\n",
      "geometry    POLYGON ((-81.98519290841621 63.1183456622572,...\n",
      "Name: 255, dtype: object\n",
      "h3_res                                        880e3272cdfffff\n",
      "val                                                         0\n",
      "geometry    POLYGON ((-82.01166290328976 63.12855350556444...\n",
      "Name: 256, dtype: object\n",
      "h3_res                                        880e3272d3fffff\n",
      "val                                                         0\n",
      "geometry    POLYGON ((-81.96512148174892 63.09265175140208...\n",
      "Name: 257, dtype: object\n",
      "h3_res                                        880e3272d5fffff\n",
      "val                                                         0\n",
      "geometry    POLYGON ((-81.99156206958575 63.10286403805983...\n",
      "Name: 258, dtype: object\n",
      "h3_res                                        880e3272d7fffff\n",
      "val                                                         0\n",
      "geometry    POLYGON ((-81.9848694470624 63.09429994435817,...\n",
      "Name: 259, dtype: object\n",
      "h3_res                                        880e3272ddfffff\n",
      "val                                                         0\n",
      "geometry    POLYGON ((-81.97849860823449 63.10978149349352...\n",
      "Name: 260, dtype: object\n",
      "h3_res                                        880e327311fffff\n",
      "val                                                         0\n",
      "geometry    POLYGON ((-82.17666274833049 63.15016071831815...\n",
      "Name: 261, dtype: object\n",
      "h3_res                                        880e327313fffff\n",
      "val                                                         0\n",
      "geometry    POLYGON ((-82.16990695919269 63.14160665529071...\n",
      "Name: 262, dtype: object\n",
      "h3_res                                        880e327317fffff\n",
      "val                                                         0\n",
      "geometry    POLYGON ((-82.18969604066854 63.14322579220803...\n",
      "Name: 263, dtype: object\n",
      "h3_res                                        880e327319fffff\n",
      "val                                                         0\n",
      "geometry    POLYGON ((-82.16362325254086 63.15709443327572...\n",
      "Name: 264, dtype: object\n",
      "h3_res                                        880e32731bfffff\n",
      "val                                                         0\n",
      "geometry    POLYGON ((-82.1568695829358 63.14853982392488,...\n",
      "Name: 265, dtype: object\n",
      "h3_res                                        880e327321fffff\n",
      "val                                                         0\n",
      "geometry    POLYGON ((-82.262637885909 63.16516595751967, ...\n",
      "Name: 266, dtype: object\n",
      "h3_res                                        880e327325fffff\n",
      "val                                                         0\n",
      "geometry    POLYGON ((-82.28244645911731 63.1667719112449,...\n",
      "Name: 267, dtype: object\n",
      "h3_res                                        880e327327fffff\n",
      "val                                                         0\n",
      "geometry    POLYGON ((-82.27565690482527 63.15822345987328...\n",
      "Name: 268, dtype: object\n",
      "h3_res                                        880e32732dfffff\n",
      "val                                                         0\n",
      "geometry    POLYGON ((-82.26942533854036 63.17371495691703...\n",
      "Name: 269, dtype: object\n",
      "h3_res                                        880e327331fffff\n",
      "val                                                         0\n",
      "geometry    POLYGON ((-82.22927987104266 63.14645572321012...\n",
      "Name: 270, dtype: object\n",
      "h3_res                                        880e327333fffff\n",
      "val                                                         0\n",
      "geometry    POLYGON ((-82.2225100164668 63.137904256468374...\n",
      "Name: 271, dtype: object\n",
      "h3_res                                        880e327335fffff\n",
      "val                                                         0\n",
      "geometry    POLYGON ((-82.24907461103354 63.14806651639984...\n",
      "Name: 272, dtype: object\n",
      "h3_res                                        880e327341fffff\n",
      "val                                                         0\n",
      "geometry    POLYGON ((-82.19067658808177 63.19130809089399...\n",
      "Name: 273, dtype: object\n",
      "h3_res                                        880e327343fffff\n",
      "val                                                         0\n",
      "geometry    POLYGON ((-82.18390744936926 63.18275539489041...\n",
      "Name: 274, dtype: object\n",
      "h3_res                                        880e327347fffff\n",
      "val                                                         0\n",
      "geometry    POLYGON ((-82.20372456128855 63.18437219030871...\n",
      "Name: 275, dtype: object\n",
      "h3_res                                        880e32734dfffff\n",
      "val                                                         0\n",
      "geometry    POLYGON ((-82.19744960190303 63.19986030676859...\n",
      "Name: 276, dtype: object\n",
      "h3_res                                        880e327355fffff\n",
      "val                                                         0\n",
      "geometry    POLYGON ((-82.17714218262957 63.17420221947500...\n",
      "Name: 277, dtype: object\n",
      "h3_res                                        880e327357fffff\n",
      "val                                                         0\n",
      "geometry    POLYGON ((-82.17038078472997 63.16564856536457...\n",
      "Name: 278, dtype: object\n",
      "h3_res                                        880e327365fffff\n",
      "val                                                         0\n",
      "geometry    POLYGON ((-82.26318723453745 63.18920586014511...\n",
      "Name: 279, dtype: object\n",
      "h3_res                                        880e327367fffff\n",
      "val                                                         0\n",
      "geometry    POLYGON ((-82.25639800598283 63.18065679472065...\n",
      "Name: 280, dtype: object\n",
      "h3_res                                        880e32736dfffff\n",
      "val                                                         0\n",
      "geometry    POLYGON ((-82.25015157836376 63.19614703626823...\n",
      "Name: 281, dtype: object\n",
      "h3_res                                        880e327405fffff\n",
      "val                                                         0\n",
      "geometry    POLYGON ((-81.95057840231335 62.97932411304023...\n",
      "Name: 282, dtype: object\n",
      "h3_res                                        880e327409fffff\n",
      "val                                                         0\n",
      "geometry    POLYGON ((-81.91788464592645 62.98458293295024...\n",
      "Name: 283, dtype: object\n",
      "h3_res                                        880e32740bfffff\n",
      "val                                                         0\n",
      "geometry    POLYGON ((-81.9112393311076 62.97601335740486,...\n",
      "Name: 284, dtype: object\n",
      "h3_res                                        880e32740dfffff\n",
      "val                                                         0\n",
      "geometry    POLYGON ((-81.93755914362492 62.98623868686187...\n",
      "Name: 285, dtype: object\n",
      "h3_res                                        880e327411fffff\n",
      "val                                                         0\n",
      "geometry    POLYGON ((-81.8979600460912 62.95887283140835,...\n",
      "Name: 286, dtype: object\n",
      "h3_res                                        880e327419fffff\n",
      "val                                                         0\n",
      "geometry    POLYGON ((-81.88493708684484 62.96578280762361...\n",
      "Name: 287, dtype: object\n",
      "h3_res                                        880e32741dfffff\n",
      "val                                                         0\n",
      "geometry    POLYGON ((-81.90459779884596 62.96744332332118...\n",
      "Name: 288, dtype: object\n",
      "h3_res                                        880e327421fffff\n",
      "val                                                         0\n",
      "geometry    POLYGON ((-81.98325994996458 62.97405781562693...\n",
      "Name: 289, dtype: object\n",
      "h3_res                                        880e327425fffff\n",
      "val                                                         0\n",
      "geometry    POLYGON ((-82.0029302917703 62.97570454377255,...\n",
      "Name: 290, dtype: object\n",
      "h3_res                                        880e327427fffff\n",
      "val                                                         0\n",
      "geometry    POLYGON ((-81.9962629385197 62.96713907010264,...\n",
      "Name: 291, dtype: object\n",
      "h3_res                                        880e327429fffff\n",
      "val                                                         0\n",
      "geometry    POLYGON ((-81.97025082837828 62.98097535320259...\n",
      "Name: 292, dtype: object\n",
      "h3_res                                        880e327447fffff\n",
      "val                                                         0\n",
      "geometry    POLYGON ((-81.92453374635592 62.99315204924791...\n",
      "Name: 293, dtype: object\n",
      "h3_res                                        880e327449fffff\n",
      "val                                                         0\n",
      "geometry    POLYGON ((-81.89846452409492 63.00697513464907...\n",
      "Name: 294, dtype: object\n",
      "h3_res                                        880e32744bfffff\n",
      "val                                                         0\n",
      "geometry    POLYGON ((-81.89181971685429 62.99840493183429...\n",
      "Name: 295, dtype: object\n",
      "h3_res                                        880e327453fffff\n",
      "val                                                         0\n",
      "geometry    POLYGON ((-81.87190799681107 62.97269157111071...\n",
      "Name: 296, dtype: object\n",
      "h3_res                                        880e32746dfffff\n",
      "val                                                         0\n",
      "geometry    POLYGON ((-81.97056128574067 63.00502543571722...\n",
      "Name: 297, dtype: object\n",
      "h3_res                                        880e3274cdfffff\n",
      "val                                                         0\n",
      "geometry    POLYGON ((-81.87167719757666 62.94863936659433...\n",
      "Name: 298, dtype: object\n",
      "h3_res                                        880e327501fffff\n",
      "val                                                         0\n",
      "geometry    POLYGON ((-82.0686416889946 62.98919015905947,...\n",
      "Name: 299, dtype: object\n",
      "h3_res                                        880e327503fffff\n",
      "val                                                         0\n",
      "geometry    POLYGON ((-82.06195277714633 62.98062817303143...\n",
      "Name: 300, dtype: object\n",
      "h3_res                                        880e327509fffff\n",
      "val                                                         0\n",
      "geometry    POLYGON ((-82.05564649542474 62.99611525082515...\n",
      "Name: 301, dtype: object\n",
      "h3_res                                        880e32750bfffff\n",
      "val                                                         0\n",
      "geometry    POLYGON ((-82.0489597007087 62.98755271874124,...\n",
      "Name: 302, dtype: object\n",
      "h3_res                                        880e327511fffff\n",
      "val                                                         0\n",
      "geometry    POLYGON ((-82.03559751940254 62.97042626410772...\n",
      "Name: 303, dtype: object\n",
      "h3_res                                        880e327513fffff\n",
      "val                                                         0\n",
      "geometry    POLYGON ((-82.02892212668954 62.96186234298155...\n",
      "Name: 304, dtype: object\n",
      "h3_res                                        880e327515fffff\n",
      "val                                                         0\n",
      "geometry    POLYGON ((-82.05526766898012 62.9720657232473,...\n",
      "Name: 305, dtype: object\n",
      "h3_res                                        880e327517fffff\n",
      "val                                                         0\n",
      "geometry    POLYGON ((-82.04858636143429 62.96350281041906...\n",
      "Name: 306, dtype: object\n",
      "h3_res                                        880e327519fffff\n",
      "val                                                         0\n",
      "geometry    POLYGON ((-82.02260254647614 62.97734851302652...\n",
      "Name: 307, dtype: object\n",
      "h3_res                                        880e32751bfffff\n",
      "val                                                         0\n",
      "geometry    POLYGON ((-82.01592927446305 62.96878404624071...\n",
      "Name: 308, dtype: object\n",
      "h3_res                                        880e32751dfffff\n",
      "val                                                         0\n",
      "geometry    POLYGON ((-82.0422767097223 62.97898972293149,...\n",
      "Name: 309, dtype: object\n",
      "h3_res                                        880e32753bfffff\n",
      "val                                                         0\n",
      "geometry    POLYGON ((-82.06825249691921 62.96514051975115...\n",
      "Name: 310, dtype: object\n",
      "h3_res                                        880e327541fffff\n",
      "val                                                         0\n",
      "geometry    POLYGON ((-82.04933364164947 63.01160175033106...\n",
      "Name: 311, dtype: object\n",
      "h3_res                                        880e327543fffff\n",
      "val                                                         0\n",
      "geometry    POLYGON ((-82.04264516065949 63.00303913690411...\n",
      "Name: 312, dtype: object\n",
      "h3_res                                        880e327545fffff\n",
      "val                                                         0\n",
      "geometry    POLYGON ((-82.06903150831293 63.01323892096688...\n",
      "Name: 313, dtype: object\n",
      "h3_res                                        880e327547fffff\n",
      "val                                                         0\n",
      "geometry    POLYGON ((-82.06233709693645 63.00467731847114...\n",
      "Name: 314, dtype: object\n",
      "h3_res                                        880e327549fffff\n",
      "val                                                         0\n",
      "geometry    POLYGON ((-82.0363240387108 63.018524974933534...\n",
      "Name: 315, dtype: object\n",
      "h3_res                                        880e32754bfffff\n",
      "val                                                         0\n",
      "geometry    POLYGON ((-82.02963768168439 63.00996181603125...\n",
      "Name: 316, dtype: object\n",
      "h3_res                                        880e32754dfffff\n",
      "val                                                         0\n",
      "geometry    POLYGON ((-82.056025932552 63.02016389863848, ...\n",
      "Name: 317, dtype: object\n",
      "h3_res                                        880e327551fffff\n",
      "val                                                         0\n",
      "geometry    POLYGON ((-82.01627638522162 62.99283410580857...\n",
      "Name: 318, dtype: object\n",
      "h3_res                                        880e327553fffff\n",
      "val                                                         0\n",
      "geometry    POLYGON ((-82.00960143965112 62.98426955591154...\n",
      "Name: 319, dtype: object\n",
      "h3_res                                        880e327555fffff\n",
      "val                                                         0\n",
      "geometry    POLYGON ((-82.03596048651164 62.99447605906978...\n",
      "Name: 320, dtype: object\n",
      "h3_res                                        880e327557fffff\n",
      "val                                                         0\n",
      "geometry    POLYGON ((-82.02927961613861 62.98591251754001...\n",
      "Name: 321, dtype: object\n",
      "h3_res                                        880e327559fffff\n",
      "val                                                         0\n",
      "geometry    POLYGON ((-82.00326701396361 62.99975448647236...\n",
      "Name: 322, dtype: object\n",
      "h3_res                                        880e32755bfffff\n",
      "val                                                         0\n",
      "geometry    POLYGON ((-81.99659419592331 62.9911893914984,...\n",
      "Name: 323, dtype: object\n",
      "h3_res                                        880e32755dfffff\n",
      "val                                                         0\n",
      "geometry    POLYGON ((-82.0229551315442 63.001398192752305...\n",
      "Name: 324, dtype: object\n",
      "h3_res                                        880e327569fffff\n",
      "val                                                         0\n",
      "geometry    POLYGON ((-82.08873127729468 63.01487332748369...\n",
      "Name: 325, dtype: object\n",
      "h3_res                                        880e32756bfffff\n",
      "val                                                         0\n",
      "geometry    POLYGON ((-82.0820309359994 63.006312736998176...\n",
      "Name: 326, dtype: object\n",
      "h3_res                                        880e32756dfffff\n",
      "val                                                         0\n",
      "geometry    POLYGON ((-82.10843294421194 63.01650496942789...\n",
      "Name: 327, dtype: object\n",
      "h3_res                                        880e3275c1fffff\n",
      "val                                                         0\n",
      "geometry    POLYGON ((-82.00259411115569 62.95165372869702...\n",
      "Name: 328, dtype: object\n",
      "h3_res                                        880e3275c5fffff\n",
      "val                                                         0\n",
      "geometry    POLYGON ((-82.02225052852644 62.95329796026435...\n",
      "Name: 329, dtype: object\n",
      "h3_res                                        880e3275cdfffff\n",
      "val                                                         0\n",
      "geometry    POLYGON ((-82.00925979704125 62.96021911789391...\n",
      "Name: 330, dtype: object\n",
      "h3_res                                        880e3275e9fffff\n",
      "val                                                         0\n",
      "geometry    POLYGON ((-82.04190885145016 62.95493943525852...\n",
      "Name: 331, dtype: object\n",
      "h3_res                                        880e327601fffff\n",
      "val                                                         0\n",
      "geometry    POLYGON ((-81.83961610539893 63.02603434036445...\n",
      "Name: 332, dtype: object\n",
      "h3_res                                        880e327603fffff\n",
      "val                                                         0\n",
      "geometry    POLYGON ((-81.83298371170045 63.01746150917927...\n",
      "Name: 333, dtype: object\n",
      "h3_res                                        880e327605fffff\n",
      "val                                                         0\n",
      "geometry    POLYGON ((-81.85931457645904 63.02770064531933...\n",
      "Name: 334, dtype: object\n",
      "h3_res                                        880e327607fffff\n",
      "val                                                         0\n",
      "geometry    POLYGON ((-81.85267623490859 63.01912881505535...\n",
      "Name: 335, dtype: object\n",
      "h3_res                                        880e32760bfffff\n",
      "val                                                         0\n",
      "geometry    POLYGON ((-81.81991959173081 63.02436527297452...\n",
      "Name: 336, dtype: object\n",
      "h3_res                                        880e32760dfffff\n",
      "val                                                         0\n",
      "geometry    POLYGON ((-81.84625228479679 63.03460671248953...\n",
      "Name: 337, dtype: object\n",
      "h3_res                                        880e327615fffff\n",
      "val                                                         0\n",
      "geometry    POLYGON ((-81.82635510064044 63.00888821964248...\n",
      "Name: 338, dtype: object\n",
      "h3_res                                        880e327619fffff\n",
      "val                                                         0\n",
      "geometry    POLYGON ((-81.79360454307137 63.01411861384459...\n",
      "Name: 339, dtype: object\n",
      "h3_res                                        880e32761bfffff\n",
      "val                                                         0\n",
      "geometry    POLYGON ((-81.78698782285385 63.00554332719649...\n",
      "Name: 340, dtype: object\n",
      "h3_res                                        880e32761dfffff\n",
      "val                                                         0\n",
      "geometry    POLYGON ((-81.81329314630187 63.01579144195194...\n",
      "Name: 341, dtype: object\n",
      "h3_res                                        880e327621fffff\n",
      "val                                                         0\n",
      "geometry    POLYGON ((-81.89206713730606 63.02245514087534...\n",
      "Name: 342, dtype: object\n",
      "h3_res                                        880e327625fffff\n",
      "val                                                         0\n",
      "geometry    POLYGON ((-81.91176550776481 63.02411415988327...\n",
      "Name: 343, dtype: object\n",
      "h3_res                                        880e327627fffff\n",
      "val                                                         0\n",
      "geometry    POLYGON ((-81.9051131200444 63.015544877568594...\n",
      "Name: 344, dtype: object\n",
      "h3_res                                        880e327629fffff\n",
      "val                                                         0\n",
      "geometry    POLYGON ((-81.87901500054548 63.02936418736947...\n",
      "Name: 345, dtype: object\n",
      "h3_res                                        880e32762bfffff\n",
      "val                                                         0\n",
      "geometry    POLYGON ((-81.87237071156511 63.02079335911025...\n",
      "Name: 346, dtype: object\n",
      "h3_res                                        880e32762dfffff\n",
      "val                                                         0\n",
      "geometry    POLYGON ((-81.89871737328993 63.03102496604649...\n",
      "Name: 347, dtype: object\n",
      "h3_res                                        880e327631fffff\n",
      "val                                                         0\n",
      "geometry    POLYGON ((-81.85909349676572 63.00365032380361...\n",
      "Name: 348, dtype: object\n",
      "h3_res                                        880e327633fffff\n",
      "val                                                         0\n",
      "geometry    POLYGON ((-81.85246056482683 62.99507811817403...\n",
      "Name: 349, dtype: object\n",
      "h3_res                                        880e327637fffff\n",
      "val                                                         0\n",
      "geometry    POLYGON ((-81.87213916784084 62.99674290475924...\n",
      "Name: 350, dtype: object\n",
      "h3_res                                        880e327639fffff\n",
      "val                                                         0\n",
      "geometry    POLYGON ((-81.84604167904878 63.01055652569954...\n",
      "Name: 351, dtype: object\n",
      "h3_res                                        880e32763bfffff\n",
      "val                                                         0\n",
      "geometry    POLYGON ((-81.83941090581997 63.00198377796055...\n",
      "Name: 352, dtype: object\n",
      "h3_res                                        880e32763dfffff\n",
      "val                                                         0\n",
      "geometry    POLYGON ((-81.86573021132568 63.01222207101861...\n",
      "Name: 353, dtype: object\n",
      "h3_res                                        880e327661fffff\n",
      "val                                                         0\n",
      "geometry    POLYGON ((-81.87260262888584 63.04484292573598...\n",
      "Name: 354, dtype: object\n",
      "h3_res                                        880e327663fffff\n",
      "val                                                         0\n",
      "geometry    POLYGON ((-81.86595670676284 63.03627201578258...\n",
      "Name: 355, dtype: object\n",
      "h3_res                                        880e327669fffff\n",
      "val                                                         0\n",
      "geometry    POLYGON ((-81.85953601294965 63.05175007672418...\n",
      "Name: 356, dtype: object\n",
      "h3_res                                        880e32766bfffff\n",
      "val                                                         0\n",
      "geometry    POLYGON ((-81.85289225295801 63.04317862484575...\n",
      "Name: 357, dtype: object\n",
      "h3_res                                        880e32766dfffff\n",
      "val                                                         0\n",
      "geometry    POLYGON ((-81.87925234589696 63.0534133744702,...\n",
      "Name: 358, dtype: object\n",
      "h3_res                                        880e3276a1fffff\n",
      "val                                                         0\n",
      "geometry    POLYGON ((-81.84562148419288 62.96245350833499...\n",
      "Name: 359, dtype: object\n",
      "h3_res                                        880e3276a3fffff\n",
      "val                                                         0\n",
      "geometry    POLYGON ((-81.83900149692398 62.95388001842798...\n",
      "Name: 360, dtype: object\n",
      "h3_res                                        880e3276a5fffff\n",
      "val                                                         0\n",
      "geometry    POLYGON ((-81.86527831384677 62.96411953580604...\n",
      "Name: 361, dtype: object\n",
      "h3_res                                        880e3276a7fffff\n",
      "val                                                         0\n",
      "geometry    POLYGON ((-81.85865240432715 62.95554704415053...\n",
      "Name: 362, dtype: object\n",
      "h3_res                                        880e3276a9fffff\n",
      "val                                                         0\n",
      "geometry    POLYGON ((-81.83258443419871 62.96935875788259...\n",
      "Name: 363, dtype: object\n",
      "h3_res                                        880e3276abfffff\n",
      "val                                                         0\n",
      "geometry    POLYGON ((-81.82596660222161 62.96078472567828...\n",
      "Name: 364, dtype: object\n",
      "h3_res                                        880e3276adfffff\n",
      "val                                                         0\n",
      "geometry    POLYGON ((-81.85224524187261 62.97102654262979...\n",
      "Name: 365, dtype: object\n",
      "h3_res                                        880e3276b9fffff\n",
      "val                                                         0\n",
      "geometry    POLYGON ((-81.7997055307456 62.95053770513601,...\n",
      "Name: 366, dtype: object\n",
      "h3_res                                        880e3276bbfffff\n",
      "val                                                         0\n",
      "geometry    POLYGON ((-81.79310115052208 62.94196176853801...\n",
      "Name: 367, dtype: object\n",
      "h3_res                                        880e3276bdfffff\n",
      "val                                                         0\n",
      "geometry    POLYGON ((-81.81935253761968 62.95221023860001...\n",
      "Name: 368, dtype: object\n",
      "h3_res                                        880e3276c9fffff\n",
      "val                                                         0\n",
      "geometry    POLYGON ((-81.76070012841615 62.99529000274805...\n",
      "Name: 369, dtype: object\n",
      "h3_res                                        880e3276cbfffff\n",
      "val                                                         0\n",
      "geometry    POLYGON ((-81.75409689202098 62.98671280902525...\n",
      "Name: 370, dtype: object\n",
      "h3_res                                        880e3276d9fffff\n",
      "val                                                         0\n",
      "geometry    POLYGON ((-81.72783652152687 62.97645283388851...\n",
      "Name: 371, dtype: object\n",
      "h3_res                                        880e3276dbfffff\n",
      "val                                                         0\n",
      "geometry    POLYGON ((-81.72124674495299 62.96787373995345...\n",
      "Name: 372, dtype: object\n",
      "h3_res                                        880e3276ddfffff\n",
      "val                                                         0\n",
      "geometry    POLYGON ((-81.74749741994937 62.97813516129015...\n",
      "Name: 373, dtype: object\n",
      "h3_res                                        880e3276e1fffff\n",
      "val                                                         0\n",
      "geometry    POLYGON ((-81.82616069503213 62.98483691016656...\n",
      "Name: 374, dtype: object\n",
      "h3_res                                        880e3276e3fffff\n",
      "val                                                         0\n",
      "geometry    POLYGON ((-81.81954125136922 62.9762627915277,...\n",
      "Name: 375, dtype: object\n",
      "h3_res                                        880e3276e5fffff\n",
      "val                                                         0\n",
      "geometry    POLYGON ((-81.84583141245368 62.98650545483848...\n",
      "Name: 376, dtype: object\n",
      "h3_res                                        880e3276e7fffff\n",
      "val                                                         0\n",
      "geometry    POLYGON ((-81.83920603659402 62.97793233450530...\n",
      "Name: 377, dtype: object\n",
      "h3_res                                        880e327701fffff\n",
      "val                                                         0\n",
      "geometry    POLYGON ((-81.97754626338593 63.03764043770199...\n",
      "Name: 378, dtype: object\n",
      "h3_res                                        880e327703fffff\n",
      "val                                                         0\n",
      "geometry    POLYGON ((-81.97087224374121 63.02907463571082...\n",
      "Name: 379, dtype: object\n",
      "h3_res                                        880e327705fffff\n",
      "val                                                         0\n",
      "geometry    POLYGON ((-81.99725831380044 63.03928739253384...\n",
      "Name: 380, dtype: object\n",
      "h3_res                                        880e327707fffff\n",
      "val                                                         0\n",
      "geometry    POLYGON ((-81.990578349351 63.03072259904328, ...\n",
      "Name: 381, dtype: object\n",
      "h3_res                                        880e327709fffff\n",
      "val                                                         0\n",
      "geometry    POLYGON ((-81.96450801813414 63.04455706307566...\n",
      "Name: 382, dtype: object\n",
      "h3_res                                        880e32770bfffff\n",
      "val                                                         0\n",
      "geometry    POLYGON ((-81.9578361397471 63.03599071717487,...\n",
      "Name: 383, dtype: object\n",
      "h3_res                                        880e32770dfffff\n",
      "val                                                         0\n",
      "geometry    POLYGON ((-81.98422409006922 63.04620577544143...\n",
      "Name: 384, dtype: object\n",
      "h3_res                                        880e327711fffff\n",
      "val                                                         0\n",
      "geometry    POLYGON ((-81.94450379188824 63.018856635557, ...\n",
      "Name: 385, dtype: object\n",
      "h3_res                                        880e327715fffff\n",
      "val                                                         0\n",
      "geometry    POLYGON ((-81.96420202806141 63.02050837017907...\n",
      "Name: 386, dtype: object\n",
      "h3_res                                        880e327717fffff\n",
      "val                                                         0\n",
      "geometry    POLYGON ((-81.95753561327587 63.01194164181768...\n",
      "Name: 387, dtype: object\n",
      "h3_res                                        880e327719fffff\n",
      "val                                                         0\n",
      "geometry    POLYGON ((-81.93146581857206 63.02577041566810...\n",
      "Name: 388, dtype: object\n",
      "h3_res                                        880e32771bfffff\n",
      "val                                                         0\n",
      "geometry    POLYGON ((-81.92480748775915 63.01720213786564...\n",
      "Name: 389, dtype: object\n",
      "h3_res                                        880e32771dfffff\n",
      "val                                                         0\n",
      "geometry    POLYGON ((-81.95116806535577 63.02742390776506...\n",
      "Name: 390, dtype: object\n",
      "h3_res                                        880e327721fffff\n",
      "val                                                         0\n",
      "geometry    POLYGON ((-82.02999632472057 63.03401023002667...\n",
      "Name: 391, dtype: object\n",
      "h3_res                                        880e327723fffff\n",
      "val                                                         0\n",
      "geometry    POLYGON ((-82.02330828510219 63.0254469910126,...\n",
      "Name: 392, dtype: object\n",
      "h3_res                                        880e327727fffff\n",
      "val                                                         0\n",
      "geometry    POLYGON ((-82.04301420569514 63.02708766874721...\n",
      "Name: 393, dtype: object\n",
      "h3_res                                        880e327729fffff\n",
      "val                                                         0\n",
      "geometry    POLYGON ((-82.01697228660616 63.04093158120993...\n",
      "Name: 394, dtype: object\n",
      "h3_res                                        880e32772bfffff\n",
      "val                                                         0\n",
      "geometry    POLYGON ((-82.01028637780503 63.03236779730169...\n",
      "Name: 395, dtype: object\n",
      "h3_res                                        880e32772dfffff\n",
      "val                                                         0\n",
      "geometry    POLYGON ((-82.03668817741588 63.04257300327111...\n",
      "Name: 396, dtype: object\n",
      "h3_res                                        880e327731fffff\n",
      "val                                                         0\n",
      "geometry    POLYGON ((-81.99692598725292 63.01523883511817...\n",
      "Name: 397, dtype: object\n",
      "h3_res                                        880e327733fffff\n",
      "val                                                         0\n",
      "geometry    POLYGON ((-81.99025149935652 63.00667365826604...\n",
      "Name: 398, dtype: object\n",
      "h3_res                                        880e327735fffff\n",
      "val                                                         0\n",
      "geometry    POLYGON ((-82.01662405548471 63.01688328694098...\n",
      "Name: 399, dtype: object\n",
      "h3_res                                        880e327737fffff\n",
      "val                                                         0\n",
      "geometry    POLYGON ((-82.00994363279514 63.00831911852371...\n",
      "Name: 400, dtype: object\n",
      "h3_res                                        880e327739fffff\n",
      "val                                                         0\n",
      "geometry    POLYGON ((-81.98390219190566 63.02215734126946...\n",
      "Name: 401, dtype: object\n",
      "h3_res                                        880e32773bfffff\n",
      "val                                                         0\n",
      "geometry    POLYGON ((-81.977229838392 63.013591619923744,...\n",
      "Name: 402, dtype: object\n",
      "h3_res                                        880e32773dfffff\n",
      "val                                                         0\n",
      "geometry    POLYGON ((-82.00360427904538 63.02380354836722...\n",
      "Name: 403, dtype: object\n",
      "h3_res                                        880e327741fffff\n",
      "val                                                         0\n",
      "geometry    POLYGON ((-81.95813715134855 63.06003889920998...\n",
      "Name: 404, dtype: object\n",
      "h3_res                                        880e327743fffff\n",
      "val                                                         0\n",
      "geometry    POLYGON ((-81.9514636105794 63.051472473896, -...\n",
      "Name: 405, dtype: object\n",
      "h3_res                                        880e327745fffff\n",
      "val                                                         0\n",
      "geometry    POLYGON ((-81.97786319919834 63.06168836150571...\n",
      "Name: 406, dtype: object\n",
      "h3_res                                        880e327747fffff\n",
      "val                                                         0\n",
      "geometry    POLYGON ((-81.97118370359186 63.05312294475635...\n",
      "Name: 407, dtype: object\n",
      "h3_res                                        880e32774dfffff\n",
      "val                                                         0\n",
      "geometry    POLYGON ((-81.96481450229743 63.06860485962464...\n",
      "Name: 408, dtype: object\n",
      "h3_res                                        880e327751fffff\n",
      "val                                                         0\n",
      "geometry    POLYGON ((-81.9250816707821 63.04125133985874,...\n",
      "Name: 409, dtype: object\n",
      "h3_res                                        880e327755fffff\n",
      "val                                                         0\n",
      "geometry    POLYGON ((-81.94479387691057 63.04290558439378...\n",
      "Name: 410, dtype: object\n",
      "h3_res                                        880e327757fffff\n",
      "val                                                         0\n",
      "geometry    POLYGON ((-81.93812794726585 63.03433823141428...\n",
      "Name: 411, dtype: object\n",
      "h3_res                                        880e32775dfffff\n",
      "val                                                         0\n",
      "geometry    POLYGON ((-81.93174545221855 63.04981923609921...\n",
      "Name: 412, dtype: object\n",
      "h3_res                                        880e327761fffff\n",
      "val                                                         0\n",
      "geometry    POLYGON ((-82.01062967601689 63.05641558381875...\n",
      "Name: 413, dtype: object\n",
      "h3_res                                        880e327763fffff\n",
      "val                                                         0\n",
      "geometry    POLYGON ((-82.00394208832952 63.04785172102959...\n",
      "Name: 414, dtype: object\n",
      "h3_res                                        880e327765fffff\n",
      "val                                                         0\n",
      "geometry    POLYGON ((-82.0303555466453 63.05805775109959,...\n",
      "Name: 415, dtype: object\n",
      "h3_res                                        880e327767fffff\n",
      "val                                                         0\n",
      "geometry    POLYGON ((-82.02366200852612 63.04949489937997...\n",
      "Name: 416, dtype: object\n",
      "h3_res                                        880e327769fffff\n",
      "val                                                         0\n",
      "geometry    POLYGON ((-81.99759117686197 63.06333505531916...\n",
      "Name: 417, dtype: object\n",
      "h3_res                                        880e32776dfffff\n",
      "val                                                         0\n",
      "geometry    POLYGON ((-82.01732107994422 63.06497898018931...\n",
      "Name: 418, dtype: object\n",
      "h3_res                                        880e327a13fffff\n",
      "val                                                         0\n",
      "geometry    POLYGON ((-82.3993575162376 63.104230355764535...\n",
      "Name: 419, dtype: object\n",
      "h3_res                                        880e327a1bfffff\n",
      "val                                                         0\n",
      "geometry    POLYGON ((-82.38639216411964 63.11118421509183...\n",
      "Name: 420, dtype: object\n",
      "h3_res                                        880e327ac3fffff\n",
      "val                                                         0\n",
      "geometry    POLYGON ((-82.36598506357892 63.08555060258746...\n",
      "Name: 421, dtype: object\n",
      "h3_res                                        880e327ac5fffff\n",
      "val                                                         0\n",
      "geometry    POLYGON ((-82.39254920296517 63.09568685003027...\n",
      "Name: 422, dtype: object\n",
      "h3_res                                        880e327ac7fffff\n",
      "val                                                         0\n",
      "geometry    POLYGON ((-82.38574476653743 63.08714286295999...\n",
      "Name: 423, dtype: object\n",
      "h3_res                                        880e327acdfffff\n",
      "val                                                         0\n",
      "geometry    POLYGON ((-82.3795859213579 63.10264015865532,...\n",
      "Name: 424, dtype: object\n",
      "h3_res                                        880e327ad1fffff\n",
      "val                                                         0\n",
      "geometry    POLYGON ((-82.3394385232962 63.07540903822062,...\n",
      "Name: 425, dtype: object\n",
      "h3_res                                        880e327adbfffff\n",
      "val                                                         0\n",
      "geometry    POLYGON ((-82.31968845118634 63.07381019718728...\n",
      "Name: 426, dtype: object\n",
      "h3_res                                        880e327addfffff\n",
      "val                                                         0\n",
      "geometry    POLYGON ((-82.34622720256576 63.08395556584195...\n",
      "Name: 427, dtype: object\n"
     ]
    }
   ],
   "source": [
    "geojson_obj = (hexagons_dataframe_to_geojson\n",
    "                (df_points,\n",
    "                 hex_id_field='h3_res',\n",
    "                 value_field='val',\n",
    "                 geometry_field='geometry'))"
   ]
  },
  {
   "cell_type": "code",
   "execution_count": 17,
   "metadata": {},
   "outputs": [
    {
     "data": {
      "application/vnd.plotly.v1+json": {
       "config": {
        "plotlyServerURL": "https://plot.ly"
       },
       "data": [
        {
         "coloraxis": "coloraxis",
         "geojson": {
          "features": [
           {
            "geometry": {
             "coordinates": [
              [
               [
                -81.656532,
                63.290896
               ],
               [
                -81.667562,
                63.289164
               ],
               [
                -81.669753,
                63.284009
               ],
               [
                -81.660919,
                63.280587
               ],
               [
                -81.649893,
                63.282318
               ],
               [
                -81.647697,
                63.287473
               ],
               [
                -81.656532,
                63.290896
               ]
              ]
             ],
             "type": "Polygon"
            },
            "id": "880e320001fffff",
            "properties": {
             "value": 0
            },
            "type": "Feature"
           },
           {
            "geometry": {
             "coordinates": [
              [
               [
                -81.649893,
                63.282318
               ],
               [
                -81.660919,
                63.280587
               ],
               [
                -81.663112,
                63.275432
               ],
               [
                -81.654281,
                63.272009
               ],
               [
                -81.643257,
                63.27374
               ],
               [
                -81.641061,
                63.278895
               ],
               [
                -81.649893,
                63.282318
               ]
              ]
             ],
             "type": "Polygon"
            },
            "id": "880e320003fffff",
            "properties": {
             "value": 0
            },
            "type": "Feature"
           },
           {
            "geometry": {
             "coordinates": [
              [
               [
                -81.676399,
                63.292586
               ],
               [
                -81.687428,
                63.290852
               ],
               [
                -81.689616,
                63.285697
               ],
               [
                -81.680779,
                63.282276
               ],
               [
                -81.669753,
                63.284009
               ],
               [
                -81.667562,
                63.289164
               ],
               [
                -81.676399,
                63.292586
               ]
              ]
             ],
             "type": "Polygon"
            },
            "id": "880e320005fffff",
            "properties": {
             "value": 0
            },
            "type": "Feature"
           },
           {
            "geometry": {
             "coordinates": [
              [
               [
                -81.669753,
                63.284009
               ],
               [
                -81.680779,
                63.282276
               ],
               [
                -81.682969,
                63.277121
               ],
               [
                -81.674135,
                63.273699
               ],
               [
                -81.663112,
                63.275432
               ],
               [
                -81.660919,
                63.280587
               ],
               [
                -81.669753,
                63.284009
               ]
              ]
             ],
             "type": "Polygon"
            },
            "id": "880e320007fffff",
            "properties": {
             "value": 0
            },
            "type": "Feature"
           },
           {
            "geometry": {
             "coordinates": [
              [
               [
                -81.643305,
                63.297782
               ],
               [
                -81.654337,
                63.296051
               ],
               [
                -81.656532,
                63.290896
               ],
               [
                -81.647697,
                63.287473
               ],
               [
                -81.636667,
                63.289204
               ],
               [
                -81.634469,
                63.294358
               ],
               [
                -81.643305,
                63.297782
               ]
              ]
             ],
             "type": "Polygon"
            },
            "id": "880e320009fffff",
            "properties": {
             "value": 0
            },
            "type": "Feature"
           },
           {
            "geometry": {
             "coordinates": [
              [
               [
                -81.663175,
                63.299473
               ],
               [
                -81.674208,
                63.29774
               ],
               [
                -81.676399,
                63.292586
               ],
               [
                -81.667562,
                63.289164
               ],
               [
                -81.656532,
                63.290896
               ],
               [
                -81.654337,
                63.296051
               ],
               [
                -81.663175,
                63.299473
               ]
              ]
             ],
             "type": "Polygon"
            },
            "id": "880e32000dfffff",
            "properties": {
             "value": 0
            },
            "type": "Feature"
           },
           {
            "geometry": {
             "coordinates": [
              [
               [
                -81.709481,
                63.287382
               ],
               [
                -81.720506,
                63.285645
               ],
               [
                -81.722688,
                63.28049
               ],
               [
                -81.713849,
                63.277071
               ],
               [
                -81.702827,
                63.278806
               ],
               [
                -81.700642,
                63.283962
               ],
               [
                -81.709481,
                63.287382
               ]
              ]
             ],
             "type": "Polygon"
            },
            "id": "880e320021fffff",
            "properties": {
             "value": 0
            },
            "type": "Feature"
           },
           {
            "geometry": {
             "coordinates": [
              [
               [
                -81.722688,
                63.28049
               ],
               [
                -81.733709,
                63.278752
               ],
               [
                -81.735889,
                63.273596
               ],
               [
                -81.727051,
                63.270178
               ],
               [
                -81.716032,
                63.271915
               ],
               [
                -81.713849,
                63.277071
               ],
               [
                -81.722688,
                63.28049
               ]
              ]
             ],
             "type": "Polygon"
            },
            "id": "880e320027fffff",
            "properties": {
             "value": 0
            },
            "type": "Feature"
           },
           {
            "geometry": {
             "coordinates": [
              [
               [
                -81.696268,
                63.294272
               ],
               [
                -81.707296,
                63.292537
               ],
               [
                -81.709481,
                63.287382
               ],
               [
                -81.700642,
                63.283962
               ],
               [
                -81.689616,
                63.285697
               ],
               [
                -81.687428,
                63.290852
               ],
               [
                -81.696268,
                63.294272
               ]
              ]
             ],
             "type": "Polygon"
            },
            "id": "880e320029fffff",
            "properties": {
             "value": 0
            },
            "type": "Feature"
           },
           {
            "geometry": {
             "coordinates": [
              [
               [
                -81.689616,
                63.285697
               ],
               [
                -81.700642,
                63.283962
               ],
               [
                -81.702827,
                63.278806
               ],
               [
                -81.693991,
                63.275386
               ],
               [
                -81.682969,
                63.277121
               ],
               [
                -81.680779,
                63.282276
               ],
               [
                -81.689616,
                63.285697
               ]
              ]
             ],
             "type": "Polygon"
            },
            "id": "880e32002bfffff",
            "properties": {
             "value": 0
            },
            "type": "Feature"
           },
           {
            "geometry": {
             "coordinates": [
              [
               [
                -81.676325,
                63.268544
               ],
               [
                -81.687344,
                63.26681
               ],
               [
                -81.689531,
                63.261655
               ],
               [
                -81.680702,
                63.258234
               ],
               [
                -81.669685,
                63.259967
               ],
               [
                -81.667494,
                63.265122
               ],
               [
                -81.676325,
                63.268544
               ]
              ]
             ],
             "type": "Polygon"
            },
            "id": "880e320031fffff",
            "properties": {
             "value": 0
            },
            "type": "Feature"
           },
           {
            "geometry": {
             "coordinates": [
              [
               [
                -81.696177,
                63.270231
               ],
               [
                -81.707196,
                63.268496
               ],
               [
                -81.70938,
                63.26334
               ],
               [
                -81.700548,
                63.25992
               ],
               [
                -81.689531,
                63.261655
               ],
               [
                -81.687344,
                63.26681
               ],
               [
                -81.696177,
                63.270231
               ]
              ]
             ],
             "type": "Polygon"
            },
            "id": "880e320035fffff",
            "properties": {
             "value": 0
            },
            "type": "Feature"
           },
           {
            "geometry": {
             "coordinates": [
              [
               [
                -81.663112,
                63.275432
               ],
               [
                -81.674135,
                63.273699
               ],
               [
                -81.676325,
                63.268544
               ],
               [
                -81.667494,
                63.265122
               ],
               [
                -81.656474,
                63.266854
               ],
               [
                -81.654281,
                63.272009
               ],
               [
                -81.663112,
                63.275432
               ]
              ]
             ],
             "type": "Polygon"
            },
            "id": "880e320039fffff",
            "properties": {
             "value": 0
            },
            "type": "Feature"
           },
           {
            "geometry": {
             "coordinates": [
              [
               [
                -81.682969,
                63.277121
               ],
               [
                -81.693991,
                63.275386
               ],
               [
                -81.696177,
                63.270231
               ],
               [
                -81.687344,
                63.26681
               ],
               [
                -81.676325,
                63.268544
               ],
               [
                -81.674135,
                63.273699
               ],
               [
                -81.682969,
                63.277121
               ]
              ]
             ],
             "type": "Polygon"
            },
            "id": "880e32003dfffff",
            "properties": {
             "value": 0
            },
            "type": "Feature"
           },
           {
            "geometry": {
             "coordinates": [
              [
               [
                -81.636709,
                63.313245
               ],
               [
                -81.647749,
                63.311514
               ],
               [
                -81.649946,
                63.30636
               ],
               [
                -81.641107,
                63.302936
               ],
               [
                -81.630071,
                63.304667
               ],
               [
                -81.62787,
                63.309821
               ],
               [
                -81.636709,
                63.313245
               ]
              ]
             ],
             "type": "Polygon"
            },
            "id": "880e320041fffff",
            "properties": {
             "value": 0
            },
            "type": "Feature"
           },
           {
            "geometry": {
             "coordinates": [
              [
               [
                -81.65659,
                63.314937
               ],
               [
                -81.667629,
                63.313205
               ],
               [
                -81.669823,
                63.30805
               ],
               [
                -81.660981,
                63.304628
               ],
               [
                -81.649946,
                63.30636
               ],
               [
                -81.647749,
                63.311514
               ],
               [
                -81.65659,
                63.314937
               ]
              ]
             ],
             "type": "Polygon"
            },
            "id": "880e320045fffff",
            "properties": {
             "value": 0
            },
            "type": "Feature"
           },
           {
            "geometry": {
             "coordinates": [
              [
               [
                -81.649946,
                63.30636
               ],
               [
                -81.660981,
                63.304628
               ],
               [
                -81.663175,
                63.299473
               ],
               [
                -81.654337,
                63.296051
               ],
               [
                -81.643305,
                63.297782
               ],
               [
                -81.641107,
                63.302936
               ],
               [
                -81.649946,
                63.30636
               ]
              ]
             ],
             "type": "Polygon"
            },
            "id": "880e320047fffff",
            "properties": {
             "value": 0
            },
            "type": "Feature"
           },
           {
            "geometry": {
             "coordinates": [
              [
               [
                -81.643352,
                63.321823
               ],
               [
                -81.654394,
                63.320091
               ],
               [
                -81.65659,
                63.314937
               ],
               [
                -81.647749,
                63.311514
               ],
               [
                -81.636709,
                63.313245
               ],
               [
                -81.63451,
                63.318399
               ],
               [
                -81.643352,
                63.321823
               ]
              ]
             ],
             "type": "Polygon"
            },
            "id": "880e32004dfffff",
            "properties": {
             "value": 0
            },
            "type": "Feature"
           },
           {
            "geometry": {
             "coordinates": [
              [
               [
                -81.683048,
                63.301162
               ],
               [
                -81.69408,
                63.299427
               ],
               [
                -81.696268,
                63.294272
               ],
               [
                -81.687428,
                63.290852
               ],
               [
                -81.676399,
                63.292586
               ],
               [
                -81.674208,
                63.29774
               ],
               [
                -81.683048,
                63.301162
               ]
              ]
             ],
             "type": "Polygon"
            },
            "id": "880e320063fffff",
            "properties": {
             "value": 0
            },
            "type": "Feature"
           },
           {
            "geometry": {
             "coordinates": [
              [
               [
                -81.669823,
                63.30805
               ],
               [
                -81.680858,
                63.306317
               ],
               [
                -81.683048,
                63.301162
               ],
               [
                -81.674208,
                63.29774
               ],
               [
                -81.663175,
                63.299473
               ],
               [
                -81.660981,
                63.304628
               ],
               [
                -81.669823,
                63.30805
               ]
              ]
             ],
             "type": "Polygon"
            },
            "id": "880e32006bfffff",
            "properties": {
             "value": 0
            },
            "type": "Feature"
           },
           {
            "geometry": {
             "coordinates": [
              [
               [
                -81.74895,
                63.24266
               ],
               [
                -81.759955,
                63.240921
               ],
               [
                -81.762128,
                63.235764
               ],
               [
                -81.753298,
                63.232347
               ],
               [
                -81.742295,
                63.234086
               ],
               [
                -81.74012,
                63.239242
               ],
               [
                -81.74895,
                63.24266
               ]
              ]
             ],
             "type": "Polygon"
            },
            "id": "880e320181fffff",
            "properties": {
             "value": 0
            },
            "type": "Feature"
           },
           {
            "geometry": {
             "coordinates": [
              [
               [
                -81.762128,
                63.235764
               ],
               [
                -81.77313,
                63.234024
               ],
               [
                -81.775299,
                63.228867
               ],
               [
                -81.76647,
                63.225451
               ],
               [
                -81.75547,
                63.227191
               ],
               [
                -81.753298,
                63.232347
               ],
               [
                -81.762128,
                63.235764
               ]
              ]
             ],
             "type": "Polygon"
            },
            "id": "880e320187fffff",
            "properties": {
             "value": 0
            },
            "type": "Feature"
           },
           {
            "geometry": {
             "coordinates": [
              [
               [
                -81.735766,
                63.249555
               ],
               [
                -81.746775,
                63.247816
               ],
               [
                -81.74895,
                63.24266
               ],
               [
                -81.74012,
                63.239242
               ],
               [
                -81.729113,
                63.24098
               ],
               [
                -81.726935,
                63.246136
               ],
               [
                -81.735766,
                63.249555
               ]
              ]
             ],
             "type": "Polygon"
            },
            "id": "880e320189fffff",
            "properties": {
             "value": 0
            },
            "type": "Feature"
           },
           {
            "geometry": {
             "coordinates": [
              [
               [
                -81.801799,
                63.239112
               ],
               [
                -81.812799,
                63.237368
               ],
               [
                -81.814962,
                63.232211
               ],
               [
                -81.806127,
                63.228798
               ],
               [
                -81.795129,
                63.23054
               ],
               [
                -81.792963,
                63.235697
               ],
               [
                -81.801799,
                63.239112
               ]
              ]
             ],
             "type": "Polygon"
            },
            "id": "880e3201a1fffff",
            "properties": {
             "value": 0
            },
            "type": "Feature"
           },
           {
            "geometry": {
             "coordinates": [
              [
               [
                -81.814962,
                63.232211
               ],
               [
                -81.825959,
                63.230467
               ],
               [
                -81.828119,
                63.225309
               ],
               [
                -81.819285,
                63.221896
               ],
               [
                -81.80829,
                63.22364
               ],
               [
                -81.806127,
                63.228798
               ],
               [
                -81.814962,
                63.232211
               ]
              ]
             ],
             "type": "Polygon"
            },
            "id": "880e3201a7fffff",
            "properties": {
             "value": 0
            },
            "type": "Feature"
           },
           {
            "geometry": {
             "coordinates": [
              [
               [
                -81.788629,
                63.246011
               ],
               [
                -81.799633,
                63.244269
               ],
               [
                -81.801799,
                63.239112
               ],
               [
                -81.792963,
                63.235697
               ],
               [
                -81.781962,
                63.237439
               ],
               [
                -81.779793,
                63.242596
               ],
               [
                -81.788629,
                63.246011
               ]
              ]
             ],
             "type": "Polygon"
            },
            "id": "880e3201a9fffff",
            "properties": {
             "value": 0
            },
            "type": "Feature"
           },
           {
            "geometry": {
             "coordinates": [
              [
               [
                -81.788464,
                63.221969
               ],
               [
                -81.799459,
                63.220226
               ],
               [
                -81.801623,
                63.215069
               ],
               [
                -81.792795,
                63.211654
               ],
               [
                -81.781802,
                63.213396
               ],
               [
                -81.779635,
                63.218553
               ],
               [
                -81.788464,
                63.221969
               ]
              ]
             ],
             "type": "Polygon"
            },
            "id": "880e3201b5fffff",
            "properties": {
             "value": 0
            },
            "type": "Feature"
           },
           {
            "geometry": {
             "coordinates": [
              [
               [
                -81.775299,
                63.228867
               ],
               [
                -81.786297,
                63.227126
               ],
               [
                -81.788464,
                63.221969
               ],
               [
                -81.779635,
                63.218553
               ],
               [
                -81.768639,
                63.220294
               ],
               [
                -81.76647,
                63.225451
               ],
               [
                -81.775299,
                63.228867
               ]
              ]
             ],
             "type": "Polygon"
            },
            "id": "880e3201bdfffff",
            "properties": {
             "value": 0
            },
            "type": "Feature"
           },
           {
            "geometry": {
             "coordinates": [
              [
               [
                -81.722576,
                63.256448
               ],
               [
                -81.733588,
                63.254711
               ],
               [
                -81.735766,
                63.249555
               ],
               [
                -81.726935,
                63.246136
               ],
               [
                -81.715926,
                63.247873
               ],
               [
                -81.713744,
                63.253029
               ],
               [
                -81.722576,
                63.256448
               ]
              ]
             ],
             "type": "Polygon"
            },
            "id": "880e3201c3fffff",
            "properties": {
             "value": 0
            },
            "type": "Feature"
           },
           {
            "geometry": {
             "coordinates": [
              [
               [
                -81.749083,
                63.266702
               ],
               [
                -81.760098,
                63.264963
               ],
               [
                -81.762272,
                63.259806
               ],
               [
                -81.753434,
                63.25639
               ],
               [
                -81.742423,
                63.258129
               ],
               [
                -81.740246,
                63.263285
               ],
               [
                -81.749083,
                63.266702
               ]
              ]
             ],
             "type": "Polygon"
            },
            "id": "880e3201c5fffff",
            "properties": {
             "value": 0
            },
            "type": "Feature"
           },
           {
            "geometry": {
             "coordinates": [
              [
               [
                -81.70938,
                63.26334
               ],
               [
                -81.720396,
                63.261604
               ],
               [
                -81.722576,
                63.256448
               ],
               [
                -81.713744,
                63.253029
               ],
               [
                -81.702732,
                63.254765
               ],
               [
                -81.700548,
                63.25992
               ],
               [
                -81.70938,
                63.26334
               ]
              ]
             ],
             "type": "Polygon"
            },
            "id": "880e3201cbfffff",
            "properties": {
             "value": 0
            },
            "type": "Feature"
           },
           {
            "geometry": {
             "coordinates": [
              [
               [
                -81.735889,
                63.273596
               ],
               [
                -81.746907,
                63.271858
               ],
               [
                -81.749083,
                63.266702
               ],
               [
                -81.740246,
                63.263285
               ],
               [
                -81.729231,
                63.265022
               ],
               [
                -81.727051,
                63.270178
               ],
               [
                -81.735889,
                63.273596
               ]
              ]
             ],
             "type": "Polygon"
            },
            "id": "880e3201cdfffff",
            "properties": {
             "value": 0
            },
            "type": "Feature"
           },
           {
            "geometry": {
             "coordinates": [
              [
               [
                -81.775454,
                63.252909
               ],
               [
                -81.786461,
                63.251168
               ],
               [
                -81.788629,
                63.246011
               ],
               [
                -81.779793,
                63.242596
               ],
               [
                -81.768789,
                63.244337
               ],
               [
                -81.766617,
                63.249493
               ],
               [
                -81.775454,
                63.252909
               ]
              ]
             ],
             "type": "Polygon"
            },
            "id": "880e3201e3fffff",
            "properties": {
             "value": 0
            },
            "type": "Feature"
           },
           {
            "geometry": {
             "coordinates": [
              [
               [
                -81.762272,
                63.259806
               ],
               [
                -81.773283,
                63.258066
               ],
               [
                -81.775454,
                63.252909
               ],
               [
                -81.766617,
                63.249493
               ],
               [
                -81.755609,
                63.251233
               ],
               [
                -81.753434,
                63.25639
               ],
               [
                -81.762272,
                63.259806
               ]
              ]
             ],
             "type": "Polygon"
            },
            "id": "880e3201ebfffff",
            "properties": {
             "value": 0
            },
            "type": "Feature"
           },
           {
            "geometry": {
             "coordinates": [
              [
               [
                -81.986818,
                63.23856
               ],
               [
                -81.997806,
                63.236803
               ],
               [
                -81.999936,
                63.231643
               ],
               [
                -81.991082,
                63.228241
               ],
               [
                -81.980096,
                63.229998
               ],
               [
                -81.977963,
                63.235158
               ],
               [
                -81.986818,
                63.23856
               ]
              ]
             ],
             "type": "Polygon"
            },
            "id": "880e320813fffff",
            "properties": {
             "value": 0
            },
            "type": "Feature"
           },
           {
            "geometry": {
             "coordinates": [
              [
               [
                -81.980417,
                63.254039
               ],
               [
                -81.991412,
                63.252281
               ],
               [
                -81.993544,
                63.247122
               ],
               [
                -81.984685,
                63.24372
               ],
               [
                -81.973694,
                63.245476
               ],
               [
                -81.971558,
                63.250636
               ],
               [
                -81.980417,
                63.254039
               ]
              ]
             ],
             "type": "Polygon"
            },
            "id": "880e320819fffff",
            "properties": {
             "value": 0
            },
            "type": "Feature"
           },
           {
            "geometry": {
             "coordinates": [
              [
               [
                -81.973694,
                63.245476
               ],
               [
                -81.984685,
                63.24372
               ],
               [
                -81.986818,
                63.23856
               ],
               [
                -81.977963,
                63.235158
               ],
               [
                -81.966974,
                63.236914
               ],
               [
                -81.964838,
                63.242073
               ],
               [
                -81.973694,
                63.245476
               ]
              ]
             ],
             "type": "Polygon"
            },
            "id": "880e32081bfffff",
            "properties": {
             "value": 0
            },
            "type": "Feature"
           },
           {
            "geometry": {
             "coordinates": [
              [
               [
                -81.987145,
                63.2626
               ],
               [
                -81.998142,
                63.260843
               ],
               [
                -82.000274,
                63.255683
               ],
               [
                -81.991412,
                63.252281
               ],
               [
                -81.980417,
                63.254039
               ],
               [
                -81.978282,
                63.259198
               ],
               [
                -81.987145,
                63.2626
               ]
              ]
             ],
             "type": "Polygon"
            },
            "id": "880e320857fffff",
            "properties": {
             "value": 0
            },
            "type": "Feature"
           },
           {
            "geometry": {
             "coordinates": [
              [
               [
                -81.979776,
                63.205957
               ],
               [
                -81.990752,
                63.2042
               ],
               [
                -81.992881,
                63.19904
               ],
               [
                -81.984037,
                63.195637
               ],
               [
                -81.973063,
                63.197394
               ],
               [
                -81.970931,
                63.202553
               ],
               [
                -81.979776,
                63.205957
               ]
              ]
             ],
             "type": "Polygon"
            },
            "id": "880e320881fffff",
            "properties": {
             "value": 0
            },
            "type": "Feature"
           },
           {
            "geometry": {
             "coordinates": [
              [
               [
                -81.973063,
                63.197394
               ],
               [
                -81.984037,
                63.195637
               ],
               [
                -81.986166,
                63.190477
               ],
               [
                -81.977325,
                63.187074
               ],
               [
                -81.966354,
                63.18883
               ],
               [
                -81.964221,
                63.19399
               ],
               [
                -81.973063,
                63.197394
               ]
              ]
             ],
             "type": "Polygon"
            },
            "id": "880e320883fffff",
            "properties": {
             "value": 0
            },
            "type": "Feature"
           },
           {
            "geometry": {
             "coordinates": [
              [
               [
                -81.966664,
                63.212872
               ],
               [
                -81.977644,
                63.211116
               ],
               [
                -81.979776,
                63.205957
               ],
               [
                -81.970931,
                63.202553
               ],
               [
                -81.959953,
                63.204309
               ],
               [
                -81.957818,
                63.209468
               ],
               [
                -81.966664,
                63.212872
               ]
              ]
             ],
             "type": "Polygon"
            },
            "id": "880e320889fffff",
            "properties": {
             "value": 0
            },
            "type": "Feature"
           },
           {
            "geometry": {
             "coordinates": [
              [
               [
                -81.986492,
                63.214519
               ],
               [
                -81.997471,
                63.212762
               ],
               [
                -81.9996,
                63.207602
               ],
               [
                -81.990752,
                63.2042
               ],
               [
                -81.979776,
                63.205957
               ],
               [
                -81.977644,
                63.211116
               ],
               [
                -81.986492,
                63.214519
               ]
              ]
             ],
             "type": "Polygon"
            },
            "id": "880e32088dfffff",
            "properties": {
             "value": 0
            },
            "type": "Feature"
           },
           {
            "geometry": {
             "coordinates": [
              [
               [
                -81.992551,
                63.174997
               ],
               [
                -82.003515,
                63.173239
               ],
               [
                -82.005639,
                63.168079
               ],
               [
                -81.996803,
                63.164677
               ],
               [
                -81.985841,
                63.166434
               ],
               [
                -81.983714,
                63.171594
               ],
               [
                -81.992551,
                63.174997
               ]
              ]
             ],
             "type": "Polygon"
            },
            "id": "880e3208b3fffff",
            "properties": {
             "value": 0
            },
            "type": "Feature"
           },
           {
            "geometry": {
             "coordinates": [
              [
               [
                -81.986166,
                63.190477
               ],
               [
                -81.997137,
                63.18872
               ],
               [
                -81.999264,
                63.18356
               ],
               [
                -81.990423,
                63.180157
               ],
               [
                -81.979456,
                63.181914
               ],
               [
                -81.977325,
                63.187074
               ],
               [
                -81.986166,
                63.190477
               ]
              ]
             ],
             "type": "Polygon"
            },
            "id": "880e3208b9fffff",
            "properties": {
             "value": 0
            },
            "type": "Feature"
           },
           {
            "geometry": {
             "coordinates": [
              [
               [
                -81.979456,
                63.181914
               ],
               [
                -81.990423,
                63.180157
               ],
               [
                -81.992551,
                63.174997
               ],
               [
                -81.983714,
                63.171594
               ],
               [
                -81.972749,
                63.173351
               ],
               [
                -81.970618,
                63.178511
               ],
               [
                -81.979456,
                63.181914
               ]
              ]
             ],
             "type": "Polygon"
            },
            "id": "880e3208bbfffff",
            "properties": {
             "value": 0
            },
            "type": "Feature"
           },
           {
            "geometry": {
             "coordinates": [
              [
               [
                -81.980096,
                63.229998
               ],
               [
                -81.991082,
                63.228241
               ],
               [
                -81.993212,
                63.223081
               ],
               [
                -81.984361,
                63.219679
               ],
               [
                -81.973378,
                63.221435
               ],
               [
                -81.971244,
                63.226595
               ],
               [
                -81.980096,
                63.229998
               ]
              ]
             ],
             "type": "Polygon"
            },
            "id": "880e3208c5fffff",
            "properties": {
             "value": 0
            },
            "type": "Feature"
           },
           {
            "geometry": {
             "coordinates": [
              [
               [
                -81.973378,
                63.221435
               ],
               [
                -81.984361,
                63.219679
               ],
               [
                -81.986492,
                63.214519
               ],
               [
                -81.977644,
                63.211116
               ],
               [
                -81.966664,
                63.212872
               ],
               [
                -81.964529,
                63.218032
               ],
               [
                -81.973378,
                63.221435
               ]
              ]
             ],
             "type": "Polygon"
            },
            "id": "880e3208c7fffff",
            "properties": {
             "value": 0
            },
            "type": "Feature"
           },
           {
            "geometry": {
             "coordinates": [
              [
               [
                -81.966974,
                63.236914
               ],
               [
                -81.977963,
                63.235158
               ],
               [
                -81.980096,
                63.229998
               ],
               [
                -81.971244,
                63.226595
               ],
               [
                -81.960258,
                63.22835
               ],
               [
                -81.958121,
                63.23351
               ],
               [
                -81.966974,
                63.236914
               ]
              ]
             ],
             "type": "Polygon"
            },
            "id": "880e3208cdfffff",
            "properties": {
             "value": 0
            },
            "type": "Feature"
           },
           {
            "geometry": {
             "coordinates": [
              [
               [
                -81.926183,
                63.137439
               ],
               [
                -81.937138,
                63.135686
               ],
               [
                -81.939271,
                63.130527
               ],
               [
                -81.930453,
                63.12712
               ],
               [
                -81.919501,
                63.128872
               ],
               [
                -81.917364,
                63.134032
               ],
               [
                -81.926183,
                63.137439
               ]
              ]
             ],
             "type": "Polygon"
            },
            "id": "880e320d03fffff",
            "properties": {
             "value": 0
            },
            "type": "Feature"
           },
           {
            "geometry": {
             "coordinates": [
              [
               [
                -81.919772,
                63.152917
               ],
               [
                -81.930733,
                63.151165
               ],
               [
                -81.932869,
                63.146005
               ],
               [
                -81.924047,
                63.142599
               ],
               [
                -81.913088,
                63.14435
               ],
               [
                -81.910949,
                63.14951
               ],
               [
                -81.919772,
                63.152917
               ]
              ]
             ],
             "type": "Polygon"
            },
            "id": "880e320d09fffff",
            "properties": {
             "value": 0
            },
            "type": "Feature"
           },
           {
            "geometry": {
             "coordinates": [
              [
               [
                -81.913088,
                63.14435
               ],
               [
                -81.924047,
                63.142599
               ],
               [
                -81.926183,
                63.137439
               ],
               [
                -81.917364,
                63.134032
               ],
               [
                -81.906409,
                63.135783
               ],
               [
                -81.904269,
                63.140942
               ],
               [
                -81.913088,
                63.14435
               ]
              ]
             ],
             "type": "Polygon"
            },
            "id": "880e320d0bfffff",
            "properties": {
             "value": 0
            },
            "type": "Feature"
           },
           {
            "geometry": {
             "coordinates": [
              [
               [
                -81.899733,
                63.127215
               ],
               [
                -81.910686,
                63.125464
               ],
               [
                -81.912823,
                63.120305
               ],
               [
                -81.904011,
                63.116897
               ],
               [
                -81.893061,
                63.118647
               ],
               [
                -81.89092,
                63.123806
               ],
               [
                -81.899733,
                63.127215
               ]
              ]
             ],
             "type": "Polygon"
            },
            "id": "880e320d11fffff",
            "properties": {
             "value": 0
            },
            "type": "Feature"
           },
           {
            "geometry": {
             "coordinates": [
              [
               [
                -81.893061,
                63.118647
               ],
               [
                -81.904011,
                63.116897
               ],
               [
                -81.906149,
                63.111737
               ],
               [
                -81.89734,
                63.108328
               ],
               [
                -81.886393,
                63.110078
               ],
               [
                -81.884251,
                63.115237
               ],
               [
                -81.893061,
                63.118647
               ]
              ]
             ],
             "type": "Polygon"
            },
            "id": "880e320d13fffff",
            "properties": {
             "value": 0
            },
            "type": "Feature"
           },
           {
            "geometry": {
             "coordinates": [
              [
               [
                -81.919501,
                63.128872
               ],
               [
                -81.930453,
                63.12712
               ],
               [
                -81.932587,
                63.12196
               ],
               [
                -81.923772,
                63.118553
               ],
               [
                -81.912823,
                63.120305
               ],
               [
                -81.910686,
                63.125464
               ],
               [
                -81.919501,
                63.128872
               ]
              ]
             ],
             "type": "Polygon"
            },
            "id": "880e320d15fffff",
            "properties": {
             "value": 0
            },
            "type": "Feature"
           },
           {
            "geometry": {
             "coordinates": [
              [
               [
                -81.912823,
                63.120305
               ],
               [
                -81.923772,
                63.118553
               ],
               [
                -81.925907,
                63.113394
               ],
               [
                -81.917095,
                63.109986
               ],
               [
                -81.906149,
                63.111737
               ],
               [
                -81.904011,
                63.116897
               ],
               [
                -81.912823,
                63.120305
               ]
              ]
             ],
             "type": "Polygon"
            },
            "id": "880e320d17fffff",
            "properties": {
             "value": 0
            },
            "type": "Feature"
           },
           {
            "geometry": {
             "coordinates": [
              [
               [
                -81.886637,
                63.134124
               ],
               [
                -81.897593,
                63.132374
               ],
               [
                -81.899733,
                63.127215
               ],
               [
                -81.89092,
                63.123806
               ],
               [
                -81.879967,
                63.125556
               ],
               [
                -81.877823,
                63.130714
               ],
               [
                -81.886637,
                63.134124
               ]
              ]
             ],
             "type": "Polygon"
            },
            "id": "880e320d19fffff",
            "properties": {
             "value": 0
            },
            "type": "Feature"
           },
           {
            "geometry": {
             "coordinates": [
              [
               [
                -81.985517,
                63.14239
               ],
               [
                -81.99647,
                63.140633
               ],
               [
                -81.998593,
                63.135473
               ],
               [
                -81.989767,
                63.13207
               ],
               [
                -81.978817,
                63.133827
               ],
               [
                -81.97669,
                63.138987
               ],
               [
                -81.985517,
                63.14239
               ]
              ]
             ],
             "type": "Polygon"
            },
            "id": "880e320d21fffff",
            "properties": {
             "value": 0
            },
            "type": "Feature"
           },
           {
            "geometry": {
             "coordinates": [
              [
               [
                -81.978817,
                63.133827
               ],
               [
                -81.989767,
                63.13207
               ],
               [
                -81.991891,
                63.126909
               ],
               [
                -81.983068,
                63.123506
               ],
               [
                -81.972121,
                63.125262
               ],
               [
                -81.969994,
                63.130423
               ],
               [
                -81.978817,
                63.133827
               ]
              ]
             ],
             "type": "Polygon"
            },
            "id": "880e320d23fffff",
            "properties": {
             "value": 0
            },
            "type": "Feature"
           },
           {
            "geometry": {
             "coordinates": [
              [
               [
                -81.998593,
                63.135473
               ],
               [
                -82.009542,
                63.133714
               ],
               [
                -82.011663,
                63.128554
               ],
               [
                -82.002838,
                63.125151
               ],
               [
                -81.991891,
                63.126909
               ],
               [
                -81.989767,
                63.13207
               ],
               [
                -81.998593,
                63.135473
               ]
              ]
             ],
             "type": "Polygon"
            },
            "id": "880e320d27fffff",
            "properties": {
             "value": 0
            },
            "type": "Feature"
           },
           {
            "geometry": {
             "coordinates": [
              [
               [
                -81.972435,
                63.149307
               ],
               [
                -81.983391,
                63.147551
               ],
               [
                -81.985517,
                63.14239
               ],
               [
                -81.97669,
                63.138987
               ],
               [
                -81.965737,
                63.140743
               ],
               [
                -81.963607,
                63.145903
               ],
               [
                -81.972435,
                63.149307
               ]
              ]
             ],
             "type": "Polygon"
            },
            "id": "880e320d29fffff",
            "properties": {
             "value": 0
            },
            "type": "Feature"
           },
           {
            "geometry": {
             "coordinates": [
              [
               [
                -81.992221,
                63.150954
               ],
               [
                -82.003176,
                63.149196
               ],
               [
                -82.005299,
                63.144035
               ],
               [
                -81.99647,
                63.140633
               ],
               [
                -81.985517,
                63.14239
               ],
               [
                -81.983391,
                63.147551
               ],
               [
                -81.992221,
                63.150954
               ]
              ]
             ],
             "type": "Polygon"
            },
            "id": "880e320d2dfffff",
            "properties": {
             "value": 0
            },
            "type": "Feature"
           },
           {
            "geometry": {
             "coordinates": [
              [
               [
                -81.913354,
                63.168395
               ],
               [
                -81.924321,
                63.166643
               ],
               [
                -81.926459,
                63.161484
               ],
               [
                -81.917633,
                63.158077
               ],
               [
                -81.906669,
                63.159828
               ],
               [
                -81.904528,
                63.164987
               ],
               [
                -81.913354,
                63.168395
               ]
              ]
             ],
             "type": "Polygon"
            },
            "id": "880e320d41fffff",
            "properties": {
             "value": 0
            },
            "type": "Feature"
           },
           {
            "geometry": {
             "coordinates": [
              [
               [
                -81.906669,
                63.159828
               ],
               [
                -81.917633,
                63.158077
               ],
               [
                -81.919772,
                63.152917
               ],
               [
                -81.910949,
                63.14951
               ],
               [
                -81.899988,
                63.151261
               ],
               [
                -81.897846,
                63.15642
               ],
               [
                -81.906669,
                63.159828
               ]
              ]
             ],
             "type": "Polygon"
            },
            "id": "880e320d43fffff",
            "properties": {
             "value": 0
            },
            "type": "Feature"
           },
           {
            "geometry": {
             "coordinates": [
              [
               [
                -81.900243,
                63.175305
               ],
               [
                -81.911214,
                63.173554
               ],
               [
                -81.913354,
                63.168395
               ],
               [
                -81.904528,
                63.164987
               ],
               [
                -81.89356,
                63.166737
               ],
               [
                -81.891416,
                63.171896
               ],
               [
                -81.900243,
                63.175305
               ]
              ]
             ],
             "type": "Polygon"
            },
            "id": "880e320d49fffff",
            "properties": {
             "value": 0
            },
            "type": "Feature"
           },
           {
            "geometry": {
             "coordinates": [
              [
               [
                -81.89356,
                63.166737
               ],
               [
                -81.904528,
                63.164987
               ],
               [
                -81.906669,
                63.159828
               ],
               [
                -81.897846,
                63.15642
               ],
               [
                -81.886881,
                63.158169
               ],
               [
                -81.884736,
                63.163328
               ],
               [
                -81.89356,
                63.166737
               ]
              ]
             ],
             "type": "Polygon"
            },
            "id": "880e320d4bfffff",
            "properties": {
             "value": 0
            },
            "type": "Feature"
           },
           {
            "geometry": {
             "coordinates": [
              [
               [
                -81.880206,
                63.149601
               ],
               [
                -81.891168,
                63.147852
               ],
               [
                -81.89331,
                63.142693
               ],
               [
                -81.884494,
                63.139283
               ],
               [
                -81.873534,
                63.141032
               ],
               [
                -81.871388,
                63.146191
               ],
               [
                -81.880206,
                63.149601
               ]
              ]
             ],
             "type": "Polygon"
            },
            "id": "880e320d51fffff",
            "properties": {
             "value": 0
            },
            "type": "Feature"
           },
           {
            "geometry": {
             "coordinates": [
              [
               [
                -81.89331,
                63.142693
               ],
               [
                -81.904269,
                63.140942
               ],
               [
                -81.906409,
                63.135783
               ],
               [
                -81.897593,
                63.132374
               ],
               [
                -81.886637,
                63.134124
               ],
               [
                -81.884494,
                63.139283
               ],
               [
                -81.89331,
                63.142693
               ]
              ]
             ],
             "type": "Polygon"
            },
            "id": "880e320d57fffff",
            "properties": {
             "value": 0
            },
            "type": "Feature"
           },
           {
            "geometry": {
             "coordinates": [
              [
               [
                -81.867095,
                63.156508
               ],
               [
                -81.87806,
                63.15476
               ],
               [
                -81.880206,
                63.149601
               ],
               [
                -81.871388,
                63.146191
               ],
               [
                -81.860425,
                63.147939
               ],
               [
                -81.858277,
                63.153097
               ],
               [
                -81.867095,
                63.156508
               ]
              ]
             ],
             "type": "Polygon"
            },
            "id": "880e320d59fffff",
            "properties": {
             "value": 0
            },
            "type": "Feature"
           },
           {
            "geometry": {
             "coordinates": [
              [
               [
                -81.886881,
                63.158169
               ],
               [
                -81.897846,
                63.15642
               ],
               [
                -81.899988,
                63.151261
               ],
               [
                -81.891168,
                63.147852
               ],
               [
                -81.880206,
                63.149601
               ],
               [
                -81.87806,
                63.15476
               ],
               [
                -81.886881,
                63.158169
               ]
              ]
             ],
             "type": "Polygon"
            },
            "id": "880e320d5dfffff",
            "properties": {
             "value": 0
            },
            "type": "Feature"
           },
           {
            "geometry": {
             "coordinates": [
              [
               [
                -81.985841,
                63.166434
               ],
               [
                -81.996803,
                63.164677
               ],
               [
                -81.998928,
                63.159517
               ],
               [
                -81.990095,
                63.156114
               ],
               [
                -81.979136,
                63.157871
               ],
               [
                -81.977008,
                63.163031
               ],
               [
                -81.985841,
                63.166434
               ]
              ]
             ],
             "type": "Polygon"
            },
            "id": "880e320d65fffff",
            "properties": {
             "value": 0
            },
            "type": "Feature"
           },
           {
            "geometry": {
             "coordinates": [
              [
               [
                -81.979136,
                63.157871
               ],
               [
                -81.990095,
                63.156114
               ],
               [
                -81.992221,
                63.150954
               ],
               [
                -81.983391,
                63.147551
               ],
               [
                -81.972435,
                63.149307
               ],
               [
                -81.970306,
                63.154467
               ],
               [
                -81.979136,
                63.157871
               ]
              ]
             ],
             "type": "Polygon"
            },
            "id": "880e320d67fffff",
            "properties": {
             "value": 0
            },
            "type": "Feature"
           },
           {
            "geometry": {
             "coordinates": [
              [
               [
                -81.972749,
                63.173351
               ],
               [
                -81.983714,
                63.171594
               ],
               [
                -81.985841,
                63.166434
               ],
               [
                -81.977008,
                63.163031
               ],
               [
                -81.966045,
                63.164787
               ],
               [
                -81.963914,
                63.169947
               ],
               [
                -81.972749,
                63.173351
               ]
              ]
             ],
             "type": "Polygon"
            },
            "id": "880e320d6dfffff",
            "properties": {
             "value": 0
            },
            "type": "Feature"
           },
           {
            "geometry": {
             "coordinates": [
              [
               [
                -81.905889,
                63.087691
               ],
               [
                -81.916827,
                63.085939
               ],
               [
                -81.91896,
                63.080779
               ],
               [
                -81.910159,
                63.077371
               ],
               [
                -81.899224,
                63.079122
               ],
               [
                -81.897088,
                63.084281
               ],
               [
                -81.905889,
                63.087691
               ]
              ]
             ],
             "type": "Polygon"
            },
            "id": "880e320d85fffff",
            "properties": {
             "value": 0
            },
            "type": "Feature"
           },
           {
            "geometry": {
             "coordinates": [
              [
               [
                -81.899224,
                63.079122
               ],
               [
                -81.910159,
                63.077371
               ],
               [
                -81.912293,
                63.072211
               ],
               [
                -81.903496,
                63.068803
               ],
               [
                -81.892563,
                63.070553
               ],
               [
                -81.890426,
                63.075712
               ],
               [
                -81.899224,
                63.079122
               ]
              ]
             ],
             "type": "Polygon"
            },
            "id": "880e320d87fffff",
            "properties": {
             "value": 0
            },
            "type": "Feature"
           },
           {
            "geometry": {
             "coordinates": [
              [
               [
                -81.892812,
                63.0946
               ],
               [
                -81.903753,
                63.09285
               ],
               [
                -81.905889,
                63.087691
               ],
               [
                -81.897088,
                63.084281
               ],
               [
                -81.886149,
                63.086031
               ],
               [
                -81.884009,
                63.091191
               ],
               [
                -81.892812,
                63.0946
               ]
              ]
             ],
             "type": "Polygon"
            },
            "id": "880e320d8dfffff",
            "properties": {
             "value": 0
            },
            "type": "Feature"
           },
           {
            "geometry": {
             "coordinates": [
              [
               [
                -81.938699,
                63.082434
               ],
               [
                -81.949632,
                63.08068
               ],
               [
                -81.95176,
                63.07552
               ],
               [
                -81.942957,
                63.072114
               ],
               [
                -81.932026,
                63.073867
               ],
               [
                -81.929895,
                63.079027
               ],
               [
                -81.938699,
                63.082434
               ]
              ]
             ],
             "type": "Polygon"
            },
            "id": "880e320da1fffff",
            "properties": {
             "value": 0
            },
            "type": "Feature"
           },
           {
            "geometry": {
             "coordinates": [
              [
               [
                -81.932026,
                63.073867
               ],
               [
                -81.942957,
                63.072114
               ],
               [
                -81.945084,
                63.066954
               ],
               [
                -81.936285,
                63.063547
               ],
               [
                -81.925356,
                63.0653
               ],
               [
                -81.923225,
                63.07046
               ],
               [
                -81.932026,
                63.073867
               ]
              ]
             ],
             "type": "Polygon"
            },
            "id": "880e320da3fffff",
            "properties": {
             "value": 0
            },
            "type": "Feature"
           },
           {
            "geometry": {
             "coordinates": [
              [
               [
                -81.958439,
                63.084086
               ],
               [
                -81.969372,
                63.082331
               ],
               [
                -81.971496,
                63.07717
               ],
               [
                -81.96269,
                63.073765
               ],
               [
                -81.95176,
                63.07552
               ],
               [
                -81.949632,
                63.08068
               ],
               [
                -81.958439,
                63.084086
               ]
              ]
             ],
             "type": "Polygon"
            },
            "id": "880e320da5fffff",
            "properties": {
             "value": 0
            },
            "type": "Feature"
           },
           {
            "geometry": {
             "coordinates": [
              [
               [
                -81.95176,
                63.07552
               ],
               [
                -81.96269,
                63.073765
               ],
               [
                -81.964815,
                63.068605
               ],
               [
                -81.956012,
                63.065199
               ],
               [
                -81.945084,
                63.066954
               ],
               [
                -81.942957,
                63.072114
               ],
               [
                -81.95176,
                63.07552
               ]
              ]
             ],
             "type": "Polygon"
            },
            "id": "880e320da7fffff",
            "properties": {
             "value": 0
            },
            "type": "Feature"
           },
           {
            "geometry": {
             "coordinates": [
              [
               [
                -81.945375,
                63.091001
               ],
               [
                -81.956312,
                63.089246
               ],
               [
                -81.958439,
                63.084086
               ],
               [
                -81.949632,
                63.08068
               ],
               [
                -81.938699,
                63.082434
               ],
               [
                -81.936568,
                63.087594
               ],
               [
                -81.945375,
                63.091001
               ]
              ]
             ],
             "type": "Polygon"
            },
            "id": "880e320dadfffff",
            "properties": {
             "value": 0
            },
            "type": "Feature"
           },
           {
            "geometry": {
             "coordinates": [
              [
               [
                -81.90563,
                63.063643
               ],
               [
                -81.916559,
                63.061892
               ],
               [
                -81.918691,
                63.056732
               ],
               [
                -81.909897,
                63.053323
               ],
               [
                -81.898971,
                63.055074
               ],
               [
                -81.896836,
                63.060234
               ],
               [
                -81.90563,
                63.063643
               ]
              ]
             ],
             "type": "Polygon"
            },
            "id": "880e320db1fffff",
            "properties": {
             "value": 0
            },
            "type": "Feature"
           },
           {
            "geometry": {
             "coordinates": [
              [
               [
                -81.918691,
                63.056732
               ],
               [
                -81.929616,
                63.054979
               ],
               [
                -81.931745,
                63.049819
               ],
               [
                -81.922952,
                63.046412
               ],
               [
                -81.912029,
                63.048163
               ],
               [
                -81.909897,
                63.053323
               ],
               [
                -81.918691,
                63.056732
               ]
              ]
             ],
             "type": "Polygon"
            },
            "id": "880e320db7fffff",
            "properties": {
             "value": 0
            },
            "type": "Feature"
           },
           {
            "geometry": {
             "coordinates": [
              [
               [
                -81.885906,
                63.061983
               ],
               [
                -81.896836,
                63.060234
               ],
               [
                -81.898971,
                63.055074
               ],
               [
                -81.890179,
                63.051664
               ],
               [
                -81.879252,
                63.053413
               ],
               [
                -81.877114,
                63.058573
               ],
               [
                -81.885906,
                63.061983
               ]
              ]
             ],
             "type": "Polygon"
            },
            "id": "880e320dbbfffff",
            "properties": {
             "value": 0
            },
            "type": "Feature"
           },
           {
            "geometry": {
             "coordinates": [
              [
               [
                -81.912293,
                63.072211
               ],
               [
                -81.923225,
                63.07046
               ],
               [
                -81.925356,
                63.0653
               ],
               [
                -81.916559,
                63.061892
               ],
               [
                -81.90563,
                63.063643
               ],
               [
                -81.903496,
                63.068803
               ],
               [
                -81.912293,
                63.072211
               ]
              ]
             ],
             "type": "Polygon"
            },
            "id": "880e320dbdfffff",
            "properties": {
             "value": 0
            },
            "type": "Feature"
           },
           {
            "geometry": {
             "coordinates": [
              [
               [
                -81.919231,
                63.104826
               ],
               [
                -81.930174,
                63.103074
               ],
               [
                -81.932306,
                63.097914
               ],
               [
                -81.923498,
                63.094507
               ],
               [
                -81.912558,
                63.096259
               ],
               [
                -81.910422,
                63.101418
               ],
               [
                -81.919231,
                63.104826
               ]
              ]
             ],
             "type": "Polygon"
            },
            "id": "880e320de1fffff",
            "properties": {
             "value": 0
            },
            "type": "Feature"
           },
           {
            "geometry": {
             "coordinates": [
              [
               [
                -81.912558,
                63.096259
               ],
               [
                -81.923498,
                63.094507
               ],
               [
                -81.925631,
                63.089347
               ],
               [
                -81.916827,
                63.085939
               ],
               [
                -81.905889,
                63.087691
               ],
               [
                -81.903753,
                63.09285
               ],
               [
                -81.912558,
                63.096259
               ]
              ]
             ],
             "type": "Polygon"
            },
            "id": "880e320de3fffff",
            "properties": {
             "value": 0
            },
            "type": "Feature"
           },
           {
            "geometry": {
             "coordinates": [
              [
               [
                -81.932306,
                63.097914
               ],
               [
                -81.943246,
                63.096161
               ],
               [
                -81.945375,
                63.091001
               ],
               [
                -81.936568,
                63.087594
               ],
               [
                -81.925631,
                63.089347
               ],
               [
                -81.923498,
                63.094507
               ],
               [
                -81.932306,
                63.097914
               ]
              ]
             ],
             "type": "Polygon"
            },
            "id": "880e320de7fffff",
            "properties": {
             "value": 0
            },
            "type": "Feature"
           },
           {
            "geometry": {
             "coordinates": [
              [
               [
                -81.906149,
                63.111737
               ],
               [
                -81.917095,
                63.109986
               ],
               [
                -81.919231,
                63.104826
               ],
               [
                -81.910422,
                63.101418
               ],
               [
                -81.899478,
                63.103169
               ],
               [
                -81.89734,
                63.108328
               ],
               [
                -81.906149,
                63.111737
               ]
              ]
             ],
             "type": "Polygon"
            },
            "id": "880e320de9fffff",
            "properties": {
             "value": 0
            },
            "type": "Feature"
           },
           {
            "geometry": {
             "coordinates": [
              [
               [
                -81.899478,
                63.103169
               ],
               [
                -81.910422,
                63.101418
               ],
               [
                -81.912558,
                63.096259
               ],
               [
                -81.903753,
                63.09285
               ],
               [
                -81.892812,
                63.0946
               ],
               [
                -81.890673,
                63.09976
               ],
               [
                -81.899478,
                63.103169
               ]
              ]
             ],
             "type": "Polygon"
            },
            "id": "880e320debfffff",
            "properties": {
             "value": 0
            },
            "type": "Feature"
           },
           {
            "geometry": {
             "coordinates": [
              [
               [
                -81.841062,
                63.194363
               ],
               [
                -81.852043,
                63.192617
               ],
               [
                -81.854196,
                63.187458
               ],
               [
                -81.84537,
                63.184047
               ],
               [
                -81.834391,
                63.185793
               ],
               [
                -81.832236,
                63.190951
               ],
               [
                -81.841062,
                63.194363
               ]
              ]
             ],
             "type": "Polygon"
            },
            "id": "880e320f01fffff",
            "properties": {
             "value": 0
            },
            "type": "Feature"
           },
           {
            "geometry": {
             "coordinates": [
              [
               [
                -81.834391,
                63.185793
               ],
               [
                -81.84537,
                63.184047
               ],
               [
                -81.847523,
                63.178889
               ],
               [
                -81.838701,
                63.175477
               ],
               [
                -81.827725,
                63.177222
               ],
               [
                -81.825568,
                63.18238
               ],
               [
                -81.834391,
                63.185793
               ]
              ]
             ],
             "type": "Polygon"
            },
            "id": "880e320f03fffff",
            "properties": {
             "value": 0
            },
            "type": "Feature"
           },
           {
            "geometry": {
             "coordinates": [
              [
               [
                -81.860872,
                63.196028
               ],
               [
                -81.871853,
                63.19428
               ],
               [
                -81.874002,
                63.189121
               ],
               [
                -81.865174,
                63.185711
               ],
               [
                -81.854196,
                63.187458
               ],
               [
                -81.852043,
                63.192617
               ],
               [
                -81.860872,
                63.196028
               ]
              ]
             ],
             "type": "Polygon"
            },
            "id": "880e320f05fffff",
            "properties": {
             "value": 0
            },
            "type": "Feature"
           },
           {
            "geometry": {
             "coordinates": [
              [
               [
                -81.827922,
                63.201266
               ],
               [
                -81.838907,
                63.199521
               ],
               [
                -81.841062,
                63.194363
               ],
               [
                -81.832236,
                63.190951
               ],
               [
                -81.821253,
                63.192696
               ],
               [
                -81.819095,
                63.197853
               ],
               [
                -81.827922,
                63.201266
               ]
              ]
             ],
             "type": "Polygon"
            },
            "id": "880e320f09fffff",
            "properties": {
             "value": 0
            },
            "type": "Feature"
           },
           {
            "geometry": {
             "coordinates": [
              [
               [
                -81.821253,
                63.192696
               ],
               [
                -81.832236,
                63.190951
               ],
               [
                -81.834391,
                63.185793
               ],
               [
                -81.825568,
                63.18238
               ],
               [
                -81.814589,
                63.184124
               ],
               [
                -81.81243,
                63.189282
               ],
               [
                -81.821253,
                63.192696
               ]
              ]
             ],
             "type": "Polygon"
            },
            "id": "880e320f0bfffff",
            "properties": {
             "value": 0
            },
            "type": "Feature"
           },
           {
            "geometry": {
             "coordinates": [
              [
               [
                -81.847736,
                63.202933
               ],
               [
                -81.85872,
                63.201186
               ],
               [
                -81.860872,
                63.196028
               ],
               [
                -81.852043,
                63.192617
               ],
               [
                -81.841062,
                63.194363
               ],
               [
                -81.838907,
                63.199521
               ],
               [
                -81.847736,
                63.202933
               ]
              ]
             ],
             "type": "Polygon"
            },
            "id": "880e320f0dfffff",
            "properties": {
             "value": 0
            },
            "type": "Feature"
           },
           {
            "geometry": {
             "coordinates": [
              [
               [
                -81.887126,
                63.182214
               ],
               [
                -81.8981,
                63.180464
               ],
               [
                -81.900243,
                63.175305
               ],
               [
                -81.891416,
                63.171896
               ],
               [
                -81.880445,
                63.173646
               ],
               [
                -81.878298,
                63.178804
               ],
               [
                -81.887126,
                63.182214
               ]
              ]
             ],
             "type": "Polygon"
            },
            "id": "880e320f23fffff",
            "properties": {
             "value": 0
            },
            "type": "Feature"
           },
           {
            "geometry": {
             "coordinates": [
              [
               [
                -81.874002,
                63.189121
               ],
               [
                -81.884979,
                63.187372
               ],
               [
                -81.887126,
                63.182214
               ],
               [
                -81.878298,
                63.178804
               ],
               [
                -81.867323,
                63.180553
               ],
               [
                -81.865174,
                63.185711
               ],
               [
                -81.874002,
                63.189121
               ]
              ]
             ],
             "type": "Polygon"
            },
            "id": "880e320f2bfffff",
            "properties": {
             "value": 0
            },
            "type": "Feature"
           },
           {
            "geometry": {
             "coordinates": [
              [
               [
                -81.860649,
                63.171984
               ],
               [
                -81.87162,
                63.170236
               ],
               [
                -81.873768,
                63.165077
               ],
               [
                -81.864947,
                63.161667
               ],
               [
                -81.853978,
                63.163414
               ],
               [
                -81.851827,
                63.168572
               ],
               [
                -81.860649,
                63.171984
               ]
              ]
             ],
             "type": "Polygon"
            },
            "id": "880e320f31fffff",
            "properties": {
             "value": 0
            },
            "type": "Feature"
           },
           {
            "geometry": {
             "coordinates": [
              [
               [
                -81.873768,
                63.165077
               ],
               [
                -81.884736,
                63.163328
               ],
               [
                -81.886881,
                63.158169
               ],
               [
                -81.87806,
                63.15476
               ],
               [
                -81.867095,
                63.156508
               ],
               [
                -81.864947,
                63.161667
               ],
               [
                -81.873768,
                63.165077
               ]
              ]
             ],
             "type": "Polygon"
            },
            "id": "880e320f37fffff",
            "properties": {
             "value": 0
            },
            "type": "Feature"
           },
           {
            "geometry": {
             "coordinates": [
              [
               [
                -81.847523,
                63.178889
               ],
               [
                -81.858498,
                63.177142
               ],
               [
                -81.860649,
                63.171984
               ],
               [
                -81.851827,
                63.168572
               ],
               [
                -81.840854,
                63.170319
               ],
               [
                -81.838701,
                63.175477
               ],
               [
                -81.847523,
                63.178889
               ]
              ]
             ],
             "type": "Polygon"
            },
            "id": "880e320f39fffff",
            "properties": {
             "value": 0
            },
            "type": "Feature"
           },
           {
            "geometry": {
             "coordinates": [
              [
               [
                -81.814775,
                63.208168
               ],
               [
                -81.825764,
                63.206424
               ],
               [
                -81.827922,
                63.201266
               ],
               [
                -81.819095,
                63.197853
               ],
               [
                -81.808109,
                63.199597
               ],
               [
                -81.805948,
                63.204754
               ],
               [
                -81.814775,
                63.208168
               ]
              ]
             ],
             "type": "Polygon"
            },
            "id": "880e320f43fffff",
            "properties": {
             "value": 0
            },
            "type": "Feature"
           },
           {
            "geometry": {
             "coordinates": [
              [
               [
                -81.84127,
                63.218406
               ],
               [
                -81.85226,
                63.21666
               ],
               [
                -81.854414,
                63.211502
               ],
               [
                -81.845581,
                63.20809
               ],
               [
                -81.834594,
                63.209836
               ],
               [
                -81.832436,
                63.214994
               ],
               [
                -81.84127,
                63.218406
               ]
              ]
             ],
             "type": "Polygon"
            },
            "id": "880e320f45fffff",
            "properties": {
             "value": 0
            },
            "type": "Feature"
           },
           {
            "geometry": {
             "coordinates": [
              [
               [
                -81.834594,
                63.209836
               ],
               [
                -81.845581,
                63.20809
               ],
               [
                -81.847736,
                63.202933
               ],
               [
                -81.838907,
                63.199521
               ],
               [
                -81.827922,
                63.201266
               ],
               [
                -81.825764,
                63.206424
               ],
               [
                -81.834594,
                63.209836
               ]
              ]
             ],
             "type": "Polygon"
            },
            "id": "880e320f47fffff",
            "properties": {
             "value": 0
            },
            "type": "Feature"
           },
           {
            "geometry": {
             "coordinates": [
              [
               [
                -81.801623,
                63.215069
               ],
               [
                -81.812614,
                63.213326
               ],
               [
                -81.814775,
                63.208168
               ],
               [
                -81.805948,
                63.204754
               ],
               [
                -81.794959,
                63.206497
               ],
               [
                -81.792795,
                63.211654
               ],
               [
                -81.801623,
                63.215069
               ]
              ]
             ],
             "type": "Polygon"
            },
            "id": "880e320f4bfffff",
            "properties": {
             "value": 0
            },
            "type": "Feature"
           },
           {
            "geometry": {
             "coordinates": [
              [
               [
                -81.828119,
                63.225309
               ],
               [
                -81.839113,
                63.223564
               ],
               [
                -81.84127,
                63.218406
               ],
               [
                -81.832436,
                63.214994
               ],
               [
                -81.821445,
                63.216739
               ],
               [
                -81.819285,
                63.221896
               ],
               [
                -81.828119,
                63.225309
               ]
              ]
             ],
             "type": "Polygon"
            },
            "id": "880e320f4dfffff",
            "properties": {
             "value": 0
            },
            "type": "Feature"
           },
           {
            "geometry": {
             "coordinates": [
              [
               [
                -81.867552,
                63.204596
               ],
               [
                -81.878536,
                63.202848
               ],
               [
                -81.880685,
                63.197689
               ],
               [
                -81.871853,
                63.19428
               ],
               [
                -81.860872,
                63.196028
               ],
               [
                -81.85872,
                63.201186
               ],
               [
                -81.867552,
                63.204596
               ]
              ]
             ],
             "type": "Polygon"
            },
            "id": "880e320f63fffff",
            "properties": {
             "value": 0
            },
            "type": "Feature"
           },
           {
            "geometry": {
             "coordinates": [
              [
               [
                -81.854414,
                63.211502
               ],
               [
                -81.865401,
                63.209754
               ],
               [
                -81.867552,
                63.204596
               ],
               [
                -81.85872,
                63.201186
               ],
               [
                -81.847736,
                63.202933
               ],
               [
                -81.845581,
                63.20809
               ],
               [
                -81.854414,
                63.211502
               ]
              ]
             ],
             "type": "Polygon"
            },
            "id": "880e320f6bfffff",
            "properties": {
             "value": 0
            },
            "type": "Feature"
           },
           {
            "geometry": {
             "coordinates": [
              [
               [
                -81.727607,
                62.928345
               ],
               [
                -81.738498,
                62.926608
               ],
               [
                -81.740651,
                62.921449
               ],
               [
                -81.731916,
                62.918028
               ],
               [
                -81.721028,
                62.919765
               ],
               [
                -81.718871,
                62.924924
               ],
               [
                -81.727607,
                62.928345
               ]
              ]
             ],
             "type": "Polygon"
            },
            "id": "880e322b41fffff",
            "properties": {
             "value": 0
            },
            "type": "Feature"
           },
           {
            "geometry": {
             "coordinates": [
              [
               [
                -81.747236,
                62.930028
               ],
               [
                -81.758127,
                62.928289
               ],
               [
                -81.760276,
                62.92313
               ],
               [
                -81.751539,
                62.919711
               ],
               [
                -81.740651,
                62.921449
               ],
               [
                -81.738498,
                62.926608
               ],
               [
                -81.747236,
                62.930028
               ]
              ]
             ],
             "type": "Polygon"
            },
            "id": "880e322b45fffff",
            "properties": {
             "value": 0
            },
            "type": "Feature"
           },
           {
            "geometry": {
             "coordinates": [
              [
               [
                -81.714556,
                62.93524
               ],
               [
                -81.725451,
                62.933504
               ],
               [
                -81.727607,
                62.928345
               ],
               [
                -81.718871,
                62.924924
               ],
               [
                -81.707979,
                62.92666
               ],
               [
                -81.70582,
                62.931818
               ],
               [
                -81.714556,
                62.93524
               ]
              ]
             ],
             "type": "Polygon"
            },
            "id": "880e322b49fffff",
            "properties": {
             "value": 0
            },
            "type": "Feature"
           },
           {
            "geometry": {
             "coordinates": [
              [
               [
                -81.766867,
                62.931708
               ],
               [
                -81.777757,
                62.929968
               ],
               [
                -81.779904,
                62.924809
               ],
               [
                -81.771164,
                62.92139
               ],
               [
                -81.760276,
                62.92313
               ],
               [
                -81.758127,
                62.928289
               ],
               [
                -81.766867,
                62.931708
               ]
              ]
             ],
             "type": "Polygon"
            },
            "id": "880e322b69fffff",
            "properties": {
             "value": 0
            },
            "type": "Feature"
           },
           {
            "geometry": {
             "coordinates": [
              [
               [
                -81.786501,
                62.933385
               ],
               [
                -81.79739,
                62.931643
               ],
               [
                -81.799533,
                62.926484
               ],
               [
                -81.79079,
                62.923067
               ],
               [
                -81.779904,
                62.924809
               ],
               [
                -81.777757,
                62.929968
               ],
               [
                -81.786501,
                62.933385
               ]
              ]
             ],
             "type": "Polygon"
            },
            "id": "880e322b6dfffff",
            "properties": {
             "value": 0
            },
            "type": "Feature"
           },
           {
            "geometry": {
             "coordinates": [
              [
               [
                -81.773918,
                63.012443
               ],
               [
                -81.784837,
                63.010702
               ],
               [
                -81.786988,
                63.005543
               ],
               [
                -81.778223,
                63.002126
               ],
               [
                -81.767307,
                63.003867
               ],
               [
                -81.765153,
                63.009025
               ],
               [
                -81.773918,
                63.012443
               ]
              ]
             ],
             "type": "Polygon"
            },
            "id": "880e323925fffff",
            "properties": {
             "value": 0
            },
            "type": "Feature"
           },
           {
            "geometry": {
             "coordinates": [
              [
               [
                -81.767307,
                63.003867
               ],
               [
                -81.778223,
                63.002126
               ],
               [
                -81.780375,
                62.996968
               ],
               [
                -81.771614,
                62.99355
               ],
               [
                -81.7607,
                62.99529
               ],
               [
                -81.758545,
                63.000448
               ],
               [
                -81.767307,
                63.003867
               ]
              ]
             ],
             "type": "Polygon"
            },
            "id": "880e323927fffff",
            "properties": {
             "value": 0
            },
            "type": "Feature"
           },
           {
            "geometry": {
             "coordinates": [
              [
               [
                -81.708078,
                62.950714
               ],
               [
                -81.718979,
                62.948978
               ],
               [
                -81.721137,
                62.94382
               ],
               [
                -81.712398,
                62.940398
               ],
               [
                -81.7015,
                62.942134
               ],
               [
                -81.699339,
                62.947292
               ],
               [
                -81.708078,
                62.950714
               ]
              ]
             ],
             "type": "Polygon"
            },
            "id": "880e3239a1fffff",
            "properties": {
             "value": 0
            },
            "type": "Feature"
           },
           {
            "geometry": {
             "coordinates": [
              [
               [
                -81.721137,
                62.94382
               ],
               [
                -81.732034,
                62.942083
               ],
               [
                -81.73419,
                62.936925
               ],
               [
                -81.725451,
                62.933504
               ],
               [
                -81.714556,
                62.93524
               ],
               [
                -81.712398,
                62.940398
               ],
               [
                -81.721137,
                62.94382
               ]
              ]
             ],
             "type": "Polygon"
            },
            "id": "880e3239a7fffff",
            "properties": {
             "value": 0
            },
            "type": "Feature"
           },
           {
            "geometry": {
             "coordinates": [
              [
               [
                -81.695014,
                62.957607
               ],
               [
                -81.705918,
                62.955872
               ],
               [
                -81.708078,
                62.950714
               ],
               [
                -81.699339,
                62.947292
               ],
               [
                -81.688437,
                62.949026
               ],
               [
                -81.686273,
                62.954184
               ],
               [
                -81.695014,
                62.957607
               ]
              ]
             ],
             "type": "Polygon"
            },
            "id": "880e3239a9fffff",
            "properties": {
             "value": 0
            },
            "type": "Feature"
           },
           {
            "geometry": {
             "coordinates": [
              [
               [
                -81.714661,
                62.959294
               ],
               [
                -81.725564,
                62.957558
               ],
               [
                -81.727722,
                62.9524
               ],
               [
                -81.718979,
                62.948978
               ],
               [
                -81.708078,
                62.950714
               ],
               [
                -81.705918,
                62.955872
               ],
               [
                -81.714661,
                62.959294
               ]
              ]
             ],
             "type": "Polygon"
            },
            "id": "880e3239adfffff",
            "properties": {
             "value": 0
            },
            "type": "Feature"
           },
           {
            "geometry": {
             "coordinates": [
              [
               [
                -81.688521,
                62.97308
               ],
               [
                -81.699431,
                62.971345
               ],
               [
                -81.701594,
                62.966188
               ],
               [
                -81.69285,
                62.962765
               ],
               [
                -81.681943,
                62.964499
               ],
               [
                -81.679776,
                62.969656
               ],
               [
                -81.688521,
                62.97308
               ]
              ]
             ],
             "type": "Polygon"
            },
            "id": "880e3239e1fffff",
            "properties": {
             "value": 0
            },
            "type": "Feature"
           },
           {
            "geometry": {
             "coordinates": [
              [
               [
                -81.701594,
                62.966188
               ],
               [
                -81.7125,
                62.964452
               ],
               [
                -81.714661,
                62.959294
               ],
               [
                -81.705918,
                62.955872
               ],
               [
                -81.695014,
                62.957607
               ],
               [
                -81.69285,
                62.962765
               ],
               [
                -81.701594,
                62.966188
               ]
              ]
             ],
             "type": "Polygon"
            },
            "id": "880e3239e7fffff",
            "properties": {
             "value": 0
            },
            "type": "Feature"
           },
           {
            "geometry": {
             "coordinates": [
              [
               [
                -82.276217,
                63.182263
               ],
               [
                -82.287165,
                63.180484
               ],
               [
                -82.28924,
                63.17532
               ],
               [
                -82.280371,
                63.171936
               ],
               [
                -82.269425,
                63.173715
               ],
               [
                -82.267347,
                63.178879
               ],
               [
                -82.276217,
                63.182263
               ]
              ]
             ],
             "type": "Polygon"
            },
            "id": "880e3244dbfffff",
            "properties": {
             "value": 0
            },
            "type": "Feature"
           },
           {
            "geometry": {
             "coordinates": [
              [
               [
                -82.29835,
                63.280017
               ],
               [
                -82.309333,
                63.278235
               ],
               [
                -82.311411,
                63.273072
               ],
               [
                -82.30251,
                63.26969
               ],
               [
                -82.29153,
                63.271471
               ],
               [
                -82.289448,
                63.276634
               ],
               [
                -82.29835,
                63.280017
               ]
              ]
             ],
             "type": "Polygon"
            },
            "id": "880e324603fffff",
            "properties": {
             "value": 0
            },
            "type": "Feature"
           },
           {
            "geometry": {
             "coordinates": [
              [
               [
                -82.325067,
                63.290161
               ],
               [
                -82.336052,
                63.288377
               ],
               [
                -82.338126,
                63.283214
               ],
               [
                -82.329219,
                63.279834
               ],
               [
                -82.318237,
                63.281617
               ],
               [
                -82.316159,
                63.28678
               ],
               [
                -82.325067,
                63.290161
               ]
              ]
             ],
             "type": "Polygon"
            },
            "id": "880e324605fffff",
            "properties": {
             "value": 0
            },
            "type": "Feature"
           },
           {
            "geometry": {
             "coordinates": [
              [
               [
                -82.318237,
                63.281617
               ],
               [
                -82.329219,
                63.279834
               ],
               [
                -82.331294,
                63.27467
               ],
               [
                -82.32239,
                63.271289
               ],
               [
                -82.311411,
                63.273072
               ],
               [
                -82.309333,
                63.278235
               ],
               [
                -82.318237,
                63.281617
               ]
              ]
             ],
             "type": "Polygon"
            },
            "id": "880e324607fffff",
            "properties": {
             "value": 0
            },
            "type": "Feature"
           },
           {
            "geometry": {
             "coordinates": [
              [
               [
                -82.285283,
                63.28696
               ],
               [
                -82.296269,
                63.28518
               ],
               [
                -82.29835,
                63.280017
               ],
               [
                -82.289448,
                63.276634
               ],
               [
                -82.278465,
                63.278414
               ],
               [
                -82.27638,
                63.283577
               ],
               [
                -82.285283,
                63.28696
               ]
              ]
             ],
             "type": "Polygon"
            },
            "id": "880e32460bfffff",
            "properties": {
             "value": 0
            },
            "type": "Feature"
           },
           {
            "geometry": {
             "coordinates": [
              [
               [
                -82.271651,
                63.269867
               ],
               [
                -82.282631,
                63.268088
               ],
               [
                -82.284714,
                63.262925
               ],
               [
                -82.275819,
                63.259541
               ],
               [
                -82.264841,
                63.26132
               ],
               [
                -82.262755,
                63.266483
               ],
               [
                -82.271651,
                63.269867
               ]
              ]
             ],
             "type": "Polygon"
            },
            "id": "880e324611fffff",
            "properties": {
             "value": 0
            },
            "type": "Feature"
           },
           {
            "geometry": {
             "coordinates": [
              [
               [
                -82.264841,
                63.26132
               ],
               [
                -82.275819,
                63.259541
               ],
               [
                -82.277901,
                63.254378
               ],
               [
                -82.26901,
                63.250994
               ],
               [
                -82.258034,
                63.252772
               ],
               [
                -82.255948,
                63.257935
               ],
               [
                -82.264841,
                63.26132
               ]
              ]
             ],
             "type": "Polygon"
            },
            "id": "880e324613fffff",
            "properties": {
             "value": 0
            },
            "type": "Feature"
           },
           {
            "geometry": {
             "coordinates": [
              [
               [
                -82.29153,
                63.271471
               ],
               [
                -82.30251,
                63.26969
               ],
               [
                -82.304589,
                63.264527
               ],
               [
                -82.295691,
                63.261144
               ],
               [
                -82.284714,
                63.262925
               ],
               [
                -82.282631,
                63.268088
               ],
               [
                -82.29153,
                63.271471
               ]
              ]
             ],
             "type": "Polygon"
            },
            "id": "880e324615fffff",
            "properties": {
             "value": 0
            },
            "type": "Feature"
           },
           {
            "geometry": {
             "coordinates": [
              [
               [
                -82.284714,
                63.262925
               ],
               [
                -82.295691,
                63.261144
               ],
               [
                -82.29777,
                63.255981
               ],
               [
                -82.288876,
                63.252598
               ],
               [
                -82.277901,
                63.254378
               ],
               [
                -82.275819,
                63.259541
               ],
               [
                -82.284714,
                63.262925
               ]
              ]
             ],
             "type": "Polygon"
            },
            "id": "880e324617fffff",
            "properties": {
             "value": 0
            },
            "type": "Feature"
           },
           {
            "geometry": {
             "coordinates": [
              [
               [
                -82.278465,
                63.278414
               ],
               [
                -82.289448,
                63.276634
               ],
               [
                -82.29153,
                63.271471
               ],
               [
                -82.282631,
                63.268088
               ],
               [
                -82.271651,
                63.269867
               ],
               [
                -82.269566,
                63.27503
               ],
               [
                -82.278465,
                63.278414
               ]
              ]
             ],
             "type": "Polygon"
            },
            "id": "880e32461dfffff",
            "properties": {
             "value": 0
            },
            "type": "Feature"
           },
           {
            "geometry": {
             "coordinates": [
              [
               [
                -82.344962,
                63.291757
               ],
               [
                -82.355946,
                63.289972
               ],
               [
                -82.358017,
                63.284808
               ],
               [
                -82.349107,
                63.281429
               ],
               [
                -82.338126,
                63.283214
               ],
               [
                -82.336052,
                63.288377
               ],
               [
                -82.344962,
                63.291757
               ]
              ]
             ],
             "type": "Polygon"
            },
            "id": "880e324629fffff",
            "properties": {
             "value": 0
            },
            "type": "Feature"
           },
           {
            "geometry": {
             "coordinates": [
              [
               [
                -82.311411,
                63.273072
               ],
               [
                -82.32239,
                63.271289
               ],
               [
                -82.324465,
                63.266126
               ],
               [
                -82.315565,
                63.262745
               ],
               [
                -82.304589,
                63.264527
               ],
               [
                -82.30251,
                63.26969
               ],
               [
                -82.311411,
                63.273072
               ]
              ]
             ],
             "type": "Polygon"
            },
            "id": "880e324639fffff",
            "properties": {
             "value": 0
            },
            "type": "Feature"
           },
           {
            "geometry": {
             "coordinates": [
              [
               [
                -82.285853,
                63.310995
               ],
               [
                -82.296848,
                63.309215
               ],
               [
                -82.29893,
                63.304052
               ],
               [
                -82.290021,
                63.300669
               ],
               [
                -82.279029,
                63.302449
               ],
               [
                -82.276943,
                63.307612
               ],
               [
                -82.285853,
                63.310995
               ]
              ]
             ],
             "type": "Polygon"
            },
            "id": "880e324641fffff",
            "properties": {
             "value": 0
            },
            "type": "Feature"
           },
           {
            "geometry": {
             "coordinates": [
              [
               [
                -82.279029,
                63.302449
               ],
               [
                -82.290021,
                63.300669
               ],
               [
                -82.292105,
                63.295506
               ],
               [
                -82.283199,
                63.292123
               ],
               [
                -82.272209,
                63.293903
               ],
               [
                -82.270123,
                63.299066
               ],
               [
                -82.279029,
                63.302449
               ]
              ]
             ],
             "type": "Polygon"
            },
            "id": "880e324643fffff",
            "properties": {
             "value": 0
            },
            "type": "Feature"
           },
           {
            "geometry": {
             "coordinates": [
              [
               [
                -82.30576,
                63.312596
               ],
               [
                -82.316754,
                63.310814
               ],
               [
                -82.318834,
                63.305651
               ],
               [
                -82.309922,
                63.30227
               ],
               [
                -82.29893,
                63.304052
               ],
               [
                -82.296848,
                63.309215
               ],
               [
                -82.30576,
                63.312596
               ]
              ]
             ],
             "type": "Polygon"
            },
            "id": "880e324645fffff",
            "properties": {
             "value": 0
            },
            "type": "Feature"
           },
           {
            "geometry": {
             "coordinates": [
              [
               [
                -82.29268,
                63.319541
               ],
               [
                -82.303678,
                63.317759
               ],
               [
                -82.30576,
                63.312596
               ],
               [
                -82.296848,
                63.309215
               ],
               [
                -82.285853,
                63.310995
               ],
               [
                -82.283767,
                63.316158
               ],
               [
                -82.29268,
                63.319541
               ]
              ]
             ],
             "type": "Polygon"
            },
            "id": "880e32464dfffff",
            "properties": {
             "value": 0
            },
            "type": "Feature"
           },
           {
            "geometry": {
             "coordinates": [
              [
               [
                -82.272209,
                63.293903
               ],
               [
                -82.283199,
                63.292123
               ],
               [
                -82.285283,
                63.28696
               ],
               [
                -82.27638,
                63.283577
               ],
               [
                -82.265394,
                63.285356
               ],
               [
                -82.263306,
                63.290519
               ],
               [
                -82.272209,
                63.293903
               ]
              ]
             ],
             "type": "Polygon"
            },
            "id": "880e324655fffff",
            "properties": {
             "value": 0
            },
            "type": "Feature"
           },
           {
            "geometry": {
             "coordinates": [
              [
               [
                -82.265394,
                63.285356
               ],
               [
                -82.27638,
                63.283577
               ],
               [
                -82.278465,
                63.278414
               ],
               [
                -82.269566,
                63.27503
               ],
               [
                -82.258582,
                63.276809
               ],
               [
                -82.256494,
                63.281971
               ],
               [
                -82.265394,
                63.285356
               ]
              ]
             ],
             "type": "Polygon"
            },
            "id": "880e324657fffff",
            "properties": {
             "value": 0
            },
            "type": "Feature"
           },
           {
            "geometry": {
             "coordinates": [
              [
               [
                -82.351802,
                63.3003
               ],
               [
                -82.362788,
                63.298514
               ],
               [
                -82.364859,
                63.29335
               ],
               [
                -82.355946,
                63.289972
               ],
               [
                -82.344962,
                63.291757
               ],
               [
                -82.342888,
                63.296921
               ],
               [
                -82.351802,
                63.3003
               ]
              ]
             ],
             "type": "Polygon"
            },
            "id": "880e324667fffff",
            "properties": {
             "value": 0
            },
            "type": "Feature"
           },
           {
            "geometry": {
             "coordinates": [
              [
               [
                -82.257488,
                63.228735
               ],
               [
                -82.268454,
                63.226956
               ],
               [
                -82.270536,
                63.221793
               ],
               [
                -82.261655,
                63.218408
               ],
               [
                -82.250691,
                63.220186
               ],
               [
                -82.248606,
                63.225349
               ],
               [
                -82.257488,
                63.228735
               ]
              ]
             ],
             "type": "Polygon"
            },
            "id": "880e324681fffff",
            "properties": {
             "value": 0
            },
            "type": "Feature"
           },
           {
            "geometry": {
             "coordinates": [
              [
               [
                -82.250691,
                63.220186
               ],
               [
                -82.261655,
                63.218408
               ],
               [
                -82.263737,
                63.213245
               ],
               [
                -82.25486,
                63.209859
               ],
               [
                -82.243899,
                63.211637
               ],
               [
                -82.241813,
                63.2168
               ],
               [
                -82.250691,
                63.220186
               ]
              ]
             ],
             "type": "Polygon"
            },
            "id": "880e324683fffff",
            "properties": {
             "value": 0
            },
            "type": "Feature"
           },
           {
            "geometry": {
             "coordinates": [
              [
               [
                -82.244434,
                63.235675
               ],
               [
                -82.255403,
                63.233898
               ],
               [
                -82.257488,
                63.228735
               ],
               [
                -82.248606,
                63.225349
               ],
               [
                -82.237639,
                63.227126
               ],
               [
                -82.235551,
                63.232289
               ],
               [
                -82.244434,
                63.235675
               ]
              ]
             ],
             "type": "Polygon"
            },
            "id": "880e324689fffff",
            "properties": {
             "value": 0
            },
            "type": "Feature"
           },
           {
            "geometry": {
             "coordinates": [
              [
               [
                -82.237639,
                63.227126
               ],
               [
                -82.248606,
                63.225349
               ],
               [
                -82.250691,
                63.220186
               ],
               [
                -82.241813,
                63.2168
               ],
               [
                -82.230848,
                63.218576
               ],
               [
                -82.22876,
                63.223739
               ],
               [
                -82.237639,
                63.227126
               ]
              ]
             ],
             "type": "Polygon"
            },
            "id": "880e32468bfffff",
            "properties": {
             "value": 0
            },
            "type": "Feature"
           },
           {
            "geometry": {
             "coordinates": [
              [
               [
                -82.264289,
                63.237283
               ],
               [
                -82.275258,
                63.235504
               ],
               [
                -82.277339,
                63.230341
               ],
               [
                -82.268454,
                63.226956
               ],
               [
                -82.257488,
                63.228735
               ],
               [
                -82.255403,
                63.233898
               ],
               [
                -82.264289,
                63.237283
               ]
              ]
             ],
             "type": "Polygon"
            },
            "id": "880e32468dfffff",
            "properties": {
             "value": 0
            },
            "type": "Feature"
           },
           {
            "geometry": {
             "coordinates": [
              [
               [
                -82.224062,
                63.210026
               ],
               [
                -82.235023,
                63.20825
               ],
               [
                -82.23711,
                63.203087
               ],
               [
                -82.228238,
                63.1997
               ],
               [
                -82.217279,
                63.201475
               ],
               [
                -82.215189,
                63.206638
               ],
               [
                -82.224062,
                63.210026
               ]
              ]
             ],
             "type": "Polygon"
            },
            "id": "880e324691fffff",
            "properties": {
             "value": 0
            },
            "type": "Feature"
           },
           {
            "geometry": {
             "coordinates": [
              [
               [
                -82.204226,
                63.208412
               ],
               [
                -82.215189,
                63.206638
               ],
               [
                -82.217279,
                63.201475
               ],
               [
                -82.208409,
                63.198087
               ],
               [
                -82.19745,
                63.19986
               ],
               [
                -82.195356,
                63.205023
               ],
               [
                -82.204226,
                63.208412
               ]
              ]
             ],
             "type": "Polygon"
            },
            "id": "880e32469bfffff",
            "properties": {
             "value": 0
            },
            "type": "Feature"
           },
           {
            "geometry": {
             "coordinates": [
              [
               [
                -82.230848,
                63.218576
               ],
               [
                -82.241813,
                63.2168
               ],
               [
                -82.243899,
                63.211637
               ],
               [
                -82.235023,
                63.20825
               ],
               [
                -82.224062,
                63.210026
               ],
               [
                -82.221972,
                63.215189
               ],
               [
                -82.230848,
                63.218576
               ]
              ]
             ],
             "type": "Polygon"
            },
            "id": "880e32469dfffff",
            "properties": {
             "value": 0
            },
            "type": "Feature"
           },
           {
            "geometry": {
             "coordinates": [
              [
               [
                -82.263737,
                63.213245
               ],
               [
                -82.274698,
                63.211466
               ],
               [
                -82.276777,
                63.206303
               ],
               [
                -82.2679,
                63.202918
               ],
               [
                -82.256943,
                63.204696
               ],
               [
                -82.25486,
                63.209859
               ],
               [
                -82.263737,
                63.213245
               ]
              ]
             ],
             "type": "Polygon"
            },
            "id": "880e3246b9fffff",
            "properties": {
             "value": 0
            },
            "type": "Feature"
           },
           {
            "geometry": {
             "coordinates": [
              [
               [
                -82.256943,
                63.204696
               ],
               [
                -82.2679,
                63.202918
               ],
               [
                -82.26998,
                63.197754
               ],
               [
                -82.261106,
                63.194369
               ],
               [
                -82.250152,
                63.196147
               ],
               [
                -82.248068,
                63.20131
               ],
               [
                -82.256943,
                63.204696
               ]
              ]
             ],
             "type": "Polygon"
            },
            "id": "880e3246bbfffff",
            "properties": {
             "value": 0
            },
            "type": "Feature"
           },
           {
            "geometry": {
             "coordinates": [
              [
               [
                -82.258034,
                63.252772
               ],
               [
                -82.26901,
                63.250994
               ],
               [
                -82.271093,
                63.245831
               ],
               [
                -82.262205,
                63.242446
               ],
               [
                -82.251232,
                63.244224
               ],
               [
                -82.249145,
                63.249387
               ],
               [
                -82.258034,
                63.252772
               ]
              ]
             ],
             "type": "Polygon"
            },
            "id": "880e3246c5fffff",
            "properties": {
             "value": 0
            },
            "type": "Feature"
           },
           {
            "geometry": {
             "coordinates": [
              [
               [
                -82.251232,
                63.244224
               ],
               [
                -82.262205,
                63.242446
               ],
               [
                -82.264289,
                63.237283
               ],
               [
                -82.255403,
                63.233898
               ],
               [
                -82.244434,
                63.235675
               ],
               [
                -82.242346,
                63.240838
               ],
               [
                -82.251232,
                63.244224
               ]
              ]
             ],
             "type": "Polygon"
            },
            "id": "880e3246c7fffff",
            "properties": {
             "value": 0
            },
            "type": "Feature"
           },
           {
            "geometry": {
             "coordinates": [
              [
               [
                -82.277901,
                63.254378
               ],
               [
                -82.288876,
                63.252598
               ],
               [
                -82.290956,
                63.247435
               ],
               [
                -82.282065,
                63.244051
               ],
               [
                -82.271093,
                63.245831
               ],
               [
                -82.26901,
                63.250994
               ],
               [
                -82.277901,
                63.254378
               ]
              ]
             ],
             "type": "Polygon"
            },
            "id": "880e3246e9fffff",
            "properties": {
             "value": 0
            },
            "type": "Feature"
           },
           {
            "geometry": {
             "coordinates": [
              [
               [
                -82.271093,
                63.245831
               ],
               [
                -82.282065,
                63.244051
               ],
               [
                -82.284146,
                63.238888
               ],
               [
                -82.275258,
                63.235504
               ],
               [
                -82.264289,
                63.237283
               ],
               [
                -82.262205,
                63.242446
               ],
               [
                -82.271093,
                63.245831
               ]
              ]
             ],
             "type": "Polygon"
            },
            "id": "880e3246ebfffff",
            "properties": {
             "value": 0
            },
            "type": "Feature"
           },
           {
            "geometry": {
             "coordinates": [
              [
               [
                -82.391609,
                63.303481
               ],
               [
                -82.402594,
                63.301693
               ],
               [
                -82.404658,
                63.296528
               ],
               [
                -82.39574,
                63.293152
               ],
               [
                -82.384757,
                63.29494
               ],
               [
                -82.38269,
                63.300105
               ],
               [
                -82.391609,
                63.303481
               ]
              ]
             ],
             "type": "Polygon"
            },
            "id": "880e324751fffff",
            "properties": {
             "value": 0
            },
            "type": "Feature"
           },
           {
            "geometry": {
             "coordinates": [
              [
               [
                -82.384757,
                63.29494
               ],
               [
                -82.39574,
                63.293152
               ],
               [
                -82.397804,
                63.287988
               ],
               [
                -82.388889,
                63.284612
               ],
               [
                -82.377909,
                63.286399
               ],
               [
                -82.375842,
                63.291564
               ],
               [
                -82.384757,
                63.29494
               ]
              ]
             ],
             "type": "Polygon"
            },
            "id": "880e324753fffff",
            "properties": {
             "value": 0
            },
            "type": "Feature"
           },
           {
            "geometry": {
             "coordinates": [
              [
               [
                -82.411516,
                63.305068
               ],
               [
                -82.4225,
                63.303278
               ],
               [
                -82.42456,
                63.298113
               ],
               [
                -82.415639,
                63.294739
               ],
               [
                -82.404658,
                63.296528
               ],
               [
                -82.402594,
                63.301693
               ],
               [
                -82.411516,
                63.305068
               ]
              ]
             ],
             "type": "Polygon"
            },
            "id": "880e324755fffff",
            "properties": {
             "value": 0
            },
            "type": "Feature"
           },
           {
            "geometry": {
             "coordinates": [
              [
               [
                -82.404658,
                63.296528
               ],
               [
                -82.415639,
                63.294739
               ],
               [
                -82.4177,
                63.289574
               ],
               [
                -82.408782,
                63.286199
               ],
               [
                -82.397804,
                63.287988
               ],
               [
                -82.39574,
                63.293152
               ],
               [
                -82.404658,
                63.296528
               ]
              ]
             ],
             "type": "Polygon"
            },
            "id": "880e324757fffff",
            "properties": {
             "value": 0
            },
            "type": "Feature"
           },
           {
            "geometry": {
             "coordinates": [
              [
               [
                -82.371705,
                63.301892
               ],
               [
                -82.38269,
                63.300105
               ],
               [
                -82.384757,
                63.29494
               ],
               [
                -82.375842,
                63.291564
               ],
               [
                -82.364859,
                63.29335
               ],
               [
                -82.362788,
                63.298514
               ],
               [
                -82.371705,
                63.301892
               ]
              ]
             ],
             "type": "Polygon"
            },
            "id": "880e32475bfffff",
            "properties": {
             "value": 0
            },
            "type": "Feature"
           },
           {
            "geometry": {
             "coordinates": [
              [
               [
                -82.398465,
                63.312021
               ],
               [
                -82.409453,
                63.310232
               ],
               [
                -82.411516,
                63.305068
               ],
               [
                -82.402594,
                63.301693
               ],
               [
                -82.391609,
                63.303481
               ],
               [
                -82.389543,
                63.308645
               ],
               [
                -82.398465,
                63.312021
               ]
              ]
             ],
             "type": "Polygon"
            },
            "id": "880e32475dfffff",
            "properties": {
             "value": 0
            },
            "type": "Feature"
           },
           {
            "geometry": {
             "coordinates": [
              [
               [
                -82.286424,
                63.335029
               ],
               [
                -82.297428,
                63.333248
               ],
               [
                -82.299512,
                63.328085
               ],
               [
                -82.290596,
                63.324703
               ],
               [
                -82.279594,
                63.326483
               ],
               [
                -82.277507,
                63.331646
               ],
               [
                -82.286424,
                63.335029
               ]
              ]
             ],
             "type": "Polygon"
            },
            "id": "880e3254a5fffff",
            "properties": {
             "value": 0
            },
            "type": "Feature"
           },
           {
            "geometry": {
             "coordinates": [
              [
               [
                -82.253404,
                63.340366
               ],
               [
                -82.264412,
                63.338587
               ],
               [
                -82.266502,
                63.333425
               ],
               [
                -82.257588,
                63.330041
               ],
               [
                -82.246582,
                63.331818
               ],
               [
                -82.244489,
                63.336981
               ],
               [
                -82.253404,
                63.340366
               ]
              ]
             ],
             "type": "Polygon"
            },
            "id": "880e3254a9fffff",
            "properties": {
             "value": 0
            },
            "type": "Feature"
           },
           {
            "geometry": {
             "coordinates": [
              [
               [
                -82.273329,
                63.341971
               ],
               [
                -82.284337,
                63.340192
               ],
               [
                -82.286424,
                63.335029
               ],
               [
                -82.277507,
                63.331646
               ],
               [
                -82.266502,
                63.333425
               ],
               [
                -82.264412,
                63.338587
               ],
               [
                -82.273329,
                63.341971
               ]
              ]
             ],
             "type": "Polygon"
            },
            "id": "880e3254adfffff",
            "properties": {
             "value": 0
            },
            "type": "Feature"
           },
           {
            "geometry": {
             "coordinates": [
              [
               [
                -82.260229,
                63.348912
               ],
               [
                -82.27124,
                63.347134
               ],
               [
                -82.273329,
                63.341971
               ],
               [
                -82.264412,
                63.338587
               ],
               [
                -82.253404,
                63.340366
               ],
               [
                -82.25131,
                63.345528
               ],
               [
                -82.260229,
                63.348912
               ]
              ]
             ],
             "type": "Polygon"
            },
            "id": "880e3254e7fffff",
            "properties": {
             "value": 0
            },
            "type": "Feature"
           },
           {
            "geometry": {
             "coordinates": [
              [
               [
                -82.333118,
                63.346771
               ],
               [
                -82.344123,
                63.344987
               ],
               [
                -82.3462,
                63.339823
               ],
               [
                -82.337275,
                63.336444
               ],
               [
                -82.326273,
                63.338228
               ],
               [
                -82.324193,
                63.343391
               ],
               [
                -82.333118,
                63.346771
               ]
              ]
             ],
             "type": "Polygon"
            },
            "id": "880e32558bfffff",
            "properties": {
             "value": 0
            },
            "type": "Feature"
           },
           {
            "geometry": {
             "coordinates": [
              [
               [
                -82.319431,
                63.329685
               ],
               [
                -82.330431,
                63.327902
               ],
               [
                -82.332509,
                63.322738
               ],
               [
                -82.323591,
                63.319358
               ],
               [
                -82.312594,
                63.321141
               ],
               [
                -82.310512,
                63.326304
               ],
               [
                -82.319431,
                63.329685
               ]
              ]
             ],
             "type": "Polygon"
            },
            "id": "880e325591fffff",
            "properties": {
             "value": 0
            },
            "type": "Feature"
           },
           {
            "geometry": {
             "coordinates": [
              [
               [
                -82.312594,
                63.321141
               ],
               [
                -82.323591,
                63.319358
               ],
               [
                -82.325669,
                63.314195
               ],
               [
                -82.316754,
                63.310814
               ],
               [
                -82.30576,
                63.312596
               ],
               [
                -82.303678,
                63.317759
               ],
               [
                -82.312594,
                63.321141
               ]
              ]
             ],
             "type": "Polygon"
            },
            "id": "880e325593fffff",
            "properties": {
             "value": 0
            },
            "type": "Feature"
           },
           {
            "geometry": {
             "coordinates": [
              [
               [
                -82.339353,
                63.331281
               ],
               [
                -82.350352,
                63.329497
               ],
               [
                -82.352426,
                63.324333
               ],
               [
                -82.343505,
                63.320954
               ],
               [
                -82.332509,
                63.322738
               ],
               [
                -82.330431,
                63.327902
               ],
               [
                -82.339353,
                63.331281
               ]
              ]
             ],
             "type": "Polygon"
            },
            "id": "880e325595fffff",
            "properties": {
             "value": 0
            },
            "type": "Feature"
           },
           {
            "geometry": {
             "coordinates": [
              [
               [
                -82.332509,
                63.322738
               ],
               [
                -82.343505,
                63.320954
               ],
               [
                -82.345581,
                63.315791
               ],
               [
                -82.336663,
                63.312411
               ],
               [
                -82.325669,
                63.314195
               ],
               [
                -82.323591,
                63.319358
               ],
               [
                -82.332509,
                63.322738
               ]
              ]
             ],
             "type": "Polygon"
            },
            "id": "880e325597fffff",
            "properties": {
             "value": 0
            },
            "type": "Feature"
           },
           {
            "geometry": {
             "coordinates": [
              [
               [
                -82.299512,
                63.328085
               ],
               [
                -82.310512,
                63.326304
               ],
               [
                -82.312594,
                63.321141
               ],
               [
                -82.303678,
                63.317759
               ],
               [
                -82.29268,
                63.319541
               ],
               [
                -82.290596,
                63.324703
               ],
               [
                -82.299512,
                63.328085
               ]
              ]
             ],
             "type": "Polygon"
            },
            "id": "880e32559bfffff",
            "properties": {
             "value": 0
            },
            "type": "Feature"
           },
           {
            "geometry": {
             "coordinates": [
              [
               [
                -82.326273,
                63.338228
               ],
               [
                -82.337275,
                63.336444
               ],
               [
                -82.339353,
                63.331281
               ],
               [
                -82.330431,
                63.327902
               ],
               [
                -82.319431,
                63.329685
               ],
               [
                -82.317351,
                63.334848
               ],
               [
                -82.326273,
                63.338228
               ]
              ]
             ],
             "type": "Polygon"
            },
            "id": "880e32559dfffff",
            "properties": {
             "value": 0
            },
            "type": "Feature"
           },
           {
            "geometry": {
             "coordinates": [
              [
               [
                -82.372345,
                63.325925
               ],
               [
                -82.38334,
                63.324138
               ],
               [
                -82.385408,
                63.318974
               ],
               [
                -82.376486,
                63.315597
               ],
               [
                -82.365494,
                63.317384
               ],
               [
                -82.363422,
                63.322547
               ],
               [
                -82.372345,
                63.325925
               ]
              ]
             ],
             "type": "Polygon"
            },
            "id": "880e3255b1fffff",
            "properties": {
             "value": 0
            },
            "type": "Feature"
           },
           {
            "geometry": {
             "coordinates": [
              [
               [
                -82.385408,
                63.318974
               ],
               [
                -82.3964,
                63.317186
               ],
               [
                -82.398465,
                63.312021
               ],
               [
                -82.389543,
                63.308645
               ],
               [
                -82.378555,
                63.310433
               ],
               [
                -82.376486,
                63.315597
               ],
               [
                -82.385408,
                63.318974
               ]
              ]
             ],
             "type": "Polygon"
            },
            "id": "880e3255b7fffff",
            "properties": {
             "value": 0
            },
            "type": "Feature"
           },
           {
            "geometry": {
             "coordinates": [
              [
               [
                -82.352426,
                63.324333
               ],
               [
                -82.363422,
                63.322547
               ],
               [
                -82.365494,
                63.317384
               ],
               [
                -82.356573,
                63.314006
               ],
               [
                -82.345581,
                63.315791
               ],
               [
                -82.343505,
                63.320954
               ],
               [
                -82.352426,
                63.324333
               ]
              ]
             ],
             "type": "Polygon"
            },
            "id": "880e3255bbfffff",
            "properties": {
             "value": 0
            },
            "type": "Feature"
           },
           {
            "geometry": {
             "coordinates": [
              [
               [
                -82.300094,
                63.352118
               ],
               [
                -82.311104,
                63.350337
               ],
               [
                -82.313187,
                63.345174
               ],
               [
                -82.304264,
                63.341793
               ],
               [
                -82.293257,
                63.343574
               ],
               [
                -82.291171,
                63.348737
               ],
               [
                -82.300094,
                63.352118
               ]
              ]
             ],
             "type": "Polygon"
            },
            "id": "880e3255d1fffff",
            "properties": {
             "value": 0
            },
            "type": "Feature"
           },
           {
            "geometry": {
             "coordinates": [
              [
               [
                -82.293257,
                63.343574
               ],
               [
                -82.304264,
                63.341793
               ],
               [
                -82.306347,
                63.33663
               ],
               [
                -82.297428,
                63.333248
               ],
               [
                -82.286424,
                63.335029
               ],
               [
                -82.284337,
                63.340192
               ],
               [
                -82.293257,
                63.343574
               ]
              ]
             ],
             "type": "Polygon"
            },
            "id": "880e3255d3fffff",
            "properties": {
             "value": 0
            },
            "type": "Feature"
           },
           {
            "geometry": {
             "coordinates": [
              [
               [
                -82.313187,
                63.345174
               ],
               [
                -82.324193,
                63.343391
               ],
               [
                -82.326273,
                63.338228
               ],
               [
                -82.317351,
                63.334848
               ],
               [
                -82.306347,
                63.33663
               ],
               [
                -82.304264,
                63.341793
               ],
               [
                -82.313187,
                63.345174
               ]
              ]
             ],
             "type": "Polygon"
            },
            "id": "880e3255d7fffff",
            "properties": {
             "value": 0
            },
            "type": "Feature"
           },
           {
            "geometry": {
             "coordinates": [
              [
               [
                -82.286996,
                63.359062
               ],
               [
                -82.298009,
                63.357281
               ],
               [
                -82.300094,
                63.352118
               ],
               [
                -82.291171,
                63.348737
               ],
               [
                -82.280161,
                63.350517
               ],
               [
                -82.278071,
                63.355679
               ],
               [
                -82.286996,
                63.359062
               ]
              ]
             ],
             "type": "Polygon"
            },
            "id": "880e3255d9fffff",
            "properties": {
             "value": 0
            },
            "type": "Feature"
           },
           {
            "geometry": {
             "coordinates": [
              [
               [
                -82.280161,
                63.350517
               ],
               [
                -82.291171,
                63.348737
               ],
               [
                -82.293257,
                63.343574
               ],
               [
                -82.284337,
                63.340192
               ],
               [
                -82.273329,
                63.341971
               ],
               [
                -82.27124,
                63.347134
               ],
               [
                -82.280161,
                63.350517
               ]
              ]
             ],
             "type": "Polygon"
            },
            "id": "880e3255dbfffff",
            "properties": {
             "value": 0
            },
            "type": "Feature"
           },
           {
            "geometry": {
             "coordinates": [
              [
               [
                -82.149663,
                63.115942
               ],
               [
                -82.160595,
                63.114172
               ],
               [
                -82.162688,
                63.109009
               ],
               [
                -82.153852,
                63.105616
               ],
               [
                -82.142922,
                63.107386
               ],
               [
                -82.140826,
                63.112548
               ],
               [
                -82.149663,
                63.115942
               ]
              ]
             ],
             "type": "Polygon"
            },
            "id": "880e327009fffff",
            "properties": {
             "value": 0
            },
            "type": "Feature"
           },
           {
            "geometry": {
             "coordinates": [
              [
               [
                -82.142922,
                63.107386
               ],
               [
                -82.153852,
                63.105616
               ],
               [
                -82.155945,
                63.100453
               ],
               [
                -82.147112,
                63.09706
               ],
               [
                -82.136186,
                63.098829
               ],
               [
                -82.134089,
                63.103992
               ],
               [
                -82.142922,
                63.107386
               ]
              ]
             ],
             "type": "Polygon"
            },
            "id": "880e32700bfffff",
            "properties": {
             "value": 0
            },
            "type": "Feature"
           },
           {
            "geometry": {
             "coordinates": [
              [
               [
                -82.129453,
                63.090272
               ],
               [
                -82.140377,
                63.088504
               ],
               [
                -82.142472,
                63.083341
               ],
               [
                -82.133646,
                63.079947
               ],
               [
                -82.122724,
                63.081715
               ],
               [
                -82.120626,
                63.086877
               ],
               [
                -82.129453,
                63.090272
               ]
              ]
             ],
             "type": "Polygon"
            },
            "id": "880e327011fffff",
            "properties": {
             "value": 0
            },
            "type": "Feature"
           },
           {
            "geometry": {
             "coordinates": [
              [
               [
                -82.122724,
                63.081715
               ],
               [
                -82.133646,
                63.079947
               ],
               [
                -82.135741,
                63.074784
               ],
               [
                -82.126918,
                63.07139
               ],
               [
                -82.115999,
                63.073157
               ],
               [
                -82.113901,
                63.07832
               ],
               [
                -82.122724,
                63.081715
               ]
              ]
             ],
             "type": "Polygon"
            },
            "id": "880e327013fffff",
            "properties": {
             "value": 0
            },
            "type": "Feature"
           },
           {
            "geometry": {
             "coordinates": [
              [
               [
                -82.136186,
                63.098829
               ],
               [
                -82.147112,
                63.09706
               ],
               [
                -82.149206,
                63.091898
               ],
               [
                -82.140377,
                63.088504
               ],
               [
                -82.129453,
                63.090272
               ],
               [
                -82.127356,
                63.095435
               ],
               [
                -82.136186,
                63.098829
               ]
              ]
             ],
             "type": "Polygon"
            },
            "id": "880e32701dfffff",
            "properties": {
             "value": 0
            },
            "type": "Feature"
           },
           {
            "geometry": {
             "coordinates": [
              [
               [
                -82.143374,
                63.131429
               ],
               [
                -82.154312,
                63.12966
               ],
               [
                -82.156407,
                63.124497
               ],
               [
                -82.147567,
                63.121104
               ],
               [
                -82.136632,
                63.122873
               ],
               [
                -82.134533,
                63.128036
               ],
               [
                -82.143374,
                63.131429
               ]
              ]
             ],
             "type": "Polygon"
            },
            "id": "880e327041fffff",
            "properties": {
             "value": 0
            },
            "type": "Feature"
           },
           {
            "geometry": {
             "coordinates": [
              [
               [
                -82.136632,
                63.122873
               ],
               [
                -82.147567,
                63.121104
               ],
               [
                -82.149663,
                63.115942
               ],
               [
                -82.140826,
                63.112548
               ],
               [
                -82.129893,
                63.114317
               ],
               [
                -82.127795,
                63.119479
               ],
               [
                -82.136632,
                63.122873
               ]
              ]
             ],
             "type": "Polygon"
            },
            "id": "880e327043fffff",
            "properties": {
             "value": 0
            },
            "type": "Feature"
           },
           {
            "geometry": {
             "coordinates": [
              [
               [
                -82.163155,
                63.133052
               ],
               [
                -82.174092,
                63.131281
               ],
               [
                -82.176184,
                63.126118
               ],
               [
                -82.167342,
                63.122727
               ],
               [
                -82.156407,
                63.124497
               ],
               [
                -82.154312,
                63.12966
               ],
               [
                -82.163155,
                63.133052
               ]
              ]
             ],
             "type": "Polygon"
            },
            "id": "880e327045fffff",
            "properties": {
             "value": 0
            },
            "type": "Feature"
           },
           {
            "geometry": {
             "coordinates": [
              [
               [
                -82.156407,
                63.124497
               ],
               [
                -82.167342,
                63.122727
               ],
               [
                -82.169434,
                63.117564
               ],
               [
                -82.160595,
                63.114172
               ],
               [
                -82.149663,
                63.115942
               ],
               [
                -82.147567,
                63.121104
               ],
               [
                -82.156407,
                63.124497
               ]
              ]
             ],
             "type": "Polygon"
            },
            "id": "880e327047fffff",
            "properties": {
             "value": 0
            },
            "type": "Feature"
           },
           {
            "geometry": {
             "coordinates": [
              [
               [
                -82.130334,
                63.13836
               ],
               [
                -82.141276,
                63.136592
               ],
               [
                -82.143374,
                63.131429
               ],
               [
                -82.134533,
                63.128036
               ],
               [
                -82.123595,
                63.129803
               ],
               [
                -82.121493,
                63.134966
               ],
               [
                -82.130334,
                63.13836
               ]
              ]
             ],
             "type": "Polygon"
            },
            "id": "880e327049fffff",
            "properties": {
             "value": 0
            },
            "type": "Feature"
           },
           {
            "geometry": {
             "coordinates": [
              [
               [
                -82.15012,
                63.139985
               ],
               [
                -82.161061,
                63.138215
               ],
               [
                -82.163155,
                63.133052
               ],
               [
                -82.154312,
                63.12966
               ],
               [
                -82.143374,
                63.131429
               ],
               [
                -82.141276,
                63.136592
               ],
               [
                -82.15012,
                63.139985
               ]
              ]
             ],
             "type": "Polygon"
            },
            "id": "880e32704dfffff",
            "properties": {
             "value": 0
            },
            "type": "Feature"
           },
           {
            "geometry": {
             "coordinates": [
              [
               [
                -82.110126,
                63.112689
               ],
               [
                -82.12106,
                63.110922
               ],
               [
                -82.123159,
                63.10576
               ],
               [
                -82.114328,
                63.102364
               ],
               [
                -82.103398,
                63.104131
               ],
               [
                -82.101295,
                63.109293
               ],
               [
                -82.110126,
                63.112689
               ]
              ]
             ],
             "type": "Polygon"
            },
            "id": "880e327051fffff",
            "properties": {
             "value": 0
            },
            "type": "Feature"
           },
           {
            "geometry": {
             "coordinates": [
              [
               [
                -82.103398,
                63.104131
               ],
               [
                -82.114328,
                63.102364
               ],
               [
                -82.116429,
                63.097202
               ],
               [
                -82.107601,
                63.093807
               ],
               [
                -82.096673,
                63.095572
               ],
               [
                -82.09457,
                63.100734
               ],
               [
                -82.103398,
                63.104131
               ]
              ]
             ],
             "type": "Polygon"
            },
            "id": "880e327053fffff",
            "properties": {
             "value": 0
            },
            "type": "Feature"
           },
           {
            "geometry": {
             "coordinates": [
              [
               [
                -82.129893,
                63.114317
               ],
               [
                -82.140826,
                63.112548
               ],
               [
                -82.142922,
                63.107386
               ],
               [
                -82.134089,
                63.103992
               ],
               [
                -82.123159,
                63.10576
               ],
               [
                -82.12106,
                63.110922
               ],
               [
                -82.129893,
                63.114317
               ]
              ]
             ],
             "type": "Polygon"
            },
            "id": "880e327055fffff",
            "properties": {
             "value": 0
            },
            "type": "Feature"
           },
           {
            "geometry": {
             "coordinates": [
              [
               [
                -82.123159,
                63.10576
               ],
               [
                -82.134089,
                63.103992
               ],
               [
                -82.136186,
                63.098829
               ],
               [
                -82.127356,
                63.095435
               ],
               [
                -82.116429,
                63.097202
               ],
               [
                -82.114328,
                63.102364
               ],
               [
                -82.123159,
                63.10576
               ]
              ]
             ],
             "type": "Polygon"
            },
            "id": "880e327057fffff",
            "properties": {
             "value": 0
            },
            "type": "Feature"
           },
           {
            "geometry": {
             "coordinates": [
              [
               [
                -82.202723,
                63.13629
               ],
               [
                -82.213659,
                63.134516
               ],
               [
                -82.215744,
                63.129352
               ],
               [
                -82.206896,
                63.125963
               ],
               [
                -82.195963,
                63.127737
               ],
               [
                -82.193875,
                63.1329
               ],
               [
                -82.202723,
                63.13629
               ]
              ]
             ],
             "type": "Polygon"
            },
            "id": "880e32706dfffff",
            "properties": {
             "value": 0
            },
            "type": "Feature"
           },
           {
            "geometry": {
             "coordinates": [
              [
               [
                -82.108855,
                63.040552
               ],
               [
                -82.119762,
                63.038786
               ],
               [
                -82.121857,
                63.033623
               ],
               [
                -82.113048,
                63.030227
               ],
               [
                -82.102143,
                63.031993
               ],
               [
                -82.100045,
                63.037156
               ],
               [
                -82.108855,
                63.040552
               ]
              ]
             ],
             "type": "Polygon"
            },
            "id": "880e327083fffff",
            "properties": {
             "value": 0
            },
            "type": "Feature"
           },
           {
            "geometry": {
             "coordinates": [
              [
               [
                -82.102561,
                63.05604
               ],
               [
                -82.113474,
                63.054274
               ],
               [
                -82.115571,
                63.049111
               ],
               [
                -82.106758,
                63.045715
               ],
               [
                -82.095847,
                63.047481
               ],
               [
                -82.093747,
                63.052643
               ],
               [
                -82.102561,
                63.05604
               ]
              ]
             ],
             "type": "Polygon"
            },
            "id": "880e327089fffff",
            "properties": {
             "value": 0
            },
            "type": "Feature"
           },
           {
            "geometry": {
             "coordinates": [
              [
               [
                -82.095847,
                63.047481
               ],
               [
                -82.106758,
                63.045715
               ],
               [
                -82.108855,
                63.040552
               ],
               [
                -82.100045,
                63.037156
               ],
               [
                -82.089138,
                63.038921
               ],
               [
                -82.087037,
                63.044083
               ],
               [
                -82.095847,
                63.047481
               ]
              ]
             ],
             "type": "Polygon"
            },
            "id": "880e32708bfffff",
            "properties": {
             "value": 0
            },
            "type": "Feature"
           },
           {
            "geometry": {
             "coordinates": [
              [
               [
                -82.12229,
                63.057669
               ],
               [
                -82.133203,
                63.055901
               ],
               [
                -82.135296,
                63.050739
               ],
               [
                -82.126481,
                63.047344
               ],
               [
                -82.115571,
                63.049111
               ],
               [
                -82.113474,
                63.054274
               ],
               [
                -82.12229,
                63.057669
               ]
              ]
             ],
             "type": "Polygon"
            },
            "id": "880e32708dfffff",
            "properties": {
             "value": 0
            },
            "type": "Feature"
           },
           {
            "geometry": {
             "coordinates": [
              [
               [
                -82.082432,
                63.030361
               ],
               [
                -82.093337,
                63.028596
               ],
               [
                -82.095435,
                63.023433
               ],
               [
                -82.086632,
                63.020036
               ],
               [
                -82.07573,
                63.0218
               ],
               [
                -82.073628,
                63.026962
               ],
               [
                -82.082432,
                63.030361
               ]
              ]
             ],
             "type": "Polygon"
            },
            "id": "880e327091fffff",
            "properties": {
             "value": 0
            },
            "type": "Feature"
           },
           {
            "geometry": {
             "coordinates": [
              [
               [
                -82.07573,
                63.0218
               ],
               [
                -82.086632,
                63.020036
               ],
               [
                -82.088731,
                63.014873
               ],
               [
                -82.079931,
                63.011475
               ],
               [
                -82.069032,
                63.013239
               ],
               [
                -82.066929,
                63.018401
               ],
               [
                -82.07573,
                63.0218
               ]
              ]
             ],
             "type": "Polygon"
            },
            "id": "880e327093fffff",
            "properties": {
             "value": 0
            },
            "type": "Feature"
           },
           {
            "geometry": {
             "coordinates": [
              [
               [
                -82.102143,
                63.031993
               ],
               [
                -82.113048,
                63.030227
               ],
               [
                -82.115143,
                63.025064
               ],
               [
                -82.106337,
                63.021668
               ],
               [
                -82.095435,
                63.023433
               ],
               [
                -82.093337,
                63.028596
               ],
               [
                -82.102143,
                63.031993
               ]
              ]
             ],
             "type": "Polygon"
            },
            "id": "880e327095fffff",
            "properties": {
             "value": 0
            },
            "type": "Feature"
           },
           {
            "geometry": {
             "coordinates": [
              [
               [
                -82.095435,
                63.023433
               ],
               [
                -82.106337,
                63.021668
               ],
               [
                -82.108433,
                63.016505
               ],
               [
                -82.09963,
                63.013108
               ],
               [
                -82.088731,
                63.014873
               ],
               [
                -82.086632,
                63.020036
               ],
               [
                -82.095435,
                63.023433
               ]
              ]
             ],
             "type": "Polygon"
            },
            "id": "880e327097fffff",
            "properties": {
             "value": 0
            },
            "type": "Feature"
           },
           {
            "geometry": {
             "coordinates": [
              [
               [
                -82.069422,
                63.037287
               ],
               [
                -82.08033,
                63.035523
               ],
               [
                -82.082432,
                63.030361
               ],
               [
                -82.073628,
                63.026962
               ],
               [
                -82.062722,
                63.028726
               ],
               [
                -82.060617,
                63.033888
               ],
               [
                -82.069422,
                63.037287
               ]
              ]
             ],
             "type": "Polygon"
            },
            "id": "880e327099fffff",
            "properties": {
             "value": 0
            },
            "type": "Feature"
           },
           {
            "geometry": {
             "coordinates": [
              [
               [
                -82.062722,
                63.028726
               ],
               [
                -82.073628,
                63.026962
               ],
               [
                -82.07573,
                63.0218
               ],
               [
                -82.066929,
                63.018401
               ],
               [
                -82.056026,
                63.020164
               ],
               [
                -82.053921,
                63.025326
               ],
               [
                -82.062722,
                63.028726
               ]
              ]
             ],
             "type": "Polygon"
            },
            "id": "880e32709bfffff",
            "properties": {
             "value": 0
            },
            "type": "Feature"
           },
           {
            "geometry": {
             "coordinates": [
              [
               [
                -82.089138,
                63.038921
               ],
               [
                -82.100045,
                63.037156
               ],
               [
                -82.102143,
                63.031993
               ],
               [
                -82.093337,
                63.028596
               ],
               [
                -82.082432,
                63.030361
               ],
               [
                -82.08033,
                63.035523
               ],
               [
                -82.089138,
                63.038921
               ]
              ]
             ],
             "type": "Polygon"
            },
            "id": "880e32709dfffff",
            "properties": {
             "value": 0
            },
            "type": "Feature"
           },
           {
            "geometry": {
             "coordinates": [
              [
               [
                -82.168019,
                63.04543
               ],
               [
                -82.178924,
                63.043659
               ],
               [
                -82.181009,
                63.038495
               ],
               [
                -82.172192,
                63.035103
               ],
               [
                -82.16129,
                63.036874
               ],
               [
                -82.159202,
                63.042037
               ],
               [
                -82.168019,
                63.04543
               ]
              ]
             ],
             "type": "Polygon"
            },
            "id": "880e3270a1fffff",
            "properties": {
             "value": 0
            },
            "type": "Feature"
           },
           {
            "geometry": {
             "coordinates": [
              [
               [
                -82.16129,
                63.036874
               ],
               [
                -82.172192,
                63.035103
               ],
               [
                -82.174277,
                63.029939
               ],
               [
                -82.165463,
                63.026547
               ],
               [
                -82.154564,
                63.028317
               ],
               [
                -82.152475,
                63.03348
               ],
               [
                -82.16129,
                63.036874
               ]
              ]
             ],
             "type": "Polygon"
            },
            "id": "880e3270a3fffff",
            "properties": {
             "value": 0
            },
            "type": "Feature"
           },
           {
            "geometry": {
             "coordinates": [
              [
               [
                -82.187744,
                63.04705
               ],
               [
                -82.198649,
                63.045277
               ],
               [
                -82.20073,
                63.040113
               ],
               [
                -82.19191,
                63.036723
               ],
               [
                -82.181009,
                63.038495
               ],
               [
                -82.178924,
                63.043659
               ],
               [
                -82.187744,
                63.04705
               ]
              ]
             ],
             "type": "Polygon"
            },
            "id": "880e3270a5fffff",
            "properties": {
             "value": 0
            },
            "type": "Feature"
           },
           {
            "geometry": {
             "coordinates": [
              [
               [
                -82.181009,
                63.038495
               ],
               [
                -82.19191,
                63.036723
               ],
               [
                -82.193992,
                63.031559
               ],
               [
                -82.185176,
                63.028168
               ],
               [
                -82.174277,
                63.029939
               ],
               [
                -82.172192,
                63.035103
               ],
               [
                -82.181009,
                63.038495
               ]
              ]
             ],
             "type": "Polygon"
            },
            "id": "880e3270a7fffff",
            "properties": {
             "value": 0
            },
            "type": "Feature"
           },
           {
            "geometry": {
             "coordinates": [
              [
               [
                -82.134853,
                63.026692
               ],
               [
                -82.145753,
                63.024923
               ],
               [
                -82.147842,
                63.01976
               ],
               [
                -82.139034,
                63.016366
               ],
               [
                -82.128137,
                63.018134
               ],
               [
                -82.126044,
                63.023297
               ],
               [
                -82.134853,
                63.026692
               ]
              ]
             ],
             "type": "Polygon"
            },
            "id": "880e3270b1fffff",
            "properties": {
             "value": 0
            },
            "type": "Feature"
           },
           {
            "geometry": {
             "coordinates": [
              [
               [
                -82.128137,
                63.018134
               ],
               [
                -82.139034,
                63.016366
               ],
               [
                -82.141124,
                63.011202
               ],
               [
                -82.132319,
                63.007808
               ],
               [
                -82.121424,
                63.009575
               ],
               [
                -82.119331,
                63.014738
               ],
               [
                -82.128137,
                63.018134
               ]
              ]
             ],
             "type": "Polygon"
            },
            "id": "880e3270b3fffff",
            "properties": {
             "value": 0
            },
            "type": "Feature"
           },
           {
            "geometry": {
             "coordinates": [
              [
               [
                -82.154564,
                63.028317
               ],
               [
                -82.165463,
                63.026547
               ],
               [
                -82.167549,
                63.021383
               ],
               [
                -82.158739,
                63.01799
               ],
               [
                -82.147842,
                63.01976
               ],
               [
                -82.145753,
                63.024923
               ],
               [
                -82.154564,
                63.028317
               ]
              ]
             ],
             "type": "Polygon"
            },
            "id": "880e3270b5fffff",
            "properties": {
             "value": 0
            },
            "type": "Feature"
           },
           {
            "geometry": {
             "coordinates": [
              [
               [
                -82.115143,
                63.025064
               ],
               [
                -82.126044,
                63.023297
               ],
               [
                -82.128137,
                63.018134
               ],
               [
                -82.119331,
                63.014738
               ],
               [
                -82.108433,
                63.016505
               ],
               [
                -82.106337,
                63.021668
               ],
               [
                -82.115143,
                63.025064
               ]
              ]
             ],
             "type": "Polygon"
            },
            "id": "880e3270bbfffff",
            "properties": {
             "value": 0
            },
            "type": "Feature"
           },
           {
            "geometry": {
             "coordinates": [
              [
               [
                -82.141572,
                63.03525
               ],
               [
                -82.152475,
                63.03348
               ],
               [
                -82.154564,
                63.028317
               ],
               [
                -82.145753,
                63.024923
               ],
               [
                -82.134853,
                63.026692
               ],
               [
                -82.132761,
                63.031855
               ],
               [
                -82.141572,
                63.03525
               ]
              ]
             ],
             "type": "Polygon"
            },
            "id": "880e3270bdfffff",
            "properties": {
             "value": 0
            },
            "type": "Feature"
           },
           {
            "geometry": {
             "coordinates": [
              [
               [
                -82.115999,
                63.073157
               ],
               [
                -82.126918,
                63.07139
               ],
               [
                -82.129014,
                63.066227
               ],
               [
                -82.120194,
                63.062832
               ],
               [
                -82.109278,
                63.064599
               ],
               [
                -82.107179,
                63.069761
               ],
               [
                -82.115999,
                63.073157
               ]
              ]
             ],
             "type": "Polygon"
            },
            "id": "880e3270c5fffff",
            "properties": {
             "value": 0
            },
            "type": "Feature"
           },
           {
            "geometry": {
             "coordinates": [
              [
               [
                -82.109278,
                63.064599
               ],
               [
                -82.120194,
                63.062832
               ],
               [
                -82.12229,
                63.057669
               ],
               [
                -82.113474,
                63.054274
               ],
               [
                -82.102561,
                63.05604
               ],
               [
                -82.100461,
                63.061202
               ],
               [
                -82.109278,
                63.064599
               ]
              ]
             ],
             "type": "Polygon"
            },
            "id": "880e3270c7fffff",
            "properties": {
             "value": 0
            },
            "type": "Feature"
           },
           {
            "geometry": {
             "coordinates": [
              [
               [
                -82.063108,
                63.052773
               ],
               [
                -82.074022,
                63.05101
               ],
               [
                -82.076126,
                63.045848
               ],
               [
                -82.067318,
                63.042449
               ],
               [
                -82.056406,
                63.044212
               ],
               [
                -82.054299,
                63.049374
               ],
               [
                -82.063108,
                63.052773
               ]
              ]
             ],
             "type": "Polygon"
            },
            "id": "880e3270d1fffff",
            "properties": {
             "value": 0
            },
            "type": "Feature"
           },
           {
            "geometry": {
             "coordinates": [
              [
               [
                -82.056406,
                63.044212
               ],
               [
                -82.067318,
                63.042449
               ],
               [
                -82.069422,
                63.037287
               ],
               [
                -82.060617,
                63.033888
               ],
               [
                -82.049708,
                63.03565
               ],
               [
                -82.047601,
                63.040812
               ],
               [
                -82.056406,
                63.044212
               ]
              ]
             ],
             "type": "Polygon"
            },
            "id": "880e3270d3fffff",
            "properties": {
             "value": 0
            },
            "type": "Feature"
           },
           {
            "geometry": {
             "coordinates": [
              [
               [
                -82.076126,
                63.045848
               ],
               [
                -82.087037,
                63.044083
               ],
               [
                -82.089138,
                63.038921
               ],
               [
                -82.08033,
                63.035523
               ],
               [
                -82.069422,
                63.037287
               ],
               [
                -82.067318,
                63.042449
               ],
               [
                -82.076126,
                63.045848
               ]
              ]
             ],
             "type": "Polygon"
            },
            "id": "880e3270d7fffff",
            "properties": {
             "value": 0
            },
            "type": "Feature"
           },
           {
            "geometry": {
             "coordinates": [
              [
               [
                -82.050083,
                63.059697
               ],
               [
                -82.061001,
                63.057935
               ],
               [
                -82.063108,
                63.052773
               ],
               [
                -82.054299,
                63.049374
               ],
               [
                -82.043384,
                63.051135
               ],
               [
                -82.041274,
                63.056297
               ],
               [
                -82.050083,
                63.059697
               ]
              ]
             ],
             "type": "Polygon"
            },
            "id": "880e3270d9fffff",
            "properties": {
             "value": 0
            },
            "type": "Feature"
           },
           {
            "geometry": {
             "coordinates": [
              [
               [
                -82.043384,
                63.051135
               ],
               [
                -82.054299,
                63.049374
               ],
               [
                -82.056406,
                63.044212
               ],
               [
                -82.047601,
                63.040812
               ],
               [
                -82.036688,
                63.042573
               ],
               [
                -82.034578,
                63.047735
               ],
               [
                -82.043384,
                63.051135
               ]
              ]
             ],
             "type": "Polygon"
            },
            "id": "880e3270dbfffff",
            "properties": {
             "value": 0
            },
            "type": "Feature"
           },
           {
            "geometry": {
             "coordinates": [
              [
               [
                -82.135741,
                63.074784
               ],
               [
                -82.146659,
                63.073016
               ],
               [
                -82.148751,
                63.067853
               ],
               [
                -82.139929,
                63.064459
               ],
               [
                -82.129014,
                63.066227
               ],
               [
                -82.126918,
                63.07139
               ],
               [
                -82.135741,
                63.074784
               ]
              ]
             ],
             "type": "Polygon"
            },
            "id": "880e3270e9fffff",
            "properties": {
             "value": 0
            },
            "type": "Feature"
           },
           {
            "geometry": {
             "coordinates": [
              [
               [
                -82.129014,
                63.066227
               ],
               [
                -82.139929,
                63.064459
               ],
               [
                -82.142022,
                63.059296
               ],
               [
                -82.133203,
                63.055901
               ],
               [
                -82.12229,
                63.057669
               ],
               [
                -82.120194,
                63.062832
               ],
               [
                -82.129014,
                63.066227
               ]
              ]
             ],
             "type": "Polygon"
            },
            "id": "880e3270ebfffff",
            "properties": {
             "value": 0
            },
            "type": "Feature"
           },
           {
            "geometry": {
             "coordinates": [
              [
               [
                -82.353641,
                63.116543
               ],
               [
                -82.364559,
                63.114758
               ],
               [
                -82.366616,
                63.109592
               ],
               [
                -82.357758,
                63.106213
               ],
               [
                -82.346843,
                63.107998
               ],
               [
                -82.344782,
                63.113163
               ],
               [
                -82.353641,
                63.116543
               ]
              ]
             ],
             "type": "Polygon"
            },
            "id": "880e327121fffff",
            "properties": {
             "value": 0
            },
            "type": "Feature"
           },
           {
            "geometry": {
             "coordinates": [
              [
               [
                -82.366616,
                63.109592
               ],
               [
                -82.377532,
                63.107806
               ],
               [
                -82.379586,
                63.10264
               ],
               [
                -82.370729,
                63.099261
               ],
               [
                -82.359816,
                63.101047
               ],
               [
                -82.357758,
                63.106213
               ],
               [
                -82.366616,
                63.109592
               ]
              ]
             ],
             "type": "Polygon"
            },
            "id": "880e327127fffff",
            "properties": {
             "value": 0
            },
            "type": "Feature"
           },
           {
            "geometry": {
             "coordinates": [
              [
               [
                -82.340659,
                63.123493
               ],
               [
                -82.351581,
                63.121708
               ],
               [
                -82.353641,
                63.116543
               ],
               [
                -82.344782,
                63.113163
               ],
               [
                -82.333863,
                63.114947
               ],
               [
                -82.3318,
                63.120112
               ],
               [
                -82.340659,
                63.123493
               ]
              ]
             ],
             "type": "Polygon"
            },
            "id": "880e327129fffff",
            "properties": {
             "value": 0
            },
            "type": "Feature"
           },
           {
            "geometry": {
             "coordinates": [
              [
               [
                -82.360443,
                63.125088
               ],
               [
                -82.371364,
                63.123302
               ],
               [
                -82.373421,
                63.118137
               ],
               [
                -82.364559,
                63.114758
               ],
               [
                -82.353641,
                63.116543
               ],
               [
                -82.351581,
                63.121708
               ],
               [
                -82.360443,
                63.125088
               ]
              ]
             ],
             "type": "Polygon"
            },
            "id": "880e32712dfffff",
            "properties": {
             "value": 0
            },
            "type": "Feature"
           },
           {
            "geometry": {
             "coordinates": [
              [
               [
                -82.268871,
                63.149675
               ],
               [
                -82.279808,
                63.147895
               ],
               [
                -82.281882,
                63.142731
               ],
               [
                -82.273023,
                63.139347
               ],
               [
                -82.262089,
                63.141125
               ],
               [
                -82.260012,
                63.146289
               ],
               [
                -82.268871,
                63.149675
               ]
              ]
             ],
             "type": "Polygon"
            },
            "id": "880e327149fffff",
            "properties": {
             "value": 0
            },
            "type": "Feature"
           },
           {
            "geometry": {
             "coordinates": [
              [
               [
                -82.327671,
                63.130441
               ],
               [
                -82.338596,
                63.128658
               ],
               [
                -82.340659,
                63.123493
               ],
               [
                -82.3318,
                63.120112
               ],
               [
                -82.320877,
                63.121895
               ],
               [
                -82.318811,
                63.127059
               ],
               [
                -82.327671,
                63.130441
               ]
              ]
             ],
             "type": "Polygon"
            },
            "id": "880e327163fffff",
            "properties": {
             "value": 0
            },
            "type": "Feature"
           },
           {
            "geometry": {
             "coordinates": [
              [
               [
                -82.314677,
                63.137389
               ],
               [
                -82.325606,
                63.135606
               ],
               [
                -82.327671,
                63.130441
               ],
               [
                -82.318811,
                63.127059
               ],
               [
                -82.307885,
                63.128841
               ],
               [
                -82.305816,
                63.134006
               ],
               [
                -82.314677,
                63.137389
               ]
              ]
             ],
             "type": "Polygon"
            },
            "id": "880e32716bfffff",
            "properties": {
             "value": 0
            },
            "type": "Feature"
           },
           {
            "geometry": {
             "coordinates": [
              [
               [
                -82.253688,
                63.060446
               ],
               [
                -82.264593,
                63.058668
               ],
               [
                -82.266664,
                63.053504
               ],
               [
                -82.257833,
                63.050117
               ],
               [
                -82.246931,
                63.051894
               ],
               [
                -82.244857,
                63.057059
               ],
               [
                -82.253688,
                63.060446
               ]
              ]
             ],
             "type": "Polygon"
            },
            "id": "880e327181fffff",
            "properties": {
             "value": 0
            },
            "type": "Feature"
           },
           {
            "geometry": {
             "coordinates": [
              [
               [
                -82.273427,
                63.062054
               ],
               [
                -82.284331,
                63.060275
               ],
               [
                -82.286398,
                63.05511
               ],
               [
                -82.277565,
                63.051725
               ],
               [
                -82.266664,
                63.053504
               ],
               [
                -82.264593,
                63.058668
               ],
               [
                -82.273427,
                63.062054
               ]
              ]
             ],
             "type": "Polygon"
            },
            "id": "880e327185fffff",
            "properties": {
             "value": 0
            },
            "type": "Feature"
           },
           {
            "geometry": {
             "coordinates": [
              [
               [
                -82.233952,
                63.058835
               ],
               [
                -82.244857,
                63.057059
               ],
               [
                -82.246931,
                63.051894
               ],
               [
                -82.238103,
                63.048507
               ],
               [
                -82.2272,
                63.050282
               ],
               [
                -82.225123,
                63.055446
               ],
               [
                -82.233952,
                63.058835
               ]
              ]
             ],
             "type": "Polygon"
            },
            "id": "880e32718bfffff",
            "properties": {
             "value": 0
            },
            "type": "Feature"
           },
           {
            "geometry": {
             "coordinates": [
              [
               [
                -82.207471,
                63.048668
               ],
               [
                -82.218375,
                63.046893
               ],
               [
                -82.220453,
                63.041729
               ],
               [
                -82.211631,
                63.03834
               ],
               [
                -82.20073,
                63.040113
               ],
               [
                -82.198649,
                63.045277
               ],
               [
                -82.207471,
                63.048668
               ]
              ]
             ],
             "type": "Polygon"
            },
            "id": "880e327199fffff",
            "properties": {
             "value": 0
            },
            "type": "Feature"
           },
           {
            "geometry": {
             "coordinates": [
              [
               [
                -82.2272,
                63.050282
               ],
               [
                -82.238103,
                63.048507
               ],
               [
                -82.240178,
                63.043342
               ],
               [
                -82.231353,
                63.039954
               ],
               [
                -82.220453,
                63.041729
               ],
               [
                -82.218375,
                63.046893
               ],
               [
                -82.2272,
                63.050282
               ]
              ]
             ],
             "type": "Polygon"
            },
            "id": "880e32719dfffff",
            "properties": {
             "value": 0
            },
            "type": "Feature"
           },
           {
            "geometry": {
             "coordinates": [
              [
               [
                -82.293167,
                63.06366
               ],
               [
                -82.304071,
                63.061879
               ],
               [
                -82.306135,
                63.056714
               ],
               [
                -82.297299,
                63.05333
               ],
               [
                -82.286398,
                63.05511
               ],
               [
                -82.284331,
                63.060275
               ],
               [
                -82.293167,
                63.06366
               ]
              ]
             ],
             "type": "Polygon"
            },
            "id": "880e3271a9fffff",
            "properties": {
             "value": 0
            },
            "type": "Feature"
           },
           {
            "geometry": {
             "coordinates": [
              [
               [
                -82.214217,
                63.057221
               ],
               [
                -82.225123,
                63.055446
               ],
               [
                -82.2272,
                63.050282
               ],
               [
                -82.218375,
                63.046893
               ],
               [
                -82.207471,
                63.048668
               ],
               [
                -82.205391,
                63.053831
               ],
               [
                -82.214217,
                63.057221
               ]
              ]
             ],
             "type": "Polygon"
            },
            "id": "880e3271d7fffff",
            "properties": {
             "value": 0
            },
            "type": "Feature"
           },
           {
            "geometry": {
             "coordinates": [
              [
               [
                -82.29994,
                63.072209
               ],
               [
                -82.310846,
                63.070427
               ],
               [
                -82.31291,
                63.065262
               ],
               [
                -82.304071,
                63.061879
               ],
               [
                -82.293167,
                63.06366
               ],
               [
                -82.2911,
                63.068824
               ],
               [
                -82.29994,
                63.072209
               ]
              ]
             ],
             "type": "Polygon"
            },
            "id": "880e3271e7fffff",
            "properties": {
             "value": 0
            },
            "type": "Feature"
           },
           {
            "geometry": {
             "coordinates": [
              [
               [
                -82.024371,
                63.097588
               ],
               [
                -82.035305,
                63.095828
               ],
               [
                -82.037418,
                63.090666
               ],
               [
                -82.028601,
                63.087266
               ],
               [
                -82.01767,
                63.089025
               ],
               [
                -82.015554,
                63.094187
               ],
               [
                -82.024371,
                63.097588
               ]
              ]
             ],
             "type": "Polygon"
            },
            "id": "880e327281fffff",
            "properties": {
             "value": 0
            },
            "type": "Feature"
           },
           {
            "geometry": {
             "coordinates": [
              [
               [
                -82.037418,
                63.090666
               ],
               [
                -82.048348,
                63.088905
               ],
               [
                -82.050459,
                63.083744
               ],
               [
                -82.041643,
                63.080344
               ],
               [
                -82.030715,
                63.082104
               ],
               [
                -82.028601,
                63.087266
               ],
               [
                -82.037418,
                63.090666
               ]
              ]
             ],
             "type": "Polygon"
            },
            "id": "880e327287fffff",
            "properties": {
             "value": 0
            },
            "type": "Feature"
           },
           {
            "geometry": {
             "coordinates": [
              [
               [
                -82.011318,
                63.104508
               ],
               [
                -82.022255,
                63.102749
               ],
               [
                -82.024371,
                63.097588
               ],
               [
                -82.015554,
                63.094187
               ],
               [
                -82.004619,
                63.095945
               ],
               [
                -82.0025,
                63.101106
               ],
               [
                -82.011318,
                63.104508
               ]
              ]
             ],
             "type": "Polygon"
            },
            "id": "880e327289fffff",
            "properties": {
             "value": 0
            },
            "type": "Feature"
           },
           {
            "geometry": {
             "coordinates": [
              [
               [
                -81.984547,
                63.070253
               ],
               [
                -81.995473,
                63.068496
               ],
               [
                -81.997591,
                63.063335
               ],
               [
                -81.988787,
                63.059932
               ],
               [
                -81.977863,
                63.061688
               ],
               [
                -81.975741,
                63.066849
               ],
               [
                -81.984547,
                63.070253
               ]
              ]
             ],
             "type": "Polygon"
            },
            "id": "880e327293fffff",
            "properties": {
             "value": 0
            },
            "type": "Feature"
           },
           {
            "geometry": {
             "coordinates": [
              [
               [
                -81.978181,
                63.085735
               ],
               [
                -81.989113,
                63.083979
               ],
               [
                -81.991234,
                63.078818
               ],
               [
                -81.982425,
                63.075414
               ],
               [
                -81.971496,
                63.07717
               ],
               [
                -81.969372,
                63.082331
               ],
               [
                -81.978181,
                63.085735
               ]
              ]
             ],
             "type": "Polygon"
            },
            "id": "880e327299fffff",
            "properties": {
             "value": 0
            },
            "type": "Feature"
           },
           {
            "geometry": {
             "coordinates": [
              [
               [
                -81.971496,
                63.07717
               ],
               [
                -81.982425,
                63.075414
               ],
               [
                -81.984547,
                63.070253
               ],
               [
                -81.975741,
                63.066849
               ],
               [
                -81.964815,
                63.068605
               ],
               [
                -81.96269,
                63.073765
               ],
               [
                -81.971496,
                63.07717
               ]
              ]
             ],
             "type": "Polygon"
            },
            "id": "880e32729bfffff",
            "properties": {
             "value": 0
            },
            "type": "Feature"
           },
           {
            "geometry": {
             "coordinates": [
              [
               [
                -82.07692,
                63.09394
               ],
               [
                -82.087848,
                63.092175
               ],
               [
                -82.089952,
                63.087013
               ],
               [
                -82.081131,
                63.083616
               ],
               [
                -82.070205,
                63.08538
               ],
               [
                -82.068097,
                63.090542
               ],
               [
                -82.07692,
                63.09394
               ]
              ]
             ],
             "type": "Polygon"
            },
            "id": "880e3272a1fffff",
            "properties": {
             "value": 0
            },
            "type": "Feature"
           },
           {
            "geometry": {
             "coordinates": [
              [
               [
                -82.070205,
                63.08538
               ],
               [
                -82.081131,
                63.083616
               ],
               [
                -82.083235,
                63.078454
               ],
               [
                -82.074417,
                63.075056
               ],
               [
                -82.063494,
                63.076819
               ],
               [
                -82.061386,
                63.081981
               ],
               [
                -82.070205,
                63.08538
               ]
              ]
             ],
             "type": "Polygon"
            },
            "id": "880e3272a3fffff",
            "properties": {
             "value": 0
            },
            "type": "Feature"
           },
           {
            "geometry": {
             "coordinates": [
              [
               [
                -82.096673,
                63.095572
               ],
               [
                -82.107601,
                63.093807
               ],
               [
                -82.109702,
                63.088644
               ],
               [
                -82.100878,
                63.085248
               ],
               [
                -82.089952,
                63.087013
               ],
               [
                -82.087848,
                63.092175
               ],
               [
                -82.096673,
                63.095572
               ]
              ]
             ],
             "type": "Polygon"
            },
            "id": "880e3272a5fffff",
            "properties": {
             "value": 0
            },
            "type": "Feature"
           },
           {
            "geometry": {
             "coordinates": [
              [
               [
                -82.037053,
                63.06662
               ],
               [
                -82.047974,
                63.064859
               ],
               [
                -82.050083,
                63.059697
               ],
               [
                -82.041274,
                63.056297
               ],
               [
                -82.030356,
                63.058058
               ],
               [
                -82.028243,
                63.063219
               ],
               [
                -82.037053,
                63.06662
               ]
              ]
             ],
             "type": "Polygon"
            },
            "id": "880e3272b3fffff",
            "properties": {
             "value": 0
            },
            "type": "Feature"
           },
           {
            "geometry": {
             "coordinates": [
              [
               [
                -82.063494,
                63.076819
               ],
               [
                -82.074417,
                63.075056
               ],
               [
                -82.076522,
                63.069894
               ],
               [
                -82.067707,
                63.066496
               ],
               [
                -82.056787,
                63.068259
               ],
               [
                -82.054678,
                63.07342
               ],
               [
                -82.063494,
                63.076819
               ]
              ]
             ],
             "type": "Polygon"
            },
            "id": "880e3272b5fffff",
            "properties": {
             "value": 0
            },
            "type": "Feature"
           },
           {
            "geometry": {
             "coordinates": [
              [
               [
                -82.056787,
                63.068259
               ],
               [
                -82.067707,
                63.066496
               ],
               [
                -82.069813,
                63.061334
               ],
               [
                -82.061001,
                63.057935
               ],
               [
                -82.050083,
                63.059697
               ],
               [
                -82.047974,
                63.064859
               ],
               [
                -82.056787,
                63.068259
               ]
              ]
             ],
             "type": "Polygon"
            },
            "id": "880e3272b7fffff",
            "properties": {
             "value": 0
            },
            "type": "Feature"
           },
           {
            "geometry": {
             "coordinates": [
              [
               [
                -82.030715,
                63.082104
               ],
               [
                -82.041643,
                63.080344
               ],
               [
                -82.043754,
                63.075182
               ],
               [
                -82.034941,
                63.071782
               ],
               [
                -82.024016,
                63.073542
               ],
               [
                -82.021902,
                63.078703
               ],
               [
                -82.030715,
                63.082104
               ]
              ]
             ],
             "type": "Polygon"
            },
            "id": "880e3272b9fffff",
            "properties": {
             "value": 0
            },
            "type": "Feature"
           },
           {
            "geometry": {
             "coordinates": [
              [
               [
                -82.024016,
                63.073542
               ],
               [
                -82.034941,
                63.071782
               ],
               [
                -82.037053,
                63.06662
               ],
               [
                -82.028243,
                63.063219
               ],
               [
                -82.017321,
                63.064979
               ],
               [
                -82.015206,
                63.07014
               ],
               [
                -82.024016,
                63.073542
               ]
              ]
             ],
             "type": "Polygon"
            },
            "id": "880e3272bbfffff",
            "properties": {
             "value": 0
            },
            "type": "Feature"
           },
           {
            "geometry": {
             "coordinates": [
              [
               [
                -82.004959,
                63.119991
               ],
               [
                -82.015902,
                63.118232
               ],
               [
                -82.01802,
                63.113071
               ],
               [
                -82.009199,
                63.109669
               ],
               [
                -81.998259,
                63.111428
               ],
               [
                -81.996137,
                63.116588
               ],
               [
                -82.004959,
                63.119991
               ]
              ]
             ],
             "type": "Polygon"
            },
            "id": "880e3272c1fffff",
            "properties": {
             "value": 0
            },
            "type": "Feature"
           },
           {
            "geometry": {
             "coordinates": [
              [
               [
                -82.01802,
                63.113071
               ],
               [
                -82.02896,
                63.111311
               ],
               [
                -82.031076,
                63.10615
               ],
               [
                -82.022255,
                63.102749
               ],
               [
                -82.011318,
                63.104508
               ],
               [
                -82.009199,
                63.109669
               ],
               [
                -82.01802,
                63.113071
               ]
              ]
             ],
             "type": "Polygon"
            },
            "id": "880e3272c7fffff",
            "properties": {
             "value": 0
            },
            "type": "Feature"
           },
           {
            "geometry": {
             "coordinates": [
              [
               [
                -81.991891,
                63.126909
               ],
               [
                -82.002838,
                63.125151
               ],
               [
                -82.004959,
                63.119991
               ],
               [
                -81.996137,
                63.116588
               ],
               [
                -81.985193,
                63.118346
               ],
               [
                -81.983068,
                63.123506
               ],
               [
                -81.991891,
                63.126909
               ]
              ]
             ],
             "type": "Polygon"
            },
            "id": "880e3272c9fffff",
            "properties": {
             "value": 0
            },
            "type": "Feature"
           },
           {
            "geometry": {
             "coordinates": [
              [
               [
                -81.985193,
                63.118346
               ],
               [
                -81.996137,
                63.116588
               ],
               [
                -81.998259,
                63.111428
               ],
               [
                -81.98944,
                63.108025
               ],
               [
                -81.978499,
                63.109781
               ],
               [
                -81.976374,
                63.114942
               ],
               [
                -81.985193,
                63.118346
               ]
              ]
             ],
             "type": "Polygon"
            },
            "id": "880e3272cbfffff",
            "properties": {
             "value": 0
            },
            "type": "Feature"
           },
           {
            "geometry": {
             "coordinates": [
              [
               [
                -82.011663,
                63.128554
               ],
               [
                -82.022609,
                63.126794
               ],
               [
                -82.024727,
                63.121633
               ],
               [
                -82.015902,
                63.118232
               ],
               [
                -82.004959,
                63.119991
               ],
               [
                -82.002838,
                63.125151
               ],
               [
                -82.011663,
                63.128554
               ]
              ]
             ],
             "type": "Polygon"
            },
            "id": "880e3272cdfffff",
            "properties": {
             "value": 0
            },
            "type": "Feature"
           },
           {
            "geometry": {
             "coordinates": [
              [
               [
                -81.965121,
                63.092652
               ],
               [
                -81.976057,
                63.090896
               ],
               [
                -81.978181,
                63.085735
               ],
               [
                -81.969372,
                63.082331
               ],
               [
                -81.958439,
                63.084086
               ],
               [
                -81.956312,
                63.089246
               ],
               [
                -81.965121,
                63.092652
               ]
              ]
             ],
             "type": "Polygon"
            },
            "id": "880e3272d3fffff",
            "properties": {
             "value": 0
            },
            "type": "Feature"
           },
           {
            "geometry": {
             "coordinates": [
              [
               [
                -81.991562,
                63.102864
               ],
               [
                -82.0025,
                63.101106
               ],
               [
                -82.004619,
                63.095945
               ],
               [
                -81.995804,
                63.092543
               ],
               [
                -81.984869,
                63.0943
               ],
               [
                -81.982747,
                63.099461
               ],
               [
                -81.991562,
                63.102864
               ]
              ]
             ],
             "type": "Polygon"
            },
            "id": "880e3272d5fffff",
            "properties": {
             "value": 0
            },
            "type": "Feature"
           },
           {
            "geometry": {
             "coordinates": [
              [
               [
                -81.984869,
                63.0943
               ],
               [
                -81.995804,
                63.092543
               ],
               [
                -81.997925,
                63.087382
               ],
               [
                -81.989113,
                63.083979
               ],
               [
                -81.978181,
                63.085735
               ],
               [
                -81.976057,
                63.090896
               ],
               [
                -81.984869,
                63.0943
               ]
              ]
             ],
             "type": "Polygon"
            },
            "id": "880e3272d7fffff",
            "properties": {
             "value": 0
            },
            "type": "Feature"
           },
           {
            "geometry": {
             "coordinates": [
              [
               [
                -81.978499,
                63.109781
               ],
               [
                -81.98944,
                63.108025
               ],
               [
                -81.991562,
                63.102864
               ],
               [
                -81.982747,
                63.099461
               ],
               [
                -81.971808,
                63.101217
               ],
               [
                -81.969682,
                63.106377
               ],
               [
                -81.978499,
                63.109781
               ]
              ]
             ],
             "type": "Polygon"
            },
            "id": "880e3272ddfffff",
            "properties": {
             "value": 0
            },
            "type": "Feature"
           },
           {
            "geometry": {
             "coordinates": [
              [
               [
                -82.176663,
                63.150161
               ],
               [
                -82.187606,
                63.148389
               ],
               [
                -82.189696,
                63.143226
               ],
               [
                -82.180847,
                63.139835
               ],
               [
                -82.169907,
                63.141607
               ],
               [
                -82.167813,
                63.146769
               ],
               [
                -82.176663,
                63.150161
               ]
              ]
             ],
             "type": "Polygon"
            },
            "id": "880e327311fffff",
            "properties": {
             "value": 0
            },
            "type": "Feature"
           },
           {
            "geometry": {
             "coordinates": [
              [
               [
                -82.169907,
                63.141607
               ],
               [
                -82.180847,
                63.139835
               ],
               [
                -82.182938,
                63.134672
               ],
               [
                -82.174092,
                63.131281
               ],
               [
                -82.163155,
                63.133052
               ],
               [
                -82.161061,
                63.138215
               ],
               [
                -82.169907,
                63.141607
               ]
              ]
             ],
             "type": "Polygon"
            },
            "id": "880e327313fffff",
            "properties": {
             "value": 0
            },
            "type": "Feature"
           },
           {
            "geometry": {
             "coordinates": [
              [
               [
                -82.189696,
                63.143226
               ],
               [
                -82.200635,
                63.141453
               ],
               [
                -82.202723,
                63.13629
               ],
               [
                -82.193875,
                63.1329
               ],
               [
                -82.182938,
                63.134672
               ],
               [
                -82.180847,
                63.139835
               ],
               [
                -82.189696,
                63.143226
               ]
              ]
             ],
             "type": "Polygon"
            },
            "id": "880e327317fffff",
            "properties": {
             "value": 0
            },
            "type": "Feature"
           },
           {
            "geometry": {
             "coordinates": [
              [
               [
                -82.163623,
                63.157094
               ],
               [
                -82.174569,
                63.155323
               ],
               [
                -82.176663,
                63.150161
               ],
               [
                -82.167813,
                63.146769
               ],
               [
                -82.15687,
                63.14854
               ],
               [
                -82.154773,
                63.153702
               ],
               [
                -82.163623,
                63.157094
               ]
              ]
             ],
             "type": "Polygon"
            },
            "id": "880e327319fffff",
            "properties": {
             "value": 0
            },
            "type": "Feature"
           },
           {
            "geometry": {
             "coordinates": [
              [
               [
                -82.15687,
                63.14854
               ],
               [
                -82.167813,
                63.146769
               ],
               [
                -82.169907,
                63.141607
               ],
               [
                -82.161061,
                63.138215
               ],
               [
                -82.15012,
                63.139985
               ],
               [
                -82.148023,
                63.145147
               ],
               [
                -82.15687,
                63.14854
               ]
              ]
             ],
             "type": "Polygon"
            },
            "id": "880e32731bfffff",
            "properties": {
             "value": 0
            },
            "type": "Feature"
           },
           {
            "geometry": {
             "coordinates": [
              [
               [
                -82.262638,
                63.165166
               ],
               [
                -82.27358,
                63.163387
               ],
               [
                -82.275657,
                63.158223
               ],
               [
                -82.266794,
                63.154838
               ],
               [
                -82.255854,
                63.156616
               ],
               [
                -82.253774,
                63.16178
               ],
               [
                -82.262638,
                63.165166
               ]
              ]
             ],
             "type": "Polygon"
            },
            "id": "880e327321fffff",
            "properties": {
             "value": 0
            },
            "type": "Feature"
           },
           {
            "geometry": {
             "coordinates": [
              [
               [
                -82.282446,
                63.166772
               ],
               [
                -82.293388,
                63.164992
               ],
               [
                -82.295461,
                63.159828
               ],
               [
                -82.286596,
                63.156444
               ],
               [
                -82.275657,
                63.158223
               ],
               [
                -82.27358,
                63.163387
               ],
               [
                -82.282446,
                63.166772
               ]
              ]
             ],
             "type": "Polygon"
            },
            "id": "880e327325fffff",
            "properties": {
             "value": 0
            },
            "type": "Feature"
           },
           {
            "geometry": {
             "coordinates": [
              [
               [
                -82.275657,
                63.158223
               ],
               [
                -82.286596,
                63.156444
               ],
               [
                -82.28867,
                63.15128
               ],
               [
                -82.279808,
                63.147895
               ],
               [
                -82.268871,
                63.149675
               ],
               [
                -82.266794,
                63.154838
               ],
               [
                -82.275657,
                63.158223
               ]
              ]
             ],
             "type": "Polygon"
            },
            "id": "880e327327fffff",
            "properties": {
             "value": 0
            },
            "type": "Feature"
           },
           {
            "geometry": {
             "coordinates": [
              [
               [
                -82.269425,
                63.173715
               ],
               [
                -82.280371,
                63.171936
               ],
               [
                -82.282446,
                63.166772
               ],
               [
                -82.27358,
                63.163387
               ],
               [
                -82.262638,
                63.165166
               ],
               [
                -82.260559,
                63.17033
               ],
               [
                -82.269425,
                63.173715
               ]
              ]
             ],
             "type": "Polygon"
            },
            "id": "880e32732dfffff",
            "properties": {
             "value": 0
            },
            "type": "Feature"
           },
           {
            "geometry": {
             "coordinates": [
              [
               [
                -82.22928,
                63.146456
               ],
               [
                -82.240218,
                63.14468
               ],
               [
                -82.242299,
                63.139516
               ],
               [
                -82.233445,
                63.136129
               ],
               [
                -82.22251,
                63.137904
               ],
               [
                -82.220426,
                63.143068
               ],
               [
                -82.22928,
                63.146456
               ]
              ]
             ],
             "type": "Polygon"
            },
            "id": "880e327331fffff",
            "properties": {
             "value": 0
            },
            "type": "Feature"
           },
           {
            "geometry": {
             "coordinates": [
              [
               [
                -82.22251,
                63.137904
               ],
               [
                -82.233445,
                63.136129
               ],
               [
                -82.235527,
                63.130965
               ],
               [
                -82.226677,
                63.127577
               ],
               [
                -82.215744,
                63.129352
               ],
               [
                -82.213659,
                63.134516
               ],
               [
                -82.22251,
                63.137904
               ]
              ]
             ],
             "type": "Polygon"
            },
            "id": "880e327333fffff",
            "properties": {
             "value": 0
            },
            "type": "Feature"
           },
           {
            "geometry": {
             "coordinates": [
              [
               [
                -82.249075,
                63.148067
               ],
               [
                -82.260012,
                63.146289
               ],
               [
                -82.262089,
                63.141125
               ],
               [
                -82.253233,
                63.137739
               ],
               [
                -82.242299,
                63.139516
               ],
               [
                -82.240218,
                63.14468
               ],
               [
                -82.249075,
                63.148067
               ]
              ]
             ],
             "type": "Polygon"
            },
            "id": "880e327335fffff",
            "properties": {
             "value": 0
            },
            "type": "Feature"
           },
           {
            "geometry": {
             "coordinates": [
              [
               [
                -82.190677,
                63.191308
               ],
               [
                -82.201634,
                63.189535
               ],
               [
                -82.203725,
                63.184372
               ],
               [
                -82.194862,
                63.180983
               ],
               [
                -82.183907,
                63.182755
               ],
               [
                -82.181813,
                63.187918
               ],
               [
                -82.190677,
                63.191308
               ]
              ]
             ],
             "type": "Polygon"
            },
            "id": "880e327341fffff",
            "properties": {
             "value": 0
            },
            "type": "Feature"
           },
           {
            "geometry": {
             "coordinates": [
              [
               [
                -82.183907,
                63.182755
               ],
               [
                -82.194862,
                63.180983
               ],
               [
                -82.196953,
                63.17582
               ],
               [
                -82.188094,
                63.17243
               ],
               [
                -82.177142,
                63.174202
               ],
               [
                -82.175047,
                63.179365
               ],
               [
                -82.183907,
                63.182755
               ]
              ]
             ],
             "type": "Polygon"
            },
            "id": "880e327343fffff",
            "properties": {
             "value": 0
            },
            "type": "Feature"
           },
           {
            "geometry": {
             "coordinates": [
              [
               [
                -82.203725,
                63.184372
               ],
               [
                -82.214678,
                63.182598
               ],
               [
                -82.216766,
                63.177435
               ],
               [
                -82.207904,
                63.174046
               ],
               [
                -82.196953,
                63.17582
               ],
               [
                -82.194862,
                63.180983
               ],
               [
                -82.203725,
                63.184372
               ]
              ]
             ],
             "type": "Polygon"
            },
            "id": "880e327347fffff",
            "properties": {
             "value": 0
            },
            "type": "Feature"
           },
           {
            "geometry": {
             "coordinates": [
              [
               [
                -82.19745,
                63.19986
               ],
               [
                -82.208409,
                63.198087
               ],
               [
                -82.2105,
                63.192924
               ],
               [
                -82.201634,
                63.189535
               ],
               [
                -82.190677,
                63.191308
               ],
               [
                -82.188583,
                63.196471
               ],
               [
                -82.19745,
                63.19986
               ]
              ]
             ],
             "type": "Polygon"
            },
            "id": "880e32734dfffff",
            "properties": {
             "value": 0
            },
            "type": "Feature"
           },
           {
            "geometry": {
             "coordinates": [
              [
               [
                -82.177142,
                63.174202
               ],
               [
                -82.188094,
                63.17243
               ],
               [
                -82.190186,
                63.167267
               ],
               [
                -82.18133,
                63.163877
               ],
               [
                -82.170381,
                63.165649
               ],
               [
                -82.168285,
                63.170811
               ],
               [
                -82.177142,
                63.174202
               ]
              ]
             ],
             "type": "Polygon"
            },
            "id": "880e327355fffff",
            "properties": {
             "value": 0
            },
            "type": "Feature"
           },
           {
            "geometry": {
             "coordinates": [
              [
               [
                -82.170381,
                63.165649
               ],
               [
                -82.18133,
                63.163877
               ],
               [
                -82.183422,
                63.158714
               ],
               [
                -82.174569,
                63.155323
               ],
               [
                -82.163623,
                63.157094
               ],
               [
                -82.161527,
                63.162257
               ],
               [
                -82.170381,
                63.165649
               ]
              ]
             ],
             "type": "Polygon"
            },
            "id": "880e327357fffff",
            "properties": {
             "value": 0
            },
            "type": "Feature"
           },
           {
            "geometry": {
             "coordinates": [
              [
               [
                -82.263187,
                63.189206
               ],
               [
                -82.274139,
                63.187427
               ],
               [
                -82.276217,
                63.182263
               ],
               [
                -82.267347,
                63.178879
               ],
               [
                -82.256398,
                63.180657
               ],
               [
                -82.254317,
                63.18582
               ],
               [
                -82.263187,
                63.189206
               ]
              ]
             ],
             "type": "Polygon"
            },
            "id": "880e327365fffff",
            "properties": {
             "value": 0
            },
            "type": "Feature"
           },
           {
            "geometry": {
             "coordinates": [
              [
               [
                -82.256398,
                63.180657
               ],
               [
                -82.267347,
                63.178879
               ],
               [
                -82.269425,
                63.173715
               ],
               [
                -82.260559,
                63.17033
               ],
               [
                -82.249613,
                63.172107
               ],
               [
                -82.247531,
                63.177271
               ],
               [
                -82.256398,
                63.180657
               ]
              ]
             ],
             "type": "Polygon"
            },
            "id": "880e327367fffff",
            "properties": {
             "value": 0
            },
            "type": "Feature"
           },
           {
            "geometry": {
             "coordinates": [
              [
               [
                -82.250152,
                63.196147
               ],
               [
                -82.261106,
                63.194369
               ],
               [
                -82.263187,
                63.189206
               ],
               [
                -82.254317,
                63.18582
               ],
               [
                -82.243364,
                63.187597
               ],
               [
                -82.24128,
                63.192761
               ],
               [
                -82.250152,
                63.196147
               ]
              ]
             ],
             "type": "Polygon"
            },
            "id": "880e32736dfffff",
            "properties": {
             "value": 0
            },
            "type": "Feature"
           },
           {
            "geometry": {
             "coordinates": [
              [
               [
                -81.950578,
                62.979324
               ],
               [
                -81.961474,
                62.97757
               ],
               [
                -81.963592,
                62.972408
               ],
               [
                -81.954818,
                62.969002
               ],
               [
                -81.943925,
                62.970756
               ],
               [
                -81.941804,
                62.975917
               ],
               [
                -81.950578,
                62.979324
               ]
              ]
             ],
             "type": "Polygon"
            },
            "id": "880e327405fffff",
            "properties": {
             "value": 0
            },
            "type": "Feature"
           },
           {
            "geometry": {
             "coordinates": [
              [
               [
                -81.917885,
                62.984583
               ],
               [
                -81.928784,
                62.982831
               ],
               [
                -81.930908,
                62.97767
               ],
               [
                -81.922136,
                62.974262
               ],
               [
                -81.911239,
                62.976013
               ],
               [
                -81.909112,
                62.981174
               ],
               [
                -81.917885,
                62.984583
               ]
              ]
             ],
             "type": "Polygon"
            },
            "id": "880e327409fffff",
            "properties": {
             "value": 0
            },
            "type": "Feature"
           },
           {
            "geometry": {
             "coordinates": [
              [
               [
                -81.911239,
                62.976013
               ],
               [
                -81.922136,
                62.974262
               ],
               [
                -81.92426,
                62.969101
               ],
               [
                -81.915492,
                62.965692
               ],
               [
                -81.904598,
                62.967443
               ],
               [
                -81.90247,
                62.972604
               ],
               [
                -81.911239,
                62.976013
               ]
              ]
             ],
             "type": "Polygon"
            },
            "id": "880e32740bfffff",
            "properties": {
             "value": 0
            },
            "type": "Feature"
           },
           {
            "geometry": {
             "coordinates": [
              [
               [
                -81.937559,
                62.986239
               ],
               [
                -81.948458,
                62.984485
               ],
               [
                -81.950578,
                62.979324
               ],
               [
                -81.941804,
                62.975917
               ],
               [
                -81.930908,
                62.97767
               ],
               [
                -81.928784,
                62.982831
               ],
               [
                -81.937559,
                62.986239
               ]
              ]
             ],
             "type": "Polygon"
            },
            "id": "880e32740dfffff",
            "properties": {
             "value": 0
            },
            "type": "Feature"
           },
           {
            "geometry": {
             "coordinates": [
              [
               [
                -81.89796,
                62.958873
               ],
               [
                -81.908851,
                62.957122
               ],
               [
                -81.910977,
                62.951962
               ],
               [
                -81.902215,
                62.948552
               ],
               [
                -81.891326,
                62.950302
               ],
               [
                -81.889197,
                62.955462
               ],
               [
                -81.89796,
                62.958873
               ]
              ]
             ],
             "type": "Polygon"
            },
            "id": "880e327411fffff",
            "properties": {
             "value": 0
            },
            "type": "Feature"
           },
           {
            "geometry": {
             "coordinates": [
              [
               [
                -81.884937,
                62.965783
               ],
               [
                -81.895832,
                62.964033
               ],
               [
                -81.89796,
                62.958873
               ],
               [
                -81.889197,
                62.955462
               ],
               [
                -81.878305,
                62.957211
               ],
               [
                -81.876174,
                62.962371
               ],
               [
                -81.884937,
                62.965783
               ]
              ]
             ],
             "type": "Polygon"
            },
            "id": "880e327419fffff",
            "properties": {
             "value": 0
            },
            "type": "Feature"
           },
           {
            "geometry": {
             "coordinates": [
              [
               [
                -81.904598,
                62.967443
               ],
               [
                -81.915492,
                62.965692
               ],
               [
                -81.917617,
                62.960532
               ],
               [
                -81.908851,
                62.957122
               ],
               [
                -81.89796,
                62.958873
               ],
               [
                -81.895832,
                62.964033
               ],
               [
                -81.904598,
                62.967443
               ]
              ]
             ],
             "type": "Polygon"
            },
            "id": "880e32741dfffff",
            "properties": {
             "value": 0
            },
            "type": "Feature"
           },
           {
            "geometry": {
             "coordinates": [
              [
               [
                -81.98326,
                62.974058
               ],
               [
                -81.994151,
                62.972301
               ],
               [
                -81.996263,
                62.967139
               ],
               [
                -81.987487,
                62.963735
               ],
               [
                -81.976599,
                62.965491
               ],
               [
                -81.974483,
                62.970653
               ],
               [
                -81.98326,
                62.974058
               ]
              ]
             ],
             "type": "Polygon"
            },
            "id": "880e327421fffff",
            "properties": {
             "value": 0
            },
            "type": "Feature"
           },
           {
            "geometry": {
             "coordinates": [
              [
               [
                -82.00293,
                62.975705
               ],
               [
                -82.013821,
                62.973946
               ],
               [
                -82.015929,
                62.968784
               ],
               [
                -82.007151,
                62.965381
               ],
               [
                -81.996263,
                62.967139
               ],
               [
                -81.994151,
                62.972301
               ],
               [
                -82.00293,
                62.975705
               ]
              ]
             ],
             "type": "Polygon"
            },
            "id": "880e327425fffff",
            "properties": {
             "value": 0
            },
            "type": "Feature"
           },
           {
            "geometry": {
             "coordinates": [
              [
               [
                -81.996263,
                62.967139
               ],
               [
                -82.007151,
                62.965381
               ],
               [
                -82.00926,
                62.960219
               ],
               [
                -82.000484,
                62.956816
               ],
               [
                -81.989599,
                62.958573
               ],
               [
                -81.987487,
                62.963735
               ],
               [
                -81.996263,
                62.967139
               ]
              ]
             ],
             "type": "Polygon"
            },
            "id": "880e327427fffff",
            "properties": {
             "value": 0
            },
            "type": "Feature"
           },
           {
            "geometry": {
             "coordinates": [
              [
               [
                -81.970251,
                62.980975
               ],
               [
                -81.981145,
                62.979219
               ],
               [
                -81.98326,
                62.974058
               ],
               [
                -81.974483,
                62.970653
               ],
               [
                -81.963592,
                62.972408
               ],
               [
                -81.961474,
                62.97757
               ],
               [
                -81.970251,
                62.980975
               ]
              ]
             ],
             "type": "Polygon"
            },
            "id": "880e327429fffff",
            "properties": {
             "value": 0
            },
            "type": "Feature"
           },
           {
            "geometry": {
             "coordinates": [
              [
               [
                -81.924534,
                62.993152
               ],
               [
                -81.935436,
                62.991399
               ],
               [
                -81.937559,
                62.986239
               ],
               [
                -81.928784,
                62.982831
               ],
               [
                -81.917885,
                62.984583
               ],
               [
                -81.915758,
                62.989743
               ],
               [
                -81.924534,
                62.993152
               ]
              ]
             ],
             "type": "Polygon"
            },
            "id": "880e327447fffff",
            "properties": {
             "value": 0
            },
            "type": "Feature"
           },
           {
            "geometry": {
             "coordinates": [
              [
               [
                -81.898465,
                63.006975
               ],
               [
                -81.909373,
                63.005224
               ],
               [
                -81.911502,
                63.000064
               ],
               [
                -81.902726,
                62.996655
               ],
               [
                -81.89182,
                62.998405
               ],
               [
                -81.889687,
                63.003565
               ],
               [
                -81.898465,
                63.006975
               ]
              ]
             ],
             "type": "Polygon"
            },
            "id": "880e327449fffff",
            "properties": {
             "value": 0
            },
            "type": "Feature"
           },
           {
            "geometry": {
             "coordinates": [
              [
               [
                -81.89182,
                62.998405
               ],
               [
                -81.902726,
                62.996655
               ],
               [
                -81.904855,
                62.991495
               ],
               [
                -81.896082,
                62.988085
               ],
               [
                -81.885179,
                62.989834
               ],
               [
                -81.883046,
                62.994994
               ],
               [
                -81.89182,
                62.998405
               ]
              ]
             ],
             "type": "Polygon"
            },
            "id": "880e32744bfffff",
            "properties": {
             "value": 0
            },
            "type": "Feature"
           },
           {
            "geometry": {
             "coordinates": [
              [
               [
                -81.871908,
                62.972692
               ],
               [
                -81.882806,
                62.970943
               ],
               [
                -81.884937,
                62.965783
               ],
               [
                -81.876174,
                62.962371
               ],
               [
                -81.865278,
                62.96412
               ],
               [
                -81.863144,
                62.969279
               ],
               [
                -81.871908,
                62.972692
               ]
              ]
             ],
             "type": "Polygon"
            },
            "id": "880e327453fffff",
            "properties": {
             "value": 0
            },
            "type": "Feature"
           },
           {
            "geometry": {
             "coordinates": [
              [
               [
                -81.970561,
                63.005025
               ],
               [
                -81.981465,
                63.003269
               ],
               [
                -81.983581,
                62.998108
               ],
               [
                -81.974797,
                62.994703
               ],
               [
                -81.963897,
                62.996459
               ],
               [
                -81.961777,
                63.00162
               ],
               [
                -81.970561,
                63.005025
               ]
              ]
             ],
             "type": "Polygon"
            },
            "id": "880e32746dfffff",
            "properties": {
             "value": 0
            },
            "type": "Feature"
           },
           {
            "geometry": {
             "coordinates": [
              [
               [
                -81.871677,
                62.948639
               ],
               [
                -81.882566,
                62.946891
               ],
               [
                -81.884696,
                62.94173
               ],
               [
                -81.875939,
                62.938319
               ],
               [
                -81.865053,
                62.940067
               ],
               [
                -81.86292,
                62.945227
               ],
               [
                -81.871677,
                62.948639
               ]
              ]
             ],
             "type": "Polygon"
            },
            "id": "880e3274cdfffff",
            "properties": {
             "value": 0
            },
            "type": "Feature"
           },
           {
            "geometry": {
             "coordinates": [
              [
               [
                -82.068642,
                62.98919
               ],
               [
                -82.079533,
                62.987427
               ],
               [
                -82.081631,
                62.982264
               ],
               [
                -82.072841,
                62.978865
               ],
               [
                -82.061953,
                62.980628
               ],
               [
                -82.059851,
                62.985791
               ],
               [
                -82.068642,
                62.98919
               ]
              ]
             ],
             "type": "Polygon"
            },
            "id": "880e327501fffff",
            "properties": {
             "value": 0
            },
            "type": "Feature"
           },
           {
            "geometry": {
             "coordinates": [
              [
               [
                -82.061953,
                62.980628
               ],
               [
                -82.072841,
                62.978865
               ],
               [
                -82.07494,
                62.973702
               ],
               [
                -82.066153,
                62.970303
               ],
               [
                -82.055268,
                62.972066
               ],
               [
                -82.053166,
                62.977228
               ],
               [
                -82.061953,
                62.980628
               ]
              ]
             ],
             "type": "Polygon"
            },
            "id": "880e327503fffff",
            "properties": {
             "value": 0
            },
            "type": "Feature"
           },
           {
            "geometry": {
             "coordinates": [
              [
               [
                -82.055646,
                62.996115
               ],
               [
                -82.066541,
                62.994353
               ],
               [
                -82.068642,
                62.98919
               ],
               [
                -82.059851,
                62.985791
               ],
               [
                -82.04896,
                62.987553
               ],
               [
                -82.046856,
                62.992715
               ],
               [
                -82.055646,
                62.996115
               ]
              ]
             ],
             "type": "Polygon"
            },
            "id": "880e327509fffff",
            "properties": {
             "value": 0
            },
            "type": "Feature"
           },
           {
            "geometry": {
             "coordinates": [
              [
               [
                -82.04896,
                62.987553
               ],
               [
                -82.059851,
                62.985791
               ],
               [
                -82.061953,
                62.980628
               ],
               [
                -82.053166,
                62.977228
               ],
               [
                -82.042277,
                62.97899
               ],
               [
                -82.040172,
                62.984152
               ],
               [
                -82.04896,
                62.987553
               ]
              ]
             ],
             "type": "Polygon"
            },
            "id": "880e32750bfffff",
            "properties": {
             "value": 0
            },
            "type": "Feature"
           },
           {
            "geometry": {
             "coordinates": [
              [
               [
                -82.035598,
                62.970426
               ],
               [
                -82.046484,
                62.968665
               ],
               [
                -82.048586,
                62.963503
               ],
               [
                -82.039806,
                62.960102
               ],
               [
                -82.028922,
                62.961862
               ],
               [
                -82.026816,
                62.967024
               ],
               [
                -82.035598,
                62.970426
               ]
              ]
             ],
             "type": "Polygon"
            },
            "id": "880e327511fffff",
            "properties": {
             "value": 0
            },
            "type": "Feature"
           },
           {
            "geometry": {
             "coordinates": [
              [
               [
                -82.028922,
                62.961862
               ],
               [
                -82.039806,
                62.960102
               ],
               [
                -82.041909,
                62.954939
               ],
               [
                -82.033132,
                62.951538
               ],
               [
                -82.022251,
                62.953298
               ],
               [
                -82.020144,
                62.95846
               ],
               [
                -82.028922,
                62.961862
               ]
              ]
             ],
             "type": "Polygon"
            },
            "id": "880e327513fffff",
            "properties": {
             "value": 0
            },
            "type": "Feature"
           },
           {
            "geometry": {
             "coordinates": [
              [
               [
                -82.055268,
                62.972066
               ],
               [
                -82.066153,
                62.970303
               ],
               [
                -82.068252,
                62.965141
               ],
               [
                -82.059469,
                62.961741
               ],
               [
                -82.048586,
                62.963503
               ],
               [
                -82.046484,
                62.968665
               ],
               [
                -82.055268,
                62.972066
               ]
              ]
             ],
             "type": "Polygon"
            },
            "id": "880e327515fffff",
            "properties": {
             "value": 0
            },
            "type": "Feature"
           },
           {
            "geometry": {
             "coordinates": [
              [
               [
                -82.048586,
                62.963503
               ],
               [
                -82.059469,
                62.961741
               ],
               [
                -82.061569,
                62.956578
               ],
               [
                -82.052789,
                62.953178
               ],
               [
                -82.041909,
                62.954939
               ],
               [
                -82.039806,
                62.960102
               ],
               [
                -82.048586,
                62.963503
               ]
              ]
             ],
             "type": "Polygon"
            },
            "id": "880e327517fffff",
            "properties": {
             "value": 0
            },
            "type": "Feature"
           },
           {
            "geometry": {
             "coordinates": [
              [
               [
                -82.022603,
                62.977349
               ],
               [
                -82.033492,
                62.975588
               ],
               [
                -82.035598,
                62.970426
               ],
               [
                -82.026816,
                62.967024
               ],
               [
                -82.015929,
                62.968784
               ],
               [
                -82.013821,
                62.973946
               ],
               [
                -82.022603,
                62.977349
               ]
              ]
             ],
             "type": "Polygon"
            },
            "id": "880e327519fffff",
            "properties": {
             "value": 0
            },
            "type": "Feature"
           },
           {
            "geometry": {
             "coordinates": [
              [
               [
                -82.015929,
                62.968784
               ],
               [
                -82.026816,
                62.967024
               ],
               [
                -82.028922,
                62.961862
               ],
               [
                -82.020144,
                62.95846
               ],
               [
                -82.00926,
                62.960219
               ],
               [
                -82.007151,
                62.965381
               ],
               [
                -82.015929,
                62.968784
               ]
              ]
             ],
             "type": "Polygon"
            },
            "id": "880e32751bfffff",
            "properties": {
             "value": 0
            },
            "type": "Feature"
           },
           {
            "geometry": {
             "coordinates": [
              [
               [
                -82.042277,
                62.97899
               ],
               [
                -82.053166,
                62.977228
               ],
               [
                -82.055268,
                62.972066
               ],
               [
                -82.046484,
                62.968665
               ],
               [
                -82.035598,
                62.970426
               ],
               [
                -82.033492,
                62.975588
               ],
               [
                -82.042277,
                62.97899
               ]
              ]
             ],
             "type": "Polygon"
            },
            "id": "880e32751dfffff",
            "properties": {
             "value": 0
            },
            "type": "Feature"
           },
           {
            "geometry": {
             "coordinates": [
              [
               [
                -82.068252,
                62.965141
               ],
               [
                -82.079135,
                62.963377
               ],
               [
                -82.081231,
                62.958214
               ],
               [
                -82.072449,
                62.954815
               ],
               [
                -82.061569,
                62.956578
               ],
               [
                -82.059469,
                62.961741
               ],
               [
                -82.068252,
                62.965141
               ]
              ]
             ],
             "type": "Polygon"
            },
            "id": "880e32753bfffff",
            "properties": {
             "value": 0
            },
            "type": "Feature"
           },
           {
            "geometry": {
             "coordinates": [
              [
               [
                -82.049334,
                63.011602
               ],
               [
                -82.060234,
                63.00984
               ],
               [
                -82.062337,
                63.004677
               ],
               [
                -82.053543,
                63.001277
               ],
               [
                -82.042645,
                63.003039
               ],
               [
                -82.040539,
                63.008201
               ],
               [
                -82.049334,
                63.011602
               ]
              ]
             ],
             "type": "Polygon"
            },
            "id": "880e327541fffff",
            "properties": {
             "value": 0
            },
            "type": "Feature"
           },
           {
            "geometry": {
             "coordinates": [
              [
               [
                -82.042645,
                63.003039
               ],
               [
                -82.053543,
                63.001277
               ],
               [
                -82.055646,
                62.996115
               ],
               [
                -82.046856,
                62.992715
               ],
               [
                -82.03596,
                62.994476
               ],
               [
                -82.033854,
                62.999638
               ],
               [
                -82.042645,
                63.003039
               ]
              ]
             ],
             "type": "Polygon"
            },
            "id": "880e327543fffff",
            "properties": {
             "value": 0
            },
            "type": "Feature"
           },
           {
            "geometry": {
             "coordinates": [
              [
               [
                -82.069032,
                63.013239
               ],
               [
                -82.079931,
                63.011475
               ],
               [
                -82.082031,
                63.006313
               ],
               [
                -82.073234,
                63.002914
               ],
               [
                -82.062337,
                63.004677
               ],
               [
                -82.060234,
                63.00984
               ],
               [
                -82.069032,
                63.013239
               ]
              ]
             ],
             "type": "Polygon"
            },
            "id": "880e327545fffff",
            "properties": {
             "value": 0
            },
            "type": "Feature"
           },
           {
            "geometry": {
             "coordinates": [
              [
               [
                -82.062337,
                63.004677
               ],
               [
                -82.073234,
                63.002914
               ],
               [
                -82.075334,
                62.997752
               ],
               [
                -82.066541,
                62.994353
               ],
               [
                -82.055646,
                62.996115
               ],
               [
                -82.053543,
                63.001277
               ],
               [
                -82.062337,
                63.004677
               ]
              ]
             ],
             "type": "Polygon"
            },
            "id": "880e327547fffff",
            "properties": {
             "value": 0
            },
            "type": "Feature"
           },
           {
            "geometry": {
             "coordinates": [
              [
               [
                -82.036324,
                63.018525
               ],
               [
                -82.047228,
                63.016764
               ],
               [
                -82.049334,
                63.011602
               ],
               [
                -82.040539,
                63.008201
               ],
               [
                -82.029638,
                63.009962
               ],
               [
                -82.027529,
                63.015124
               ],
               [
                -82.036324,
                63.018525
               ]
              ]
             ],
             "type": "Polygon"
            },
            "id": "880e327549fffff",
            "properties": {
             "value": 0
            },
            "type": "Feature"
           },
           {
            "geometry": {
             "coordinates": [
              [
               [
                -82.029638,
                63.009962
               ],
               [
                -82.040539,
                63.008201
               ],
               [
                -82.042645,
                63.003039
               ],
               [
                -82.033854,
                62.999638
               ],
               [
                -82.022955,
                63.001398
               ],
               [
                -82.020846,
                63.00656
               ],
               [
                -82.029638,
                63.009962
               ]
              ]
             ],
             "type": "Polygon"
            },
            "id": "880e32754bfffff",
            "properties": {
             "value": 0
            },
            "type": "Feature"
           },
           {
            "geometry": {
             "coordinates": [
              [
               [
                -82.056026,
                63.020164
               ],
               [
                -82.066929,
                63.018401
               ],
               [
                -82.069032,
                63.013239
               ],
               [
                -82.060234,
                63.00984
               ],
               [
                -82.049334,
                63.011602
               ],
               [
                -82.047228,
                63.016764
               ],
               [
                -82.056026,
                63.020164
               ]
              ]
             ],
             "type": "Polygon"
            },
            "id": "880e32754dfffff",
            "properties": {
             "value": 0
            },
            "type": "Feature"
           },
           {
            "geometry": {
             "coordinates": [
              [
               [
                -82.016276,
                62.992834
               ],
               [
                -82.027172,
                62.991074
               ],
               [
                -82.02928,
                62.985913
               ],
               [
                -82.020495,
                62.98251
               ],
               [
                -82.009601,
                62.98427
               ],
               [
                -82.007491,
                62.989431
               ],
               [
                -82.016276,
                62.992834
               ]
              ]
             ],
             "type": "Polygon"
            },
            "id": "880e327551fffff",
            "properties": {
             "value": 0
            },
            "type": "Feature"
           },
           {
            "geometry": {
             "coordinates": [
              [
               [
                -82.009601,
                62.98427
               ],
               [
                -82.020495,
                62.98251
               ],
               [
                -82.022603,
                62.977349
               ],
               [
                -82.013821,
                62.973946
               ],
               [
                -82.00293,
                62.975705
               ],
               [
                -82.000819,
                62.980866
               ],
               [
                -82.009601,
                62.98427
               ]
              ]
             ],
             "type": "Polygon"
            },
            "id": "880e327553fffff",
            "properties": {
             "value": 0
            },
            "type": "Feature"
           },
           {
            "geometry": {
             "coordinates": [
              [
               [
                -82.03596,
                62.994476
               ],
               [
                -82.046856,
                62.992715
               ],
               [
                -82.04896,
                62.987553
               ],
               [
                -82.040172,
                62.984152
               ],
               [
                -82.02928,
                62.985913
               ],
               [
                -82.027172,
                62.991074
               ],
               [
                -82.03596,
                62.994476
               ]
              ]
             ],
             "type": "Polygon"
            },
            "id": "880e327555fffff",
            "properties": {
             "value": 0
            },
            "type": "Feature"
           },
           {
            "geometry": {
             "coordinates": [
              [
               [
                -82.02928,
                62.985913
               ],
               [
                -82.040172,
                62.984152
               ],
               [
                -82.042277,
                62.97899
               ],
               [
                -82.033492,
                62.975588
               ],
               [
                -82.022603,
                62.977349
               ],
               [
                -82.020495,
                62.98251
               ],
               [
                -82.02928,
                62.985913
               ]
              ]
             ],
             "type": "Polygon"
            },
            "id": "880e327557fffff",
            "properties": {
             "value": 0
            },
            "type": "Feature"
           },
           {
            "geometry": {
             "coordinates": [
              [
               [
                -82.003267,
                62.999754
               ],
               [
                -82.014166,
                62.997996
               ],
               [
                -82.016276,
                62.992834
               ],
               [
                -82.007491,
                62.989431
               ],
               [
                -81.996594,
                62.991189
               ],
               [
                -81.994481,
                62.996351
               ],
               [
                -82.003267,
                62.999754
               ]
              ]
             ],
             "type": "Polygon"
            },
            "id": "880e327559fffff",
            "properties": {
             "value": 0
            },
            "type": "Feature"
           },
           {
            "geometry": {
             "coordinates": [
              [
               [
                -81.996594,
                62.991189
               ],
               [
                -82.007491,
                62.989431
               ],
               [
                -82.009601,
                62.98427
               ],
               [
                -82.000819,
                62.980866
               ],
               [
                -81.989925,
                62.982624
               ],
               [
                -81.987811,
                62.987785
               ],
               [
                -81.996594,
                62.991189
               ]
              ]
             ],
             "type": "Polygon"
            },
            "id": "880e32755bfffff",
            "properties": {
             "value": 0
            },
            "type": "Feature"
           },
           {
            "geometry": {
             "coordinates": [
              [
               [
                -82.022955,
                63.001398
               ],
               [
                -82.033854,
                62.999638
               ],
               [
                -82.03596,
                62.994476
               ],
               [
                -82.027172,
                62.991074
               ],
               [
                -82.016276,
                62.992834
               ],
               [
                -82.014166,
                62.997996
               ],
               [
                -82.022955,
                63.001398
               ]
              ]
             ],
             "type": "Polygon"
            },
            "id": "880e32755dfffff",
            "properties": {
             "value": 0
            },
            "type": "Feature"
           },
           {
            "geometry": {
             "coordinates": [
              [
               [
                -82.088731,
                63.014873
               ],
               [
                -82.09963,
                63.013108
               ],
               [
                -82.101727,
                63.007945
               ],
               [
                -82.092927,
                63.004548
               ],
               [
                -82.082031,
                63.006313
               ],
               [
                -82.079931,
                63.011475
               ],
               [
                -82.088731,
                63.014873
               ]
              ]
             ],
             "type": "Polygon"
            },
            "id": "880e327569fffff",
            "properties": {
             "value": 0
            },
            "type": "Feature"
           },
           {
            "geometry": {
             "coordinates": [
              [
               [
                -82.082031,
                63.006313
               ],
               [
                -82.092927,
                63.004548
               ],
               [
                -82.095024,
                62.999385
               ],
               [
                -82.086228,
                62.995988
               ],
               [
                -82.075334,
                62.997752
               ],
               [
                -82.073234,
                63.002914
               ],
               [
                -82.082031,
                63.006313
               ]
              ]
             ],
             "type": "Polygon"
            },
            "id": "880e32756bfffff",
            "properties": {
             "value": 0
            },
            "type": "Feature"
           },
           {
            "geometry": {
             "coordinates": [
              [
               [
                -82.108433,
                63.016505
               ],
               [
                -82.119331,
                63.014738
               ],
               [
                -82.121424,
                63.009575
               ],
               [
                -82.112622,
                63.006179
               ],
               [
                -82.101727,
                63.007945
               ],
               [
                -82.09963,
                63.013108
               ],
               [
                -82.108433,
                63.016505
               ]
              ]
             ],
             "type": "Polygon"
            },
            "id": "880e32756dfffff",
            "properties": {
             "value": 0
            },
            "type": "Feature"
           },
           {
            "geometry": {
             "coordinates": [
              [
               [
                -82.002594,
                62.951654
               ],
               [
                -82.013476,
                62.949895
               ],
               [
                -82.015583,
                62.944733
               ],
               [
                -82.006811,
                62.94133
               ],
               [
                -81.995932,
                62.943088
               ],
               [
                -81.993822,
                62.94825
               ],
               [
                -82.002594,
                62.951654
               ]
              ]
             ],
             "type": "Polygon"
            },
            "id": "880e3275c1fffff",
            "properties": {
             "value": 0
            },
            "type": "Feature"
           },
           {
            "geometry": {
             "coordinates": [
              [
               [
                -82.022251,
                62.953298
               ],
               [
                -82.033132,
                62.951538
               ],
               [
                -82.035235,
                62.946376
               ],
               [
                -82.026461,
                62.942974
               ],
               [
                -82.015583,
                62.944733
               ],
               [
                -82.013476,
                62.949895
               ],
               [
                -82.022251,
                62.953298
               ]
              ]
             ],
             "type": "Polygon"
            },
            "id": "880e3275c5fffff",
            "properties": {
             "value": 0
            },
            "type": "Feature"
           },
           {
            "geometry": {
             "coordinates": [
              [
               [
                -82.00926,
                62.960219
               ],
               [
                -82.020144,
                62.95846
               ],
               [
                -82.022251,
                62.953298
               ],
               [
                -82.013476,
                62.949895
               ],
               [
                -82.002594,
                62.951654
               ],
               [
                -82.000484,
                62.956816
               ],
               [
                -82.00926,
                62.960219
               ]
              ]
             ],
             "type": "Polygon"
            },
            "id": "880e3275cdfffff",
            "properties": {
             "value": 0
            },
            "type": "Feature"
           },
           {
            "geometry": {
             "coordinates": [
              [
               [
                -82.041909,
                62.954939
               ],
               [
                -82.052789,
                62.953178
               ],
               [
                -82.054889,
                62.948015
               ],
               [
                -82.046113,
                62.944615
               ],
               [
                -82.035235,
                62.946376
               ],
               [
                -82.033132,
                62.951538
               ],
               [
                -82.041909,
                62.954939
               ]
              ]
             ],
             "type": "Polygon"
            },
            "id": "880e3275e9fffff",
            "properties": {
             "value": 0
            },
            "type": "Feature"
           },
           {
            "geometry": {
             "coordinates": [
              [
               [
                -81.839616,
                63.026034
               ],
               [
                -81.850536,
                63.024288
               ],
               [
                -81.852676,
                63.019129
               ],
               [
                -81.843901,
                63.015716
               ],
               [
                -81.832984,
                63.017462
               ],
               [
                -81.83084,
                63.022621
               ],
               [
                -81.839616,
                63.026034
               ]
              ]
             ],
             "type": "Polygon"
            },
            "id": "880e327601fffff",
            "properties": {
             "value": 0
            },
            "type": "Feature"
           },
           {
            "geometry": {
             "coordinates": [
              [
               [
                -81.832984,
                63.017462
               ],
               [
                -81.843901,
                63.015716
               ],
               [
                -81.846042,
                63.010557
               ],
               [
                -81.837269,
                63.007143
               ],
               [
                -81.826355,
                63.008888
               ],
               [
                -81.824211,
                63.014047
               ],
               [
                -81.832984,
                63.017462
               ]
              ]
             ],
             "type": "Polygon"
            },
            "id": "880e327603fffff",
            "properties": {
             "value": 0
            },
            "type": "Feature"
           },
           {
            "geometry": {
             "coordinates": [
              [
               [
                -81.859315,
                63.027701
               ],
               [
                -81.870233,
                63.025953
               ],
               [
                -81.872371,
                63.020793
               ],
               [
                -81.863592,
                63.017382
               ],
               [
                -81.852676,
                63.019129
               ],
               [
                -81.850536,
                63.024288
               ],
               [
                -81.859315,
                63.027701
               ]
              ]
             ],
             "type": "Polygon"
            },
            "id": "880e327605fffff",
            "properties": {
             "value": 0
            },
            "type": "Feature"
           },
           {
            "geometry": {
             "coordinates": [
              [
               [
                -81.852676,
                63.019129
               ],
               [
                -81.863592,
                63.017382
               ],
               [
                -81.86573,
                63.012222
               ],
               [
                -81.856955,
                63.00881
               ],
               [
                -81.846042,
                63.010557
               ],
               [
                -81.843901,
                63.015716
               ],
               [
                -81.852676,
                63.019129
               ]
              ]
             ],
             "type": "Polygon"
            },
            "id": "880e327607fffff",
            "properties": {
             "value": 0
            },
            "type": "Feature"
           },
           {
            "geometry": {
             "coordinates": [
              [
               [
                -81.81992,
                63.024365
               ],
               [
                -81.83084,
                63.022621
               ],
               [
                -81.832984,
                63.017462
               ],
               [
                -81.824211,
                63.014047
               ],
               [
                -81.813293,
                63.015791
               ],
               [
                -81.811146,
                63.02095
               ],
               [
                -81.81992,
                63.024365
               ]
              ]
             ],
             "type": "Polygon"
            },
            "id": "880e32760bfffff",
            "properties": {
             "value": 0
            },
            "type": "Feature"
           },
           {
            "geometry": {
             "coordinates": [
              [
               [
                -81.846252,
                63.034607
               ],
               [
                -81.857175,
                63.03286
               ],
               [
                -81.859315,
                63.027701
               ],
               [
                -81.850536,
                63.024288
               ],
               [
                -81.839616,
                63.026034
               ],
               [
                -81.837473,
                63.031193
               ],
               [
                -81.846252,
                63.034607
               ]
              ]
             ],
             "type": "Polygon"
            },
            "id": "880e32760dfffff",
            "properties": {
             "value": 0
            },
            "type": "Feature"
           },
           {
            "geometry": {
             "coordinates": [
              [
               [
                -81.826355,
                63.008888
               ],
               [
                -81.837269,
                63.007143
               ],
               [
                -81.839411,
                63.001984
               ],
               [
                -81.830642,
                62.99857
               ],
               [
                -81.81973,
                63.000314
               ],
               [
                -81.817585,
                63.005474
               ],
               [
                -81.826355,
                63.008888
               ]
              ]
             ],
             "type": "Polygon"
            },
            "id": "880e327615fffff",
            "properties": {
             "value": 0
            },
            "type": "Feature"
           },
           {
            "geometry": {
             "coordinates": [
              [
               [
                -81.793605,
                63.014119
               ],
               [
                -81.804523,
                63.012376
               ],
               [
                -81.80667,
                63.007217
               ],
               [
                -81.797903,
                63.003801
               ],
               [
                -81.786988,
                63.005543
               ],
               [
                -81.784837,
                63.010702
               ],
               [
                -81.793605,
                63.014119
               ]
              ]
             ],
             "type": "Polygon"
            },
            "id": "880e327619fffff",
            "properties": {
             "value": 0
            },
            "type": "Feature"
           },
           {
            "geometry": {
             "coordinates": [
              [
               [
                -81.786988,
                63.005543
               ],
               [
                -81.797903,
                63.003801
               ],
               [
                -81.800052,
                62.998642
               ],
               [
                -81.791288,
                62.995226
               ],
               [
                -81.780375,
                62.996968
               ],
               [
                -81.778223,
                63.002126
               ],
               [
                -81.786988,
                63.005543
               ]
              ]
             ],
             "type": "Polygon"
            },
            "id": "880e32761bfffff",
            "properties": {
             "value": 0
            },
            "type": "Feature"
           },
           {
            "geometry": {
             "coordinates": [
              [
               [
                -81.813293,
                63.015791
               ],
               [
                -81.824211,
                63.014047
               ],
               [
                -81.826355,
                63.008888
               ],
               [
                -81.817585,
                63.005474
               ],
               [
                -81.80667,
                63.007217
               ],
               [
                -81.804523,
                63.012376
               ],
               [
                -81.813293,
                63.015791
               ]
              ]
             ],
             "type": "Polygon"
            },
            "id": "880e32761dfffff",
            "properties": {
             "value": 0
            },
            "type": "Feature"
           },
           {
            "geometry": {
             "coordinates": [
              [
               [
                -81.892067,
                63.022455
               ],
               [
                -81.902982,
                63.020705
               ],
               [
                -81.905113,
                63.015545
               ],
               [
                -81.896333,
                63.012135
               ],
               [
                -81.885421,
                63.013885
               ],
               [
                -81.883286,
                63.019045
               ],
               [
                -81.892067,
                63.022455
               ]
              ]
             ],
             "type": "Polygon"
            },
            "id": "880e327621fffff",
            "properties": {
             "value": 0
            },
            "type": "Feature"
           },
           {
            "geometry": {
             "coordinates": [
              [
               [
                -81.911766,
                63.024114
               ],
               [
                -81.92268,
                63.022362
               ],
               [
                -81.924807,
                63.017202
               ],
               [
                -81.916025,
                63.013794
               ],
               [
                -81.905113,
                63.015545
               ],
               [
                -81.902982,
                63.020705
               ],
               [
                -81.911766,
                63.024114
               ]
              ]
             ],
             "type": "Polygon"
            },
            "id": "880e327625fffff",
            "properties": {
             "value": 0
            },
            "type": "Feature"
           },
           {
            "geometry": {
             "coordinates": [
              [
               [
                -81.905113,
                63.015545
               ],
               [
                -81.916025,
                63.013794
               ],
               [
                -81.918153,
                63.008633
               ],
               [
                -81.909373,
                63.005224
               ],
               [
                -81.898465,
                63.006975
               ],
               [
                -81.896333,
                63.012135
               ],
               [
                -81.905113,
                63.015545
               ]
              ]
             ],
             "type": "Polygon"
            },
            "id": "880e327627fffff",
            "properties": {
             "value": 0
            },
            "type": "Feature"
           },
           {
            "geometry": {
             "coordinates": [
              [
               [
                -81.879015,
                63.029364
               ],
               [
                -81.889933,
                63.027615
               ],
               [
                -81.892067,
                63.022455
               ],
               [
                -81.883286,
                63.019045
               ],
               [
                -81.872371,
                63.020793
               ],
               [
                -81.870233,
                63.025953
               ],
               [
                -81.879015,
                63.029364
               ]
              ]
             ],
             "type": "Polygon"
            },
            "id": "880e327629fffff",
            "properties": {
             "value": 0
            },
            "type": "Feature"
           },
           {
            "geometry": {
             "coordinates": [
              [
               [
                -81.872371,
                63.020793
               ],
               [
                -81.883286,
                63.019045
               ],
               [
                -81.885421,
                63.013885
               ],
               [
                -81.876643,
                63.010474
               ],
               [
                -81.86573,
                63.012222
               ],
               [
                -81.863592,
                63.017382
               ],
               [
                -81.872371,
                63.020793
               ]
              ]
             ],
             "type": "Polygon"
            },
            "id": "880e32762bfffff",
            "properties": {
             "value": 0
            },
            "type": "Feature"
           },
           {
            "geometry": {
             "coordinates": [
              [
               [
                -81.898717,
                63.031025
               ],
               [
                -81.909635,
                63.029274
               ],
               [
                -81.911766,
                63.024114
               ],
               [
                -81.902982,
                63.020705
               ],
               [
                -81.892067,
                63.022455
               ],
               [
                -81.889933,
                63.027615
               ],
               [
                -81.898717,
                63.031025
               ]
              ]
             ],
             "type": "Polygon"
            },
            "id": "880e32762dfffff",
            "properties": {
             "value": 0
            },
            "type": "Feature"
           },
           {
            "geometry": {
             "coordinates": [
              [
               [
                -81.859093,
                63.00365
               ],
               [
                -81.870004,
                63.001903
               ],
               [
                -81.872139,
                62.996743
               ],
               [
                -81.863368,
                62.993331
               ],
               [
                -81.852461,
                62.995078
               ],
               [
                -81.850322,
                63.000238
               ],
               [
                -81.859093,
                63.00365
               ]
              ]
             ],
             "type": "Polygon"
            },
            "id": "880e327631fffff",
            "properties": {
             "value": 0
            },
            "type": "Feature"
           },
           {
            "geometry": {
             "coordinates": [
              [
               [
                -81.852461,
                62.995078
               ],
               [
                -81.863368,
                62.993331
               ],
               [
                -81.865504,
                62.988171
               ],
               [
                -81.856736,
                62.984759
               ],
               [
                -81.845831,
                62.986505
               ],
               [
                -81.843692,
                62.991665
               ],
               [
                -81.852461,
                62.995078
               ]
              ]
             ],
             "type": "Polygon"
            },
            "id": "880e327633fffff",
            "properties": {
             "value": 0
            },
            "type": "Feature"
           },
           {
            "geometry": {
             "coordinates": [
              [
               [
                -81.872139,
                62.996743
               ],
               [
                -81.883046,
                62.994994
               ],
               [
                -81.885179,
                62.989834
               ],
               [
                -81.876408,
                62.986423
               ],
               [
                -81.865504,
                62.988171
               ],
               [
                -81.863368,
                62.993331
               ],
               [
                -81.872139,
                62.996743
               ]
              ]
             ],
             "type": "Polygon"
            },
            "id": "880e327637fffff",
            "properties": {
             "value": 0
            },
            "type": "Feature"
           },
           {
            "geometry": {
             "coordinates": [
              [
               [
                -81.846042,
                63.010557
               ],
               [
                -81.856955,
                63.00881
               ],
               [
                -81.859093,
                63.00365
               ],
               [
                -81.850322,
                63.000238
               ],
               [
                -81.839411,
                63.001984
               ],
               [
                -81.837269,
                63.007143
               ],
               [
                -81.846042,
                63.010557
               ]
              ]
             ],
             "type": "Polygon"
            },
            "id": "880e327639fffff",
            "properties": {
             "value": 0
            },
            "type": "Feature"
           },
           {
            "geometry": {
             "coordinates": [
              [
               [
                -81.839411,
                63.001984
               ],
               [
                -81.850322,
                63.000238
               ],
               [
                -81.852461,
                62.995078
               ],
               [
                -81.843692,
                62.991665
               ],
               [
                -81.832784,
                62.993411
               ],
               [
                -81.830642,
                62.99857
               ],
               [
                -81.839411,
                63.001984
               ]
              ]
             ],
             "type": "Polygon"
            },
            "id": "880e32763bfffff",
            "properties": {
             "value": 0
            },
            "type": "Feature"
           },
           {
            "geometry": {
             "coordinates": [
              [
               [
                -81.86573,
                63.012222
               ],
               [
                -81.876643,
                63.010474
               ],
               [
                -81.878778,
                63.005314
               ],
               [
                -81.870004,
                63.001903
               ],
               [
                -81.859093,
                63.00365
               ],
               [
                -81.856955,
                63.00881
               ],
               [
                -81.86573,
                63.012222
               ]
              ]
             ],
             "type": "Polygon"
            },
            "id": "880e32763dfffff",
            "properties": {
             "value": 0
            },
            "type": "Feature"
           },
           {
            "geometry": {
             "coordinates": [
              [
               [
                -81.872603,
                63.044843
               ],
               [
                -81.883527,
                63.043094
               ],
               [
                -81.885663,
                63.037935
               ],
               [
                -81.876878,
                63.034524
               ],
               [
                -81.865957,
                63.036272
               ],
               [
                -81.863817,
                63.041431
               ],
               [
                -81.872603,
                63.044843
               ]
              ]
             ],
             "type": "Polygon"
            },
            "id": "880e327661fffff",
            "properties": {
             "value": 0
            },
            "type": "Feature"
           },
           {
            "geometry": {
             "coordinates": [
              [
               [
                -81.865957,
                63.036272
               ],
               [
                -81.876878,
                63.034524
               ],
               [
                -81.879015,
                63.029364
               ],
               [
                -81.870233,
                63.025953
               ],
               [
                -81.859315,
                63.027701
               ],
               [
                -81.857175,
                63.03286
               ],
               [
                -81.865957,
                63.036272
               ]
              ]
             ],
             "type": "Polygon"
            },
            "id": "880e327663fffff",
            "properties": {
             "value": 0
            },
            "type": "Feature"
           },
           {
            "geometry": {
             "coordinates": [
              [
               [
                -81.859536,
                63.05175
               ],
               [
                -81.870464,
                63.050002
               ],
               [
                -81.872603,
                63.044843
               ],
               [
                -81.863817,
                63.041431
               ],
               [
                -81.852892,
                63.043179
               ],
               [
                -81.85075,
                63.048338
               ],
               [
                -81.859536,
                63.05175
               ]
              ]
             ],
             "type": "Polygon"
            },
            "id": "880e327669fffff",
            "properties": {
             "value": 0
            },
            "type": "Feature"
           },
           {
            "geometry": {
             "coordinates": [
              [
               [
                -81.852892,
                63.043179
               ],
               [
                -81.863817,
                63.041431
               ],
               [
                -81.865957,
                63.036272
               ],
               [
                -81.857175,
                63.03286
               ],
               [
                -81.846252,
                63.034607
               ],
               [
                -81.844109,
                63.039766
               ],
               [
                -81.852892,
                63.043179
               ]
              ]
             ],
             "type": "Polygon"
            },
            "id": "880e32766bfffff",
            "properties": {
             "value": 0
            },
            "type": "Feature"
           },
           {
            "geometry": {
             "coordinates": [
              [
               [
                -81.879252,
                63.053413
               ],
               [
                -81.890179,
                63.051664
               ],
               [
                -81.892315,
                63.046504
               ],
               [
                -81.883527,
                63.043094
               ],
               [
                -81.872603,
                63.044843
               ],
               [
                -81.870464,
                63.050002
               ],
               [
                -81.879252,
                63.053413
               ]
              ]
             ],
             "type": "Polygon"
            },
            "id": "880e32766dfffff",
            "properties": {
             "value": 0
            },
            "type": "Feature"
           },
           {
            "geometry": {
             "coordinates": [
              [
               [
                -81.845621,
                62.962454
               ],
               [
                -81.856517,
                62.960707
               ],
               [
                -81.858652,
                62.955547
               ],
               [
                -81.849895,
                62.952134
               ],
               [
                -81.839001,
                62.95388
               ],
               [
                -81.836863,
                62.95904
               ],
               [
                -81.845621,
                62.962454
               ]
              ]
             ],
             "type": "Polygon"
            },
            "id": "880e3276a1fffff",
            "properties": {
             "value": 0
            },
            "type": "Feature"
           },
           {
            "geometry": {
             "coordinates": [
              [
               [
                -81.839001,
                62.95388
               ],
               [
                -81.849895,
                62.952134
               ],
               [
                -81.85203,
                62.946974
               ],
               [
                -81.843276,
                62.943561
               ],
               [
                -81.832385,
                62.945306
               ],
               [
                -81.830246,
                62.950466
               ],
               [
                -81.839001,
                62.95388
               ]
              ]
             ],
             "type": "Polygon"
            },
            "id": "880e3276a3fffff",
            "properties": {
             "value": 0
            },
            "type": "Feature"
           },
           {
            "geometry": {
             "coordinates": [
              [
               [
                -81.865278,
                62.96412
               ],
               [
                -81.876174,
                62.962371
               ],
               [
                -81.878305,
                62.957211
               ],
               [
                -81.869545,
                62.953799
               ],
               [
                -81.858652,
                62.955547
               ],
               [
                -81.856517,
                62.960707
               ],
               [
                -81.865278,
                62.96412
               ]
              ]
             ],
             "type": "Polygon"
            },
            "id": "880e3276a5fffff",
            "properties": {
             "value": 0
            },
            "type": "Feature"
           },
           {
            "geometry": {
             "coordinates": [
              [
               [
                -81.858652,
                62.955547
               ],
               [
                -81.869545,
                62.953799
               ],
               [
                -81.871677,
                62.948639
               ],
               [
                -81.86292,
                62.945227
               ],
               [
                -81.85203,
                62.946974
               ],
               [
                -81.849895,
                62.952134
               ],
               [
                -81.858652,
                62.955547
               ]
              ]
             ],
             "type": "Polygon"
            },
            "id": "880e3276a7fffff",
            "properties": {
             "value": 0
            },
            "type": "Feature"
           },
           {
            "geometry": {
             "coordinates": [
              [
               [
                -81.832584,
                62.969359
               ],
               [
                -81.843484,
                62.967613
               ],
               [
                -81.845621,
                62.962454
               ],
               [
                -81.836863,
                62.95904
               ],
               [
                -81.825967,
                62.960785
               ],
               [
                -81.823826,
                62.965944
               ],
               [
                -81.832584,
                62.969359
               ]
              ]
             ],
             "type": "Polygon"
            },
            "id": "880e3276a9fffff",
            "properties": {
             "value": 0
            },
            "type": "Feature"
           },
           {
            "geometry": {
             "coordinates": [
              [
               [
                -81.825967,
                62.960785
               ],
               [
                -81.836863,
                62.95904
               ],
               [
                -81.839001,
                62.95388
               ],
               [
                -81.830246,
                62.950466
               ],
               [
                -81.819353,
                62.95221
               ],
               [
                -81.817211,
                62.95737
               ],
               [
                -81.825967,
                62.960785
               ]
              ]
             ],
             "type": "Polygon"
            },
            "id": "880e3276abfffff",
            "properties": {
             "value": 0
            },
            "type": "Feature"
           },
           {
            "geometry": {
             "coordinates": [
              [
               [
                -81.852245,
                62.971027
               ],
               [
                -81.863144,
                62.969279
               ],
               [
                -81.865278,
                62.96412
               ],
               [
                -81.856517,
                62.960707
               ],
               [
                -81.845621,
                62.962454
               ],
               [
                -81.843484,
                62.967613
               ],
               [
                -81.852245,
                62.971027
               ]
              ]
             ],
             "type": "Polygon"
            },
            "id": "880e3276adfffff",
            "properties": {
             "value": 0
            },
            "type": "Feature"
           },
           {
            "geometry": {
             "coordinates": [
              [
               [
                -81.799706,
                62.950538
               ],
               [
                -81.8106,
                62.948795
               ],
               [
                -81.812742,
                62.943635
               ],
               [
                -81.803993,
                62.940219
               ],
               [
                -81.793101,
                62.941962
               ],
               [
                -81.790956,
                62.947121
               ],
               [
                -81.799706,
                62.950538
               ]
              ]
             ],
             "type": "Polygon"
            },
            "id": "880e3276b9fffff",
            "properties": {
             "value": 0
            },
            "type": "Feature"
           },
           {
            "geometry": {
             "coordinates": [
              [
               [
                -81.793101,
                62.941962
               ],
               [
                -81.803993,
                62.940219
               ],
               [
                -81.806136,
                62.93506
               ],
               [
                -81.79739,
                62.931643
               ],
               [
                -81.786501,
                62.933385
               ],
               [
                -81.784355,
                62.938544
               ],
               [
                -81.793101,
                62.941962
               ]
              ]
             ],
             "type": "Polygon"
            },
            "id": "880e3276bbfffff",
            "properties": {
             "value": 0
            },
            "type": "Feature"
           },
           {
            "geometry": {
             "coordinates": [
              [
               [
                -81.819353,
                62.95221
               ],
               [
                -81.830246,
                62.950466
               ],
               [
                -81.832385,
                62.945306
               ],
               [
                -81.823633,
                62.941891
               ],
               [
                -81.812742,
                62.943635
               ],
               [
                -81.8106,
                62.948795
               ],
               [
                -81.819353,
                62.95221
               ]
              ]
             ],
             "type": "Polygon"
            },
            "id": "880e3276bdfffff",
            "properties": {
             "value": 0
            },
            "type": "Feature"
           },
           {
            "geometry": {
             "coordinates": [
              [
               [
                -81.7607,
                62.99529
               ],
               [
                -81.771614,
                62.99355
               ],
               [
                -81.773766,
                62.988391
               ],
               [
                -81.765008,
                62.984973
               ],
               [
                -81.754097,
                62.986713
               ],
               [
                -81.751941,
                62.991871
               ],
               [
                -81.7607,
                62.99529
               ]
              ]
             ],
             "type": "Polygon"
            },
            "id": "880e3276c9fffff",
            "properties": {
             "value": 0
            },
            "type": "Feature"
           },
           {
            "geometry": {
             "coordinates": [
              [
               [
                -81.754097,
                62.986713
               ],
               [
                -81.765008,
                62.984973
               ],
               [
                -81.76716,
                62.979815
               ],
               [
                -81.758405,
                62.976396
               ],
               [
                -81.747497,
                62.978135
               ],
               [
                -81.745341,
                62.983293
               ],
               [
                -81.754097,
                62.986713
               ]
              ]
             ],
             "type": "Polygon"
            },
            "id": "880e3276cbfffff",
            "properties": {
             "value": 0
            },
            "type": "Feature"
           },
           {
            "geometry": {
             "coordinates": [
              [
               [
                -81.727837,
                62.976453
               ],
               [
                -81.738745,
                62.974715
               ],
               [
                -81.740902,
                62.969557
               ],
               [
                -81.732153,
                62.966137
               ],
               [
                -81.721247,
                62.967874
               ],
               [
                -81.719087,
                62.973032
               ],
               [
                -81.727837,
                62.976453
               ]
              ]
             ],
             "type": "Polygon"
            },
            "id": "880e3276d9fffff",
            "properties": {
             "value": 0
            },
            "type": "Feature"
           },
           {
            "geometry": {
             "coordinates": [
              [
               [
                -81.721247,
                62.967874
               ],
               [
                -81.732153,
                62.966137
               ],
               [
                -81.73431,
                62.960979
               ],
               [
                -81.725564,
                62.957558
               ],
               [
                -81.714661,
                62.959294
               ],
               [
                -81.7125,
                62.964452
               ],
               [
                -81.721247,
                62.967874
               ]
              ]
             ],
             "type": "Polygon"
            },
            "id": "880e3276dbfffff",
            "properties": {
             "value": 0
            },
            "type": "Feature"
           },
           {
            "geometry": {
             "coordinates": [
              [
               [
                -81.747497,
                62.978135
               ],
               [
                -81.758405,
                62.976396
               ],
               [
                -81.760559,
                62.971238
               ],
               [
                -81.751807,
                62.967818
               ],
               [
                -81.740902,
                62.969557
               ],
               [
                -81.738745,
                62.974715
               ],
               [
                -81.747497,
                62.978135
               ]
              ]
             ],
             "type": "Polygon"
            },
            "id": "880e3276ddfffff",
            "properties": {
             "value": 0
            },
            "type": "Feature"
           },
           {
            "geometry": {
             "coordinates": [
              [
               [
                -81.826161,
                62.984837
               ],
               [
                -81.837066,
                62.983092
               ],
               [
                -81.839206,
                62.977932
               ],
               [
                -81.830444,
                62.974518
               ],
               [
                -81.819541,
                62.976263
               ],
               [
                -81.817398,
                62.981422
               ],
               [
                -81.826161,
                62.984837
               ]
              ]
             ],
             "type": "Polygon"
            },
            "id": "880e3276e1fffff",
            "properties": {
             "value": 0
            },
            "type": "Feature"
           },
           {
            "geometry": {
             "coordinates": [
              [
               [
                -81.819541,
                62.976263
               ],
               [
                -81.830444,
                62.974518
               ],
               [
                -81.832584,
                62.969359
               ],
               [
                -81.823826,
                62.965944
               ],
               [
                -81.812926,
                62.967688
               ],
               [
                -81.810782,
                62.972847
               ],
               [
                -81.819541,
                62.976263
               ]
              ]
             ],
             "type": "Polygon"
            },
            "id": "880e3276e3fffff",
            "properties": {
             "value": 0
            },
            "type": "Feature"
           },
           {
            "geometry": {
             "coordinates": [
              [
               [
                -81.845831,
                62.986505
               ],
               [
                -81.856736,
                62.984759
               ],
               [
                -81.858873,
                62.979599
               ],
               [
                -81.850108,
                62.976186
               ],
               [
                -81.839206,
                62.977932
               ],
               [
                -81.837066,
                62.983092
               ],
               [
                -81.845831,
                62.986505
               ]
              ]
             ],
             "type": "Polygon"
            },
            "id": "880e3276e5fffff",
            "properties": {
             "value": 0
            },
            "type": "Feature"
           },
           {
            "geometry": {
             "coordinates": [
              [
               [
                -81.839206,
                62.977932
               ],
               [
                -81.850108,
                62.976186
               ],
               [
                -81.852245,
                62.971027
               ],
               [
                -81.843484,
                62.967613
               ],
               [
                -81.832584,
                62.969359
               ],
               [
                -81.830444,
                62.974518
               ],
               [
                -81.839206,
                62.977932
               ]
              ]
             ],
             "type": "Polygon"
            },
            "id": "880e3276e7fffff",
            "properties": {
             "value": 0
            },
            "type": "Feature"
           },
           {
            "geometry": {
             "coordinates": [
              [
               [
                -81.977546,
                63.03764
               ],
               [
                -81.988461,
                63.035884
               ],
               [
                -81.990578,
                63.030723
               ],
               [
                -81.981784,
                63.027318
               ],
               [
                -81.970872,
                63.029075
               ],
               [
                -81.968752,
                63.034236
               ],
               [
                -81.977546,
                63.03764
               ]
              ]
             ],
             "type": "Polygon"
            },
            "id": "880e327701fffff",
            "properties": {
             "value": 0
            },
            "type": "Feature"
           },
           {
            "geometry": {
             "coordinates": [
              [
               [
                -81.970872,
                63.029075
               ],
               [
                -81.981784,
                63.027318
               ],
               [
                -81.983902,
                63.022157
               ],
               [
                -81.975111,
                63.018753
               ],
               [
                -81.964202,
                63.020508
               ],
               [
                -81.962081,
                63.025669
               ],
               [
                -81.970872,
                63.029075
               ]
              ]
             ],
             "type": "Polygon"
            },
            "id": "880e327703fffff",
            "properties": {
             "value": 0
            },
            "type": "Feature"
           },
           {
            "geometry": {
             "coordinates": [
              [
               [
                -81.997258,
                63.039287
               ],
               [
                -82.008172,
                63.037529
               ],
               [
                -82.010286,
                63.032368
               ],
               [
                -82.00149,
                63.028965
               ],
               [
                -81.990578,
                63.030723
               ],
               [
                -81.988461,
                63.035884
               ],
               [
                -81.997258,
                63.039287
               ]
              ]
             ],
             "type": "Polygon"
            },
            "id": "880e327705fffff",
            "properties": {
             "value": 0
            },
            "type": "Feature"
           },
           {
            "geometry": {
             "coordinates": [
              [
               [
                -81.990578,
                63.030723
               ],
               [
                -82.00149,
                63.028965
               ],
               [
                -82.003604,
                63.023804
               ],
               [
                -81.994811,
                63.0204
               ],
               [
                -81.983902,
                63.022157
               ],
               [
                -81.981784,
                63.027318
               ],
               [
                -81.990578,
                63.030723
               ]
              ]
             ],
             "type": "Polygon"
            },
            "id": "880e327707fffff",
            "properties": {
             "value": 0
            },
            "type": "Feature"
           },
           {
            "geometry": {
             "coordinates": [
              [
               [
                -81.964508,
                63.044557
               ],
               [
                -81.975426,
                63.042801
               ],
               [
                -81.977546,
                63.03764
               ],
               [
                -81.968752,
                63.034236
               ],
               [
                -81.957836,
                63.035991
               ],
               [
                -81.955713,
                63.041151
               ],
               [
                -81.964508,
                63.044557
               ]
              ]
             ],
             "type": "Polygon"
            },
            "id": "880e327709fffff",
            "properties": {
             "value": 0
            },
            "type": "Feature"
           },
           {
            "geometry": {
             "coordinates": [
              [
               [
                -81.957836,
                63.035991
               ],
               [
                -81.968752,
                63.034236
               ],
               [
                -81.970872,
                63.029075
               ],
               [
                -81.962081,
                63.025669
               ],
               [
                -81.951168,
                63.027424
               ],
               [
                -81.949044,
                63.032585
               ],
               [
                -81.957836,
                63.035991
               ]
              ]
             ],
             "type": "Polygon"
            },
            "id": "880e32770bfffff",
            "properties": {
             "value": 0
            },
            "type": "Feature"
           },
           {
            "geometry": {
             "coordinates": [
              [
               [
                -81.984224,
                63.046206
               ],
               [
                -81.995142,
                63.044449
               ],
               [
                -81.997258,
                63.039287
               ],
               [
                -81.988461,
                63.035884
               ],
               [
                -81.977546,
                63.03764
               ],
               [
                -81.975426,
                63.042801
               ],
               [
                -81.984224,
                63.046206
               ]
              ]
             ],
             "type": "Polygon"
            },
            "id": "880e32770dfffff",
            "properties": {
             "value": 0
            },
            "type": "Feature"
           },
           {
            "geometry": {
             "coordinates": [
              [
               [
                -81.944504,
                63.018857
               ],
               [
                -81.955414,
                63.017102
               ],
               [
                -81.957536,
                63.011942
               ],
               [
                -81.948751,
                63.008535
               ],
               [
                -81.937843,
                63.010289
               ],
               [
                -81.935718,
                63.015449
               ],
               [
                -81.944504,
                63.018857
               ]
              ]
             ],
             "type": "Polygon"
            },
            "id": "880e327711fffff",
            "properties": {
             "value": 0
            },
            "type": "Feature"
           },
           {
            "geometry": {
             "coordinates": [
              [
               [
                -81.964202,
                63.020508
               ],
               [
                -81.975111,
                63.018753
               ],
               [
                -81.97723,
                63.013592
               ],
               [
                -81.968442,
                63.010186
               ],
               [
                -81.957536,
                63.011942
               ],
               [
                -81.955414,
                63.017102
               ],
               [
                -81.964202,
                63.020508
               ]
              ]
             ],
             "type": "Polygon"
            },
            "id": "880e327715fffff",
            "properties": {
             "value": 0
            },
            "type": "Feature"
           },
           {
            "geometry": {
             "coordinates": [
              [
               [
                -81.957536,
                63.011942
               ],
               [
                -81.968442,
                63.010186
               ],
               [
                -81.970561,
                63.005025
               ],
               [
                -81.961777,
                63.00162
               ],
               [
                -81.950873,
                63.003374
               ],
               [
                -81.948751,
                63.008535
               ],
               [
                -81.957536,
                63.011942
               ]
              ]
             ],
             "type": "Polygon"
            },
            "id": "880e327717fffff",
            "properties": {
             "value": 0
            },
            "type": "Feature"
           },
           {
            "geometry": {
             "coordinates": [
              [
               [
                -81.931466,
                63.02577
               ],
               [
                -81.942379,
                63.024017
               ],
               [
                -81.944504,
                63.018857
               ],
               [
                -81.935718,
                63.015449
               ],
               [
                -81.924807,
                63.017202
               ],
               [
                -81.92268,
                63.022362
               ],
               [
                -81.931466,
                63.02577
               ]
              ]
             ],
             "type": "Polygon"
            },
            "id": "880e327719fffff",
            "properties": {
             "value": 0
            },
            "type": "Feature"
           },
           {
            "geometry": {
             "coordinates": [
              [
               [
                -81.924807,
                63.017202
               ],
               [
                -81.935718,
                63.015449
               ],
               [
                -81.937843,
                63.010289
               ],
               [
                -81.929061,
                63.006881
               ],
               [
                -81.918153,
                63.008633
               ],
               [
                -81.916025,
                63.013794
               ],
               [
                -81.924807,
                63.017202
               ]
              ]
             ],
             "type": "Polygon"
            },
            "id": "880e32771bfffff",
            "properties": {
             "value": 0
            },
            "type": "Feature"
           },
           {
            "geometry": {
             "coordinates": [
              [
               [
                -81.951168,
                63.027424
               ],
               [
                -81.962081,
                63.025669
               ],
               [
                -81.964202,
                63.020508
               ],
               [
                -81.955414,
                63.017102
               ],
               [
                -81.944504,
                63.018857
               ],
               [
                -81.942379,
                63.024017
               ],
               [
                -81.951168,
                63.027424
               ]
              ]
             ],
             "type": "Polygon"
            },
            "id": "880e32771dfffff",
            "properties": {
             "value": 0
            },
            "type": "Feature"
           },
           {
            "geometry": {
             "coordinates": [
              [
               [
                -82.029996,
                63.03401
               ],
               [
                -82.040906,
                63.03225
               ],
               [
                -82.043014,
                63.027088
               ],
               [
                -82.034216,
                63.023687
               ],
               [
                -82.023308,
                63.025447
               ],
               [
                -82.021197,
                63.030609
               ],
               [
                -82.029996,
                63.03401
               ]
              ]
             ],
             "type": "Polygon"
            },
            "id": "880e327721fffff",
            "properties": {
             "value": 0
            },
            "type": "Feature"
           },
           {
            "geometry": {
             "coordinates": [
              [
               [
                -82.023308,
                63.025447
               ],
               [
                -82.034216,
                63.023687
               ],
               [
                -82.036324,
                63.018525
               ],
               [
                -82.027529,
                63.015124
               ],
               [
                -82.016624,
                63.016883
               ],
               [
                -82.014512,
                63.022045
               ],
               [
                -82.023308,
                63.025447
               ]
              ]
             ],
             "type": "Polygon"
            },
            "id": "880e327723fffff",
            "properties": {
             "value": 0
            },
            "type": "Feature"
           },
           {
            "geometry": {
             "coordinates": [
              [
               [
                -82.043014,
                63.027088
               ],
               [
                -82.053921,
                63.025326
               ],
               [
                -82.056026,
                63.020164
               ],
               [
                -82.047228,
                63.016764
               ],
               [
                -82.036324,
                63.018525
               ],
               [
                -82.034216,
                63.023687
               ],
               [
                -82.043014,
                63.027088
               ]
              ]
             ],
             "type": "Polygon"
            },
            "id": "880e327727fffff",
            "properties": {
             "value": 0
            },
            "type": "Feature"
           },
           {
            "geometry": {
             "coordinates": [
              [
               [
                -82.016972,
                63.040932
               ],
               [
                -82.027886,
                63.039172
               ],
               [
                -82.029996,
                63.03401
               ],
               [
                -82.021197,
                63.030609
               ],
               [
                -82.010286,
                63.032368
               ],
               [
                -82.008172,
                63.037529
               ],
               [
                -82.016972,
                63.040932
               ]
              ]
             ],
             "type": "Polygon"
            },
            "id": "880e327729fffff",
            "properties": {
             "value": 0
            },
            "type": "Feature"
           },
           {
            "geometry": {
             "coordinates": [
              [
               [
                -82.010286,
                63.032368
               ],
               [
                -82.021197,
                63.030609
               ],
               [
                -82.023308,
                63.025447
               ],
               [
                -82.014512,
                63.022045
               ],
               [
                -82.003604,
                63.023804
               ],
               [
                -82.00149,
                63.028965
               ],
               [
                -82.010286,
                63.032368
               ]
              ]
             ],
             "type": "Polygon"
            },
            "id": "880e32772bfffff",
            "properties": {
             "value": 0
            },
            "type": "Feature"
           },
           {
            "geometry": {
             "coordinates": [
              [
               [
                -82.036688,
                63.042573
               ],
               [
                -82.047601,
                63.040812
               ],
               [
                -82.049708,
                63.03565
               ],
               [
                -82.040906,
                63.03225
               ],
               [
                -82.029996,
                63.03401
               ],
               [
                -82.027886,
                63.039172
               ],
               [
                -82.036688,
                63.042573
               ]
              ]
             ],
             "type": "Polygon"
            },
            "id": "880e32772dfffff",
            "properties": {
             "value": 0
            },
            "type": "Feature"
           },
           {
            "geometry": {
             "coordinates": [
              [
               [
                -81.996926,
                63.015239
               ],
               [
                -82.007831,
                63.013481
               ],
               [
                -82.009944,
                63.008319
               ],
               [
                -82.001154,
                63.004916
               ],
               [
                -81.990251,
                63.006674
               ],
               [
                -81.988136,
                63.011835
               ],
               [
                -81.996926,
                63.015239
               ]
              ]
             ],
             "type": "Polygon"
            },
            "id": "880e327731fffff",
            "properties": {
             "value": 0
            },
            "type": "Feature"
           },
           {
            "geometry": {
             "coordinates": [
              [
               [
                -81.990251,
                63.006674
               ],
               [
                -82.001154,
                63.004916
               ],
               [
                -82.003267,
                62.999754
               ],
               [
                -81.994481,
                62.996351
               ],
               [
                -81.983581,
                62.998108
               ],
               [
                -81.981465,
                63.003269
               ],
               [
                -81.990251,
                63.006674
               ]
              ]
             ],
             "type": "Polygon"
            },
            "id": "880e327733fffff",
            "properties": {
             "value": 0
            },
            "type": "Feature"
           },
           {
            "geometry": {
             "coordinates": [
              [
               [
                -82.016624,
                63.016883
               ],
               [
                -82.027529,
                63.015124
               ],
               [
                -82.029638,
                63.009962
               ],
               [
                -82.020846,
                63.00656
               ],
               [
                -82.009944,
                63.008319
               ],
               [
                -82.007831,
                63.013481
               ],
               [
                -82.016624,
                63.016883
               ]
              ]
             ],
             "type": "Polygon"
            },
            "id": "880e327735fffff",
            "properties": {
             "value": 0
            },
            "type": "Feature"
           },
           {
            "geometry": {
             "coordinates": [
              [
               [
                -82.009944,
                63.008319
               ],
               [
                -82.020846,
                63.00656
               ],
               [
                -82.022955,
                63.001398
               ],
               [
                -82.014166,
                62.997996
               ],
               [
                -82.003267,
                62.999754
               ],
               [
                -82.001154,
                63.004916
               ],
               [
                -82.009944,
                63.008319
               ]
              ]
             ],
             "type": "Polygon"
            },
            "id": "880e327737fffff",
            "properties": {
             "value": 0
            },
            "type": "Feature"
           },
           {
            "geometry": {
             "coordinates": [
              [
               [
                -81.983902,
                63.022157
               ],
               [
                -81.994811,
                63.0204
               ],
               [
                -81.996926,
                63.015239
               ],
               [
                -81.988136,
                63.011835
               ],
               [
                -81.97723,
                63.013592
               ],
               [
                -81.975111,
                63.018753
               ],
               [
                -81.983902,
                63.022157
               ]
              ]
             ],
             "type": "Polygon"
            },
            "id": "880e327739fffff",
            "properties": {
             "value": 0
            },
            "type": "Feature"
           },
           {
            "geometry": {
             "coordinates": [
              [
               [
                -81.97723,
                63.013592
               ],
               [
                -81.988136,
                63.011835
               ],
               [
                -81.990251,
                63.006674
               ],
               [
                -81.981465,
                63.003269
               ],
               [
                -81.970561,
                63.005025
               ],
               [
                -81.968442,
                63.010186
               ],
               [
                -81.97723,
                63.013592
               ]
              ]
             ],
             "type": "Polygon"
            },
            "id": "880e32773bfffff",
            "properties": {
             "value": 0
            },
            "type": "Feature"
           },
           {
            "geometry": {
             "coordinates": [
              [
               [
                -82.003604,
                63.023804
               ],
               [
                -82.014512,
                63.022045
               ],
               [
                -82.016624,
                63.016883
               ],
               [
                -82.007831,
                63.013481
               ],
               [
                -81.996926,
                63.015239
               ],
               [
                -81.994811,
                63.0204
               ],
               [
                -82.003604,
                63.023804
               ]
              ]
             ],
             "type": "Polygon"
            },
            "id": "880e32773dfffff",
            "properties": {
             "value": 0
            },
            "type": "Feature"
           },
           {
            "geometry": {
             "coordinates": [
              [
               [
                -81.958137,
                63.060039
               ],
               [
                -81.969061,
                63.058284
               ],
               [
                -81.971184,
                63.053123
               ],
               [
                -81.962385,
                63.049718
               ],
               [
                -81.951464,
                63.051472
               ],
               [
                -81.949338,
                63.056633
               ],
               [
                -81.958137,
                63.060039
               ]
              ]
             ],
             "type": "Polygon"
            },
            "id": "880e327741fffff",
            "properties": {
             "value": 0
            },
            "type": "Feature"
           },
           {
            "geometry": {
             "coordinates": [
              [
               [
                -81.951464,
                63.051472
               ],
               [
                -81.962385,
                63.049718
               ],
               [
                -81.964508,
                63.044557
               ],
               [
                -81.955713,
                63.041151
               ],
               [
                -81.944794,
                63.042906
               ],
               [
                -81.942668,
                63.048066
               ],
               [
                -81.951464,
                63.051472
               ]
              ]
             ],
             "type": "Polygon"
            },
            "id": "880e327743fffff",
            "properties": {
             "value": 0
            },
            "type": "Feature"
           },
           {
            "geometry": {
             "coordinates": [
              [
               [
                -81.977863,
                63.061688
               ],
               [
                -81.988787,
                63.059932
               ],
               [
                -81.990906,
                63.054771
               ],
               [
                -81.982105,
                63.051367
               ],
               [
                -81.971184,
                63.053123
               ],
               [
                -81.969061,
                63.058284
               ],
               [
                -81.977863,
                63.061688
               ]
              ]
             ],
             "type": "Polygon"
            },
            "id": "880e327745fffff",
            "properties": {
             "value": 0
            },
            "type": "Feature"
           },
           {
            "geometry": {
             "coordinates": [
              [
               [
                -81.971184,
                63.053123
               ],
               [
                -81.982105,
                63.051367
               ],
               [
                -81.984224,
                63.046206
               ],
               [
                -81.975426,
                63.042801
               ],
               [
                -81.964508,
                63.044557
               ],
               [
                -81.962385,
                63.049718
               ],
               [
                -81.971184,
                63.053123
               ]
              ]
             ],
             "type": "Polygon"
            },
            "id": "880e327747fffff",
            "properties": {
             "value": 0
            },
            "type": "Feature"
           },
           {
            "geometry": {
             "coordinates": [
              [
               [
                -81.964815,
                63.068605
               ],
               [
                -81.975741,
                63.066849
               ],
               [
                -81.977863,
                63.061688
               ],
               [
                -81.969061,
                63.058284
               ],
               [
                -81.958137,
                63.060039
               ],
               [
                -81.956012,
                63.065199
               ],
               [
                -81.964815,
                63.068605
               ]
              ]
             ],
             "type": "Polygon"
            },
            "id": "880e32774dfffff",
            "properties": {
             "value": 0
            },
            "type": "Feature"
           },
           {
            "geometry": {
             "coordinates": [
              [
               [
                -81.925082,
                63.041251
               ],
               [
                -81.936001,
                63.039499
               ],
               [
                -81.938128,
                63.034338
               ],
               [
                -81.929339,
                63.030931
               ],
               [
                -81.918422,
                63.032683
               ],
               [
                -81.916292,
                63.037843
               ],
               [
                -81.925082,
                63.041251
               ]
              ]
             ],
             "type": "Polygon"
            },
            "id": "880e327751fffff",
            "properties": {
             "value": 0
            },
            "type": "Feature"
           },
           {
            "geometry": {
             "coordinates": [
              [
               [
                -81.944794,
                63.042906
               ],
               [
                -81.955713,
                63.041151
               ],
               [
                -81.957836,
                63.035991
               ],
               [
                -81.949044,
                63.032585
               ],
               [
                -81.938128,
                63.034338
               ],
               [
                -81.936001,
                63.039499
               ],
               [
                -81.944794,
                63.042906
               ]
              ]
             ],
             "type": "Polygon"
            },
            "id": "880e327755fffff",
            "properties": {
             "value": 0
            },
            "type": "Feature"
           },
           {
            "geometry": {
             "coordinates": [
              [
               [
                -81.938128,
                63.034338
               ],
               [
                -81.949044,
                63.032585
               ],
               [
                -81.951168,
                63.027424
               ],
               [
                -81.942379,
                63.024017
               ],
               [
                -81.931466,
                63.02577
               ],
               [
                -81.929339,
                63.030931
               ],
               [
                -81.938128,
                63.034338
               ]
              ]
             ],
             "type": "Polygon"
            },
            "id": "880e327757fffff",
            "properties": {
             "value": 0
            },
            "type": "Feature"
           },
           {
            "geometry": {
             "coordinates": [
              [
               [
                -81.931745,
                63.049819
               ],
               [
                -81.942668,
                63.048066
               ],
               [
                -81.944794,
                63.042906
               ],
               [
                -81.936001,
                63.039499
               ],
               [
                -81.925082,
                63.041251
               ],
               [
                -81.922952,
                63.046412
               ],
               [
                -81.931745,
                63.049819
               ]
              ]
             ],
             "type": "Polygon"
            },
            "id": "880e32775dfffff",
            "properties": {
             "value": 0
            },
            "type": "Feature"
           },
           {
            "geometry": {
             "coordinates": [
              [
               [
                -82.01063,
                63.056416
               ],
               [
                -82.021549,
                63.054656
               ],
               [
                -82.023662,
                63.049495
               ],
               [
                -82.014859,
                63.046093
               ],
               [
                -82.003942,
                63.047852
               ],
               [
                -82.001826,
                63.053013
               ],
               [
                -82.01063,
                63.056416
               ]
              ]
             ],
             "type": "Polygon"
            },
            "id": "880e327761fffff",
            "properties": {
             "value": 0
            },
            "type": "Feature"
           },
           {
            "geometry": {
             "coordinates": [
              [
               [
                -82.003942,
                63.047852
               ],
               [
                -82.014859,
                63.046093
               ],
               [
                -82.016972,
                63.040932
               ],
               [
                -82.008172,
                63.037529
               ],
               [
                -81.997258,
                63.039287
               ],
               [
                -81.995142,
                63.044449
               ],
               [
                -82.003942,
                63.047852
               ]
              ]
             ],
             "type": "Polygon"
            },
            "id": "880e327763fffff",
            "properties": {
             "value": 0
            },
            "type": "Feature"
           },
           {
            "geometry": {
             "coordinates": [
              [
               [
                -82.030356,
                63.058058
               ],
               [
                -82.041274,
                63.056297
               ],
               [
                -82.043384,
                63.051135
               ],
               [
                -82.034578,
                63.047735
               ],
               [
                -82.023662,
                63.049495
               ],
               [
                -82.021549,
                63.054656
               ],
               [
                -82.030356,
                63.058058
               ]
              ]
             ],
             "type": "Polygon"
            },
            "id": "880e327765fffff",
            "properties": {
             "value": 0
            },
            "type": "Feature"
           },
           {
            "geometry": {
             "coordinates": [
              [
               [
                -82.023662,
                63.049495
               ],
               [
                -82.034578,
                63.047735
               ],
               [
                -82.036688,
                63.042573
               ],
               [
                -82.027886,
                63.039172
               ],
               [
                -82.016972,
                63.040932
               ],
               [
                -82.014859,
                63.046093
               ],
               [
                -82.023662,
                63.049495
               ]
              ]
             ],
             "type": "Polygon"
            },
            "id": "880e327767fffff",
            "properties": {
             "value": 0
            },
            "type": "Feature"
           },
           {
            "geometry": {
             "coordinates": [
              [
               [
                -81.997591,
                63.063335
               ],
               [
                -82.008514,
                63.061577
               ],
               [
                -82.01063,
                63.056416
               ],
               [
                -82.001826,
                63.053013
               ],
               [
                -81.990906,
                63.054771
               ],
               [
                -81.988787,
                63.059932
               ],
               [
                -81.997591,
                63.063335
               ]
              ]
             ],
             "type": "Polygon"
            },
            "id": "880e327769fffff",
            "properties": {
             "value": 0
            },
            "type": "Feature"
           },
           {
            "geometry": {
             "coordinates": [
              [
               [
                -82.017321,
                63.064979
               ],
               [
                -82.028243,
                63.063219
               ],
               [
                -82.030356,
                63.058058
               ],
               [
                -82.021549,
                63.054656
               ],
               [
                -82.01063,
                63.056416
               ],
               [
                -82.008514,
                63.061577
               ],
               [
                -82.017321,
                63.064979
               ]
              ]
             ],
             "type": "Polygon"
            },
            "id": "880e32776dfffff",
            "properties": {
             "value": 0
            },
            "type": "Feature"
           },
           {
            "geometry": {
             "coordinates": [
              [
               [
                -82.399358,
                63.10423
               ],
               [
                -82.410268,
                63.102441
               ],
               [
                -82.412317,
                63.097275
               ],
               [
                -82.403457,
                63.093898
               ],
               [
                -82.392549,
                63.095687
               ],
               [
                -82.390498,
                63.100853
               ],
               [
                -82.399358,
                63.10423
               ]
              ]
             ],
             "type": "Polygon"
            },
            "id": "880e327a13fffff",
            "properties": {
             "value": 0
            },
            "type": "Feature"
           },
           {
            "geometry": {
             "coordinates": [
              [
               [
                -82.386392,
                63.111184
               ],
               [
                -82.397306,
                63.109396
               ],
               [
                -82.399358,
                63.10423
               ],
               [
                -82.390498,
                63.100853
               ],
               [
                -82.379586,
                63.10264
               ],
               [
                -82.377532,
                63.107806
               ],
               [
                -82.386392,
                63.111184
               ]
              ]
             ],
             "type": "Polygon"
            },
            "id": "880e327a1bfffff",
            "properties": {
             "value": 0
            },
            "type": "Feature"
           },
           {
            "geometry": {
             "coordinates": [
              [
               [
                -82.365985,
                63.085551
               ],
               [
                -82.376891,
                63.083764
               ],
               [
                -82.378944,
                63.078598
               ],
               [
                -82.370094,
                63.075219
               ],
               [
                -82.35919,
                63.077005
               ],
               [
                -82.357134,
                63.082171
               ],
               [
                -82.365985,
                63.085551
               ]
              ]
             ],
             "type": "Polygon"
            },
            "id": "880e327ac3fffff",
            "properties": {
             "value": 0
            },
            "type": "Feature"
           },
           {
            "geometry": {
             "coordinates": [
              [
               [
                -82.392549,
                63.095687
               ],
               [
                -82.403457,
                63.093898
               ],
               [
                -82.405506,
                63.088732
               ],
               [
                -82.39665,
                63.085355
               ],
               [
                -82.385745,
                63.087143
               ],
               [
                -82.383693,
                63.092309
               ],
               [
                -82.392549,
                63.095687
               ]
              ]
             ],
             "type": "Polygon"
            },
            "id": "880e327ac5fffff",
            "properties": {
             "value": 0
            },
            "type": "Feature"
           },
           {
            "geometry": {
             "coordinates": [
              [
               [
                -82.385745,
                63.087143
               ],
               [
                -82.39665,
                63.085355
               ],
               [
                -82.3987,
                63.080189
               ],
               [
                -82.389847,
                63.076811
               ],
               [
                -82.378944,
                63.078598
               ],
               [
                -82.376891,
                63.083764
               ],
               [
                -82.385745,
                63.087143
               ]
              ]
             ],
             "type": "Polygon"
            },
            "id": "880e327ac7fffff",
            "properties": {
             "value": 0
            },
            "type": "Feature"
           },
           {
            "geometry": {
             "coordinates": [
              [
               [
                -82.379586,
                63.10264
               ],
               [
                -82.390498,
                63.100853
               ],
               [
                -82.392549,
                63.095687
               ],
               [
                -82.383693,
                63.092309
               ],
               [
                -82.372784,
                63.094096
               ],
               [
                -82.370729,
                63.099261
               ],
               [
                -82.379586,
                63.10264
               ]
              ]
             ],
             "type": "Polygon"
            },
            "id": "880e327acdfffff",
            "properties": {
             "value": 0
            },
            "type": "Feature"
           },
           {
            "geometry": {
             "coordinates": [
              [
               [
                -82.339439,
                63.075409
               ],
               [
                -82.350343,
                63.073625
               ],
               [
                -82.3524,
                63.068459
               ],
               [
                -82.343555,
                63.065078
               ],
               [
                -82.332654,
                63.066862
               ],
               [
                -82.330594,
                63.072027
               ],
               [
                -82.339439,
                63.075409
               ]
              ]
             ],
             "type": "Polygon"
            },
            "id": "880e327ad1fffff",
            "properties": {
             "value": 0
            },
            "type": "Feature"
           },
           {
            "geometry": {
             "coordinates": [
              [
               [
                -82.319688,
                63.07381
               ],
               [
                -82.330594,
                63.072027
               ],
               [
                -82.332654,
                63.066862
               ],
               [
                -82.323812,
                63.06348
               ],
               [
                -82.31291,
                63.065262
               ],
               [
                -82.310846,
                63.070427
               ],
               [
                -82.319688,
                63.07381
               ]
              ]
             ],
             "type": "Polygon"
            },
            "id": "880e327adbfffff",
            "properties": {
             "value": 0
            },
            "type": "Feature"
           },
           {
            "geometry": {
             "coordinates": [
              [
               [
                -82.346227,
                63.083956
               ],
               [
                -82.357134,
                63.082171
               ],
               [
                -82.35919,
                63.077005
               ],
               [
                -82.350343,
                63.073625
               ],
               [
                -82.339439,
                63.075409
               ],
               [
                -82.337379,
                63.080574
               ],
               [
                -82.346227,
                63.083956
               ]
              ]
             ],
             "type": "Polygon"
            },
            "id": "880e327addfffff",
            "properties": {
             "value": 0
            },
            "type": "Feature"
           }
          ],
          "type": "FeatureCollection"
         },
         "hovertemplate": "h3_res=%{location}<br>val=%{z}<extra></extra>",
         "locations": [
          "880e320001fffff",
          "880e320003fffff",
          "880e320005fffff",
          "880e320007fffff",
          "880e320009fffff",
          "880e32000dfffff",
          "880e320021fffff",
          "880e320027fffff",
          "880e320029fffff",
          "880e32002bfffff",
          "880e320031fffff",
          "880e320035fffff",
          "880e320039fffff",
          "880e32003dfffff",
          "880e320041fffff",
          "880e320045fffff",
          "880e320047fffff",
          "880e32004dfffff",
          "880e320063fffff",
          "880e32006bfffff",
          "880e320181fffff",
          "880e320187fffff",
          "880e320189fffff",
          "880e3201a1fffff",
          "880e3201a7fffff",
          "880e3201a9fffff",
          "880e3201b5fffff",
          "880e3201bdfffff",
          "880e3201c3fffff",
          "880e3201c5fffff",
          "880e3201cbfffff",
          "880e3201cdfffff",
          "880e3201e3fffff",
          "880e3201ebfffff",
          "880e320813fffff",
          "880e320819fffff",
          "880e32081bfffff",
          "880e320857fffff",
          "880e320881fffff",
          "880e320883fffff",
          "880e320889fffff",
          "880e32088dfffff",
          "880e3208b3fffff",
          "880e3208b9fffff",
          "880e3208bbfffff",
          "880e3208c5fffff",
          "880e3208c7fffff",
          "880e3208cdfffff",
          "880e320d03fffff",
          "880e320d09fffff",
          "880e320d0bfffff",
          "880e320d11fffff",
          "880e320d13fffff",
          "880e320d15fffff",
          "880e320d17fffff",
          "880e320d19fffff",
          "880e320d21fffff",
          "880e320d23fffff",
          "880e320d27fffff",
          "880e320d29fffff",
          "880e320d2dfffff",
          "880e320d41fffff",
          "880e320d43fffff",
          "880e320d49fffff",
          "880e320d4bfffff",
          "880e320d51fffff",
          "880e320d57fffff",
          "880e320d59fffff",
          "880e320d5dfffff",
          "880e320d65fffff",
          "880e320d67fffff",
          "880e320d6dfffff",
          "880e320d85fffff",
          "880e320d87fffff",
          "880e320d8dfffff",
          "880e320da1fffff",
          "880e320da3fffff",
          "880e320da5fffff",
          "880e320da7fffff",
          "880e320dadfffff",
          "880e320db1fffff",
          "880e320db7fffff",
          "880e320dbbfffff",
          "880e320dbdfffff",
          "880e320de1fffff",
          "880e320de3fffff",
          "880e320de7fffff",
          "880e320de9fffff",
          "880e320debfffff",
          "880e320f01fffff",
          "880e320f03fffff",
          "880e320f05fffff",
          "880e320f09fffff",
          "880e320f0bfffff",
          "880e320f0dfffff",
          "880e320f23fffff",
          "880e320f2bfffff",
          "880e320f31fffff",
          "880e320f37fffff",
          "880e320f39fffff",
          "880e320f43fffff",
          "880e320f45fffff",
          "880e320f47fffff",
          "880e320f4bfffff",
          "880e320f4dfffff",
          "880e320f63fffff",
          "880e320f6bfffff",
          "880e322b41fffff",
          "880e322b45fffff",
          "880e322b49fffff",
          "880e322b69fffff",
          "880e322b6dfffff",
          "880e323925fffff",
          "880e323927fffff",
          "880e3239a1fffff",
          "880e3239a7fffff",
          "880e3239a9fffff",
          "880e3239adfffff",
          "880e3239e1fffff",
          "880e3239e7fffff",
          "880e3244dbfffff",
          "880e324603fffff",
          "880e324605fffff",
          "880e324607fffff",
          "880e32460bfffff",
          "880e324611fffff",
          "880e324613fffff",
          "880e324615fffff",
          "880e324617fffff",
          "880e32461dfffff",
          "880e324629fffff",
          "880e324639fffff",
          "880e324641fffff",
          "880e324643fffff",
          "880e324645fffff",
          "880e32464dfffff",
          "880e324655fffff",
          "880e324657fffff",
          "880e324667fffff",
          "880e324681fffff",
          "880e324683fffff",
          "880e324689fffff",
          "880e32468bfffff",
          "880e32468dfffff",
          "880e324691fffff",
          "880e32469bfffff",
          "880e32469dfffff",
          "880e3246b9fffff",
          "880e3246bbfffff",
          "880e3246c5fffff",
          "880e3246c7fffff",
          "880e3246e9fffff",
          "880e3246ebfffff",
          "880e324751fffff",
          "880e324753fffff",
          "880e324755fffff",
          "880e324757fffff",
          "880e32475bfffff",
          "880e32475dfffff",
          "880e3254a5fffff",
          "880e3254a9fffff",
          "880e3254adfffff",
          "880e3254e7fffff",
          "880e32558bfffff",
          "880e325591fffff",
          "880e325593fffff",
          "880e325595fffff",
          "880e325597fffff",
          "880e32559bfffff",
          "880e32559dfffff",
          "880e3255b1fffff",
          "880e3255b7fffff",
          "880e3255bbfffff",
          "880e3255d1fffff",
          "880e3255d3fffff",
          "880e3255d7fffff",
          "880e3255d9fffff",
          "880e3255dbfffff",
          "880e327009fffff",
          "880e32700bfffff",
          "880e327011fffff",
          "880e327013fffff",
          "880e32701dfffff",
          "880e327041fffff",
          "880e327043fffff",
          "880e327045fffff",
          "880e327047fffff",
          "880e327049fffff",
          "880e32704dfffff",
          "880e327051fffff",
          "880e327053fffff",
          "880e327055fffff",
          "880e327057fffff",
          "880e32706dfffff",
          "880e327083fffff",
          "880e327089fffff",
          "880e32708bfffff",
          "880e32708dfffff",
          "880e327091fffff",
          "880e327093fffff",
          "880e327095fffff",
          "880e327097fffff",
          "880e327099fffff",
          "880e32709bfffff",
          "880e32709dfffff",
          "880e3270a1fffff",
          "880e3270a3fffff",
          "880e3270a5fffff",
          "880e3270a7fffff",
          "880e3270b1fffff",
          "880e3270b3fffff",
          "880e3270b5fffff",
          "880e3270bbfffff",
          "880e3270bdfffff",
          "880e3270c5fffff",
          "880e3270c7fffff",
          "880e3270d1fffff",
          "880e3270d3fffff",
          "880e3270d7fffff",
          "880e3270d9fffff",
          "880e3270dbfffff",
          "880e3270e9fffff",
          "880e3270ebfffff",
          "880e327121fffff",
          "880e327127fffff",
          "880e327129fffff",
          "880e32712dfffff",
          "880e327149fffff",
          "880e327163fffff",
          "880e32716bfffff",
          "880e327181fffff",
          "880e327185fffff",
          "880e32718bfffff",
          "880e327199fffff",
          "880e32719dfffff",
          "880e3271a9fffff",
          "880e3271d7fffff",
          "880e3271e7fffff",
          "880e327281fffff",
          "880e327287fffff",
          "880e327289fffff",
          "880e327293fffff",
          "880e327299fffff",
          "880e32729bfffff",
          "880e3272a1fffff",
          "880e3272a3fffff",
          "880e3272a5fffff",
          "880e3272b3fffff",
          "880e3272b5fffff",
          "880e3272b7fffff",
          "880e3272b9fffff",
          "880e3272bbfffff",
          "880e3272c1fffff",
          "880e3272c7fffff",
          "880e3272c9fffff",
          "880e3272cbfffff",
          "880e3272cdfffff",
          "880e3272d3fffff",
          "880e3272d5fffff",
          "880e3272d7fffff",
          "880e3272ddfffff",
          "880e327311fffff",
          "880e327313fffff",
          "880e327317fffff",
          "880e327319fffff",
          "880e32731bfffff",
          "880e327321fffff",
          "880e327325fffff",
          "880e327327fffff",
          "880e32732dfffff",
          "880e327331fffff",
          "880e327333fffff",
          "880e327335fffff",
          "880e327341fffff",
          "880e327343fffff",
          "880e327347fffff",
          "880e32734dfffff",
          "880e327355fffff",
          "880e327357fffff",
          "880e327365fffff",
          "880e327367fffff",
          "880e32736dfffff",
          "880e327405fffff",
          "880e327409fffff",
          "880e32740bfffff",
          "880e32740dfffff",
          "880e327411fffff",
          "880e327419fffff",
          "880e32741dfffff",
          "880e327421fffff",
          "880e327425fffff",
          "880e327427fffff",
          "880e327429fffff",
          "880e327447fffff",
          "880e327449fffff",
          "880e32744bfffff",
          "880e327453fffff",
          "880e32746dfffff",
          "880e3274cdfffff",
          "880e327501fffff",
          "880e327503fffff",
          "880e327509fffff",
          "880e32750bfffff",
          "880e327511fffff",
          "880e327513fffff",
          "880e327515fffff",
          "880e327517fffff",
          "880e327519fffff",
          "880e32751bfffff",
          "880e32751dfffff",
          "880e32753bfffff",
          "880e327541fffff",
          "880e327543fffff",
          "880e327545fffff",
          "880e327547fffff",
          "880e327549fffff",
          "880e32754bfffff",
          "880e32754dfffff",
          "880e327551fffff",
          "880e327553fffff",
          "880e327555fffff",
          "880e327557fffff",
          "880e327559fffff",
          "880e32755bfffff",
          "880e32755dfffff",
          "880e327569fffff",
          "880e32756bfffff",
          "880e32756dfffff",
          "880e3275c1fffff",
          "880e3275c5fffff",
          "880e3275cdfffff",
          "880e3275e9fffff",
          "880e327601fffff",
          "880e327603fffff",
          "880e327605fffff",
          "880e327607fffff",
          "880e32760bfffff",
          "880e32760dfffff",
          "880e327615fffff",
          "880e327619fffff",
          "880e32761bfffff",
          "880e32761dfffff",
          "880e327621fffff",
          "880e327625fffff",
          "880e327627fffff",
          "880e327629fffff",
          "880e32762bfffff",
          "880e32762dfffff",
          "880e327631fffff",
          "880e327633fffff",
          "880e327637fffff",
          "880e327639fffff",
          "880e32763bfffff",
          "880e32763dfffff",
          "880e327661fffff",
          "880e327663fffff",
          "880e327669fffff",
          "880e32766bfffff",
          "880e32766dfffff",
          "880e3276a1fffff",
          "880e3276a3fffff",
          "880e3276a5fffff",
          "880e3276a7fffff",
          "880e3276a9fffff",
          "880e3276abfffff",
          "880e3276adfffff",
          "880e3276b9fffff",
          "880e3276bbfffff",
          "880e3276bdfffff",
          "880e3276c9fffff",
          "880e3276cbfffff",
          "880e3276d9fffff",
          "880e3276dbfffff",
          "880e3276ddfffff",
          "880e3276e1fffff",
          "880e3276e3fffff",
          "880e3276e5fffff",
          "880e3276e7fffff",
          "880e327701fffff",
          "880e327703fffff",
          "880e327705fffff",
          "880e327707fffff",
          "880e327709fffff",
          "880e32770bfffff",
          "880e32770dfffff",
          "880e327711fffff",
          "880e327715fffff",
          "880e327717fffff",
          "880e327719fffff",
          "880e32771bfffff",
          "880e32771dfffff",
          "880e327721fffff",
          "880e327723fffff",
          "880e327727fffff",
          "880e327729fffff",
          "880e32772bfffff",
          "880e32772dfffff",
          "880e327731fffff",
          "880e327733fffff",
          "880e327735fffff",
          "880e327737fffff",
          "880e327739fffff",
          "880e32773bfffff",
          "880e32773dfffff",
          "880e327741fffff",
          "880e327743fffff",
          "880e327745fffff",
          "880e327747fffff",
          "880e32774dfffff",
          "880e327751fffff",
          "880e327755fffff",
          "880e327757fffff",
          "880e32775dfffff",
          "880e327761fffff",
          "880e327763fffff",
          "880e327765fffff",
          "880e327767fffff",
          "880e327769fffff",
          "880e32776dfffff",
          "880e327a13fffff",
          "880e327a1bfffff",
          "880e327ac3fffff",
          "880e327ac5fffff",
          "880e327ac7fffff",
          "880e327acdfffff",
          "880e327ad1fffff",
          "880e327adbfffff",
          "880e327addfffff"
         ],
         "marker": {
          "opacity": 0.5
         },
         "name": "",
         "subplot": "mapbox",
         "type": "choroplethmapbox",
         "z": [
          0,
          0,
          0,
          0,
          0,
          0,
          0,
          0,
          0,
          0,
          0,
          0,
          0,
          0,
          0,
          0,
          0,
          0,
          0,
          0,
          0,
          0,
          0,
          0,
          0,
          0,
          0,
          0,
          0,
          0,
          0,
          0,
          0,
          0,
          0,
          0,
          0,
          0,
          0,
          0,
          0,
          0,
          0,
          0,
          0,
          0,
          0,
          0,
          0,
          0,
          0,
          0,
          0,
          0,
          0,
          0,
          0,
          0,
          0,
          0,
          0,
          0,
          0,
          0,
          0,
          0,
          0,
          0,
          0,
          0,
          0,
          0,
          0,
          0,
          0,
          0,
          0,
          0,
          0,
          0,
          0,
          0,
          0,
          0,
          0,
          0,
          0,
          0,
          0,
          0,
          0,
          0,
          0,
          0,
          0,
          0,
          0,
          0,
          0,
          0,
          0,
          0,
          0,
          0,
          0,
          0,
          0,
          0,
          0,
          0,
          0,
          0,
          0,
          0,
          0,
          0,
          0,
          0,
          0,
          0,
          0,
          0,
          0,
          0,
          0,
          0,
          0,
          0,
          0,
          0,
          0,
          0,
          0,
          0,
          0,
          0,
          0,
          0,
          0,
          0,
          0,
          0,
          0,
          0,
          0,
          0,
          0,
          0,
          0,
          0,
          0,
          0,
          0,
          0,
          0,
          0,
          0,
          0,
          0,
          0,
          0,
          0,
          0,
          0,
          0,
          0,
          0,
          0,
          0,
          0,
          0,
          0,
          0,
          0,
          0,
          0,
          0,
          0,
          0,
          0,
          0,
          0,
          0,
          0,
          0,
          0,
          0,
          0,
          0,
          0,
          0,
          0,
          0,
          0,
          0,
          0,
          0,
          0,
          0,
          0,
          0,
          0,
          0,
          0,
          0,
          0,
          0,
          0,
          0,
          0,
          0,
          0,
          0,
          0,
          0,
          0,
          0,
          0,
          0,
          0,
          0,
          0,
          0,
          0,
          0,
          0,
          0,
          0,
          0,
          0,
          0,
          0,
          0,
          0,
          0,
          0,
          0,
          0,
          0,
          0,
          0,
          0,
          0,
          0,
          0,
          0,
          0,
          0,
          0,
          0,
          0,
          0,
          0,
          0,
          0,
          0,
          0,
          0,
          0,
          0,
          0,
          0,
          0,
          0,
          0,
          0,
          0,
          0,
          0,
          0,
          0,
          0,
          0,
          0,
          0,
          0,
          0,
          0,
          0,
          0,
          0,
          0,
          0,
          0,
          0,
          0,
          0,
          0,
          0,
          0,
          0,
          0,
          0,
          0,
          0,
          0,
          0,
          0,
          0,
          0,
          0,
          0,
          0,
          0,
          0,
          0,
          0,
          0,
          0,
          0,
          0,
          0,
          0,
          0,
          0,
          0,
          0,
          0,
          0,
          0,
          0,
          0,
          0,
          0,
          0,
          0,
          0,
          0,
          0,
          0,
          0,
          0,
          0,
          0,
          0,
          0,
          0,
          0,
          0,
          0,
          0,
          0,
          0,
          0,
          0,
          0,
          0,
          0,
          0,
          0,
          0,
          0,
          0,
          0,
          0,
          0,
          0,
          0,
          0,
          0,
          0,
          0,
          0,
          0,
          0,
          0,
          0,
          0,
          0,
          0,
          0,
          0,
          0,
          0,
          0,
          0,
          0,
          0,
          0,
          0,
          0,
          0,
          0,
          0,
          0,
          0,
          0,
          0,
          0,
          0,
          0,
          0,
          0,
          0,
          0,
          0,
          0,
          0,
          0,
          0,
          0,
          0,
          0,
          0,
          0,
          0,
          0,
          0,
          0,
          0,
          0,
          0,
          0,
          0,
          0,
          0,
          0,
          0,
          0,
          0,
          0,
          0,
          0,
          0,
          0,
          0,
          0,
          0
         ]
        }
       ],
       "layout": {
        "autosize": false,
        "coloraxis": {
         "cmax": 4000,
         "cmin": 0,
         "colorbar": {
          "title": {
           "text": "val"
          }
         },
         "colorscale": [
          [
           0,
           "#440154"
          ],
          [
           0.1111111111111111,
           "#482878"
          ],
          [
           0.2222222222222222,
           "#3e4989"
          ],
          [
           0.3333333333333333,
           "#31688e"
          ],
          [
           0.4444444444444444,
           "#26828e"
          ],
          [
           0.5555555555555556,
           "#1f9e89"
          ],
          [
           0.6666666666666666,
           "#35b779"
          ],
          [
           0.7777777777777778,
           "#6ece58"
          ],
          [
           0.8888888888888888,
           "#b5de2b"
          ],
          [
           1,
           "#fde725"
          ]
         ]
        },
        "height": 1200,
        "legend": {
         "tracegroupgap": 0
        },
        "mapbox": {
         "center": {
          "lat": 62.1023,
          "lon": -83.54
         },
         "domain": {
          "x": [
           0,
           1
          ],
          "y": [
           0,
           1
          ]
         },
         "style": "carto-positron",
         "zoom": 7
        },
        "margin": {
         "b": 0,
         "l": 0,
         "r": 0,
         "t": 0
        },
        "template": {
         "data": {
          "bar": [
           {
            "error_x": {
             "color": "#2a3f5f"
            },
            "error_y": {
             "color": "#2a3f5f"
            },
            "marker": {
             "line": {
              "color": "#E5ECF6",
              "width": 0.5
             },
             "pattern": {
              "fillmode": "overlay",
              "size": 10,
              "solidity": 0.2
             }
            },
            "type": "bar"
           }
          ],
          "barpolar": [
           {
            "marker": {
             "line": {
              "color": "#E5ECF6",
              "width": 0.5
             },
             "pattern": {
              "fillmode": "overlay",
              "size": 10,
              "solidity": 0.2
             }
            },
            "type": "barpolar"
           }
          ],
          "carpet": [
           {
            "aaxis": {
             "endlinecolor": "#2a3f5f",
             "gridcolor": "white",
             "linecolor": "white",
             "minorgridcolor": "white",
             "startlinecolor": "#2a3f5f"
            },
            "baxis": {
             "endlinecolor": "#2a3f5f",
             "gridcolor": "white",
             "linecolor": "white",
             "minorgridcolor": "white",
             "startlinecolor": "#2a3f5f"
            },
            "type": "carpet"
           }
          ],
          "choropleth": [
           {
            "colorbar": {
             "outlinewidth": 0,
             "ticks": ""
            },
            "type": "choropleth"
           }
          ],
          "contour": [
           {
            "colorbar": {
             "outlinewidth": 0,
             "ticks": ""
            },
            "colorscale": [
             [
              0,
              "#0d0887"
             ],
             [
              0.1111111111111111,
              "#46039f"
             ],
             [
              0.2222222222222222,
              "#7201a8"
             ],
             [
              0.3333333333333333,
              "#9c179e"
             ],
             [
              0.4444444444444444,
              "#bd3786"
             ],
             [
              0.5555555555555556,
              "#d8576b"
             ],
             [
              0.6666666666666666,
              "#ed7953"
             ],
             [
              0.7777777777777778,
              "#fb9f3a"
             ],
             [
              0.8888888888888888,
              "#fdca26"
             ],
             [
              1,
              "#f0f921"
             ]
            ],
            "type": "contour"
           }
          ],
          "contourcarpet": [
           {
            "colorbar": {
             "outlinewidth": 0,
             "ticks": ""
            },
            "type": "contourcarpet"
           }
          ],
          "heatmap": [
           {
            "colorbar": {
             "outlinewidth": 0,
             "ticks": ""
            },
            "colorscale": [
             [
              0,
              "#0d0887"
             ],
             [
              0.1111111111111111,
              "#46039f"
             ],
             [
              0.2222222222222222,
              "#7201a8"
             ],
             [
              0.3333333333333333,
              "#9c179e"
             ],
             [
              0.4444444444444444,
              "#bd3786"
             ],
             [
              0.5555555555555556,
              "#d8576b"
             ],
             [
              0.6666666666666666,
              "#ed7953"
             ],
             [
              0.7777777777777778,
              "#fb9f3a"
             ],
             [
              0.8888888888888888,
              "#fdca26"
             ],
             [
              1,
              "#f0f921"
             ]
            ],
            "type": "heatmap"
           }
          ],
          "heatmapgl": [
           {
            "colorbar": {
             "outlinewidth": 0,
             "ticks": ""
            },
            "colorscale": [
             [
              0,
              "#0d0887"
             ],
             [
              0.1111111111111111,
              "#46039f"
             ],
             [
              0.2222222222222222,
              "#7201a8"
             ],
             [
              0.3333333333333333,
              "#9c179e"
             ],
             [
              0.4444444444444444,
              "#bd3786"
             ],
             [
              0.5555555555555556,
              "#d8576b"
             ],
             [
              0.6666666666666666,
              "#ed7953"
             ],
             [
              0.7777777777777778,
              "#fb9f3a"
             ],
             [
              0.8888888888888888,
              "#fdca26"
             ],
             [
              1,
              "#f0f921"
             ]
            ],
            "type": "heatmapgl"
           }
          ],
          "histogram": [
           {
            "marker": {
             "pattern": {
              "fillmode": "overlay",
              "size": 10,
              "solidity": 0.2
             }
            },
            "type": "histogram"
           }
          ],
          "histogram2d": [
           {
            "colorbar": {
             "outlinewidth": 0,
             "ticks": ""
            },
            "colorscale": [
             [
              0,
              "#0d0887"
             ],
             [
              0.1111111111111111,
              "#46039f"
             ],
             [
              0.2222222222222222,
              "#7201a8"
             ],
             [
              0.3333333333333333,
              "#9c179e"
             ],
             [
              0.4444444444444444,
              "#bd3786"
             ],
             [
              0.5555555555555556,
              "#d8576b"
             ],
             [
              0.6666666666666666,
              "#ed7953"
             ],
             [
              0.7777777777777778,
              "#fb9f3a"
             ],
             [
              0.8888888888888888,
              "#fdca26"
             ],
             [
              1,
              "#f0f921"
             ]
            ],
            "type": "histogram2d"
           }
          ],
          "histogram2dcontour": [
           {
            "colorbar": {
             "outlinewidth": 0,
             "ticks": ""
            },
            "colorscale": [
             [
              0,
              "#0d0887"
             ],
             [
              0.1111111111111111,
              "#46039f"
             ],
             [
              0.2222222222222222,
              "#7201a8"
             ],
             [
              0.3333333333333333,
              "#9c179e"
             ],
             [
              0.4444444444444444,
              "#bd3786"
             ],
             [
              0.5555555555555556,
              "#d8576b"
             ],
             [
              0.6666666666666666,
              "#ed7953"
             ],
             [
              0.7777777777777778,
              "#fb9f3a"
             ],
             [
              0.8888888888888888,
              "#fdca26"
             ],
             [
              1,
              "#f0f921"
             ]
            ],
            "type": "histogram2dcontour"
           }
          ],
          "mesh3d": [
           {
            "colorbar": {
             "outlinewidth": 0,
             "ticks": ""
            },
            "type": "mesh3d"
           }
          ],
          "parcoords": [
           {
            "line": {
             "colorbar": {
              "outlinewidth": 0,
              "ticks": ""
             }
            },
            "type": "parcoords"
           }
          ],
          "pie": [
           {
            "automargin": true,
            "type": "pie"
           }
          ],
          "scatter": [
           {
            "fillpattern": {
             "fillmode": "overlay",
             "size": 10,
             "solidity": 0.2
            },
            "type": "scatter"
           }
          ],
          "scatter3d": [
           {
            "line": {
             "colorbar": {
              "outlinewidth": 0,
              "ticks": ""
             }
            },
            "marker": {
             "colorbar": {
              "outlinewidth": 0,
              "ticks": ""
             }
            },
            "type": "scatter3d"
           }
          ],
          "scattercarpet": [
           {
            "marker": {
             "colorbar": {
              "outlinewidth": 0,
              "ticks": ""
             }
            },
            "type": "scattercarpet"
           }
          ],
          "scattergeo": [
           {
            "marker": {
             "colorbar": {
              "outlinewidth": 0,
              "ticks": ""
             }
            },
            "type": "scattergeo"
           }
          ],
          "scattergl": [
           {
            "marker": {
             "colorbar": {
              "outlinewidth": 0,
              "ticks": ""
             }
            },
            "type": "scattergl"
           }
          ],
          "scattermapbox": [
           {
            "marker": {
             "colorbar": {
              "outlinewidth": 0,
              "ticks": ""
             }
            },
            "type": "scattermapbox"
           }
          ],
          "scatterpolar": [
           {
            "marker": {
             "colorbar": {
              "outlinewidth": 0,
              "ticks": ""
             }
            },
            "type": "scatterpolar"
           }
          ],
          "scatterpolargl": [
           {
            "marker": {
             "colorbar": {
              "outlinewidth": 0,
              "ticks": ""
             }
            },
            "type": "scatterpolargl"
           }
          ],
          "scatterternary": [
           {
            "marker": {
             "colorbar": {
              "outlinewidth": 0,
              "ticks": ""
             }
            },
            "type": "scatterternary"
           }
          ],
          "surface": [
           {
            "colorbar": {
             "outlinewidth": 0,
             "ticks": ""
            },
            "colorscale": [
             [
              0,
              "#0d0887"
             ],
             [
              0.1111111111111111,
              "#46039f"
             ],
             [
              0.2222222222222222,
              "#7201a8"
             ],
             [
              0.3333333333333333,
              "#9c179e"
             ],
             [
              0.4444444444444444,
              "#bd3786"
             ],
             [
              0.5555555555555556,
              "#d8576b"
             ],
             [
              0.6666666666666666,
              "#ed7953"
             ],
             [
              0.7777777777777778,
              "#fb9f3a"
             ],
             [
              0.8888888888888888,
              "#fdca26"
             ],
             [
              1,
              "#f0f921"
             ]
            ],
            "type": "surface"
           }
          ],
          "table": [
           {
            "cells": {
             "fill": {
              "color": "#EBF0F8"
             },
             "line": {
              "color": "white"
             }
            },
            "header": {
             "fill": {
              "color": "#C8D4E3"
             },
             "line": {
              "color": "white"
             }
            },
            "type": "table"
           }
          ]
         },
         "layout": {
          "annotationdefaults": {
           "arrowcolor": "#2a3f5f",
           "arrowhead": 0,
           "arrowwidth": 1
          },
          "autotypenumbers": "strict",
          "coloraxis": {
           "colorbar": {
            "outlinewidth": 0,
            "ticks": ""
           }
          },
          "colorscale": {
           "diverging": [
            [
             0,
             "#8e0152"
            ],
            [
             0.1,
             "#c51b7d"
            ],
            [
             0.2,
             "#de77ae"
            ],
            [
             0.3,
             "#f1b6da"
            ],
            [
             0.4,
             "#fde0ef"
            ],
            [
             0.5,
             "#f7f7f7"
            ],
            [
             0.6,
             "#e6f5d0"
            ],
            [
             0.7,
             "#b8e186"
            ],
            [
             0.8,
             "#7fbc41"
            ],
            [
             0.9,
             "#4d9221"
            ],
            [
             1,
             "#276419"
            ]
           ],
           "sequential": [
            [
             0,
             "#0d0887"
            ],
            [
             0.1111111111111111,
             "#46039f"
            ],
            [
             0.2222222222222222,
             "#7201a8"
            ],
            [
             0.3333333333333333,
             "#9c179e"
            ],
            [
             0.4444444444444444,
             "#bd3786"
            ],
            [
             0.5555555555555556,
             "#d8576b"
            ],
            [
             0.6666666666666666,
             "#ed7953"
            ],
            [
             0.7777777777777778,
             "#fb9f3a"
            ],
            [
             0.8888888888888888,
             "#fdca26"
            ],
            [
             1,
             "#f0f921"
            ]
           ],
           "sequentialminus": [
            [
             0,
             "#0d0887"
            ],
            [
             0.1111111111111111,
             "#46039f"
            ],
            [
             0.2222222222222222,
             "#7201a8"
            ],
            [
             0.3333333333333333,
             "#9c179e"
            ],
            [
             0.4444444444444444,
             "#bd3786"
            ],
            [
             0.5555555555555556,
             "#d8576b"
            ],
            [
             0.6666666666666666,
             "#ed7953"
            ],
            [
             0.7777777777777778,
             "#fb9f3a"
            ],
            [
             0.8888888888888888,
             "#fdca26"
            ],
            [
             1,
             "#f0f921"
            ]
           ]
          },
          "colorway": [
           "#636efa",
           "#EF553B",
           "#00cc96",
           "#ab63fa",
           "#FFA15A",
           "#19d3f3",
           "#FF6692",
           "#B6E880",
           "#FF97FF",
           "#FECB52"
          ],
          "font": {
           "color": "#2a3f5f"
          },
          "geo": {
           "bgcolor": "white",
           "lakecolor": "white",
           "landcolor": "#E5ECF6",
           "showlakes": true,
           "showland": true,
           "subunitcolor": "white"
          },
          "hoverlabel": {
           "align": "left"
          },
          "hovermode": "closest",
          "mapbox": {
           "style": "light"
          },
          "paper_bgcolor": "white",
          "plot_bgcolor": "#E5ECF6",
          "polar": {
           "angularaxis": {
            "gridcolor": "white",
            "linecolor": "white",
            "ticks": ""
           },
           "bgcolor": "#E5ECF6",
           "radialaxis": {
            "gridcolor": "white",
            "linecolor": "white",
            "ticks": ""
           }
          },
          "scene": {
           "xaxis": {
            "backgroundcolor": "#E5ECF6",
            "gridcolor": "white",
            "gridwidth": 2,
            "linecolor": "white",
            "showbackground": true,
            "ticks": "",
            "zerolinecolor": "white"
           },
           "yaxis": {
            "backgroundcolor": "#E5ECF6",
            "gridcolor": "white",
            "gridwidth": 2,
            "linecolor": "white",
            "showbackground": true,
            "ticks": "",
            "zerolinecolor": "white"
           },
           "zaxis": {
            "backgroundcolor": "#E5ECF6",
            "gridcolor": "white",
            "gridwidth": 2,
            "linecolor": "white",
            "showbackground": true,
            "ticks": "",
            "zerolinecolor": "white"
           }
          },
          "shapedefaults": {
           "line": {
            "color": "#2a3f5f"
           }
          },
          "ternary": {
           "aaxis": {
            "gridcolor": "white",
            "linecolor": "white",
            "ticks": ""
           },
           "baxis": {
            "gridcolor": "white",
            "linecolor": "white",
            "ticks": ""
           },
           "bgcolor": "#E5ECF6",
           "caxis": {
            "gridcolor": "white",
            "linecolor": "white",
            "ticks": ""
           }
          },
          "title": {
           "x": 0.05
          },
          "xaxis": {
           "automargin": true,
           "gridcolor": "white",
           "linecolor": "white",
           "ticks": "",
           "title": {
            "standoff": 15
           },
           "zerolinecolor": "white",
           "zerolinewidth": 2
          },
          "yaxis": {
           "automargin": true,
           "gridcolor": "white",
           "linecolor": "white",
           "ticks": "",
           "title": {
            "standoff": 15
           },
           "zerolinecolor": "white",
           "zerolinewidth": 2
          }
         }
        },
        "width": 1000
       }
      }
     },
     "metadata": {},
     "output_type": "display_data"
    }
   ],
   "source": [
    "\n",
    "import plotly.express as px\n",
    "\n",
    "fig = (px.choropleth_mapbox(\n",
    "                    df_points, \n",
    "                    geojson=geojson_obj, \n",
    "                    locations='h3_res', \n",
    "                    color='val',\n",
    "                    color_continuous_scale=\"Viridis\",\n",
    "                    range_color=(0,df_points['val'].mean()+4000),\n",
    "                    mapbox_style='carto-positron',\n",
    "                    zoom=7,\n",
    "                    center = {\"lat\": 62.1023, \"lon\": -83.54},\n",
    "                    opacity=0.5,\n",
    "                    # labels={'Kommuner':'Peak Power Kommuner'\n",
    "))\n",
    "\n",
    "fig.update_layout(margin={\"r\":0,\"t\":0,\"l\":0,\"b\":0})\n",
    "fig.update_layout(autosize=False,width=1000,height=1200)\n",
    "fig.show()"
   ]
  }
 ],
 "metadata": {
  "kernelspec": {
   "display_name": "venv",
   "language": "python",
   "name": "python3"
  },
  "language_info": {
   "codemirror_mode": {
    "name": "ipython",
    "version": 3
   },
   "file_extension": ".py",
   "mimetype": "text/x-python",
   "name": "python",
   "nbconvert_exporter": "python",
   "pygments_lexer": "ipython3",
   "version": "3.11.6"
  }
 },
 "nbformat": 4,
 "nbformat_minor": 2
}
